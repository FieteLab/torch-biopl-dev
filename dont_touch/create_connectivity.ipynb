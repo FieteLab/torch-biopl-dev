{
 "cells": [
  {
   "cell_type": "code",
   "execution_count": 37,
   "metadata": {},
   "outputs": [],
   "source": [
    "import numpy as np\n",
    "import pandas as pd\n",
    "import torch\n",
    "\n",
    "from bioplnn.utils import create_sparse_projection, load_array, load_tensor"
   ]
  },
  {
   "cell_type": "markdown",
   "metadata": {},
   "source": [
    "### Connectome"
   ]
  },
  {
   "cell_type": "code",
   "execution_count": 38,
   "metadata": {},
   "outputs": [
    {
     "name": "stdout",
     "output_type": "stream",
     "text": [
      "connectome.shape: torch.Size([47521, 47521])\n"
     ]
    }
   ],
   "source": [
    "connectome: torch.Tensor = torch.load(\n",
    "    \"connectivity/sunny/connectome.pt\", weights_only=True\n",
    ")\n",
    "assert connectome.shape[0] == connectome.shape[1]\n",
    "num_neurons = connectome.shape[0]\n",
    "print(f\"connectome.shape: {connectome.shape}\")"
   ]
  },
  {
   "cell_type": "markdown",
   "metadata": {},
   "source": [
    "### Input Projection"
   ]
  },
  {
   "cell_type": "code",
   "execution_count": 39,
   "metadata": {},
   "outputs": [
    {
     "name": "stdout",
     "output_type": "stream",
     "text": [
      "input_projection_matrix.shape: torch.Size([47521, 784])\n"
     ]
    }
   ],
   "source": [
    "input_projection_matrix = create_sparse_projection(\n",
    "    size=28 * 28,\n",
    "    num_neurons=47521,\n",
    "    indices=torch.randint(high=47521, size=(28 * 28,)),\n",
    "    mode=\"ih\",\n",
    ")\n",
    "torch.save(input_projection_matrix, \"connectivity/sunny/input_projection.pt\")\n",
    "\n",
    "print(f\"input_projection_matrix.shape: {input_projection_matrix.shape}\")"
   ]
  },
  {
   "cell_type": "markdown",
   "metadata": {},
   "source": [
    "### Output Projection"
   ]
  },
  {
   "cell_type": "code",
   "execution_count": 40,
   "metadata": {},
   "outputs": [
    {
     "name": "stdout",
     "output_type": "stream",
     "text": [
      "output_projection_matrix.shape: torch.Size([1000, 47521])\n"
     ]
    }
   ],
   "source": [
    "output_projection_matrix = create_sparse_projection(\n",
    "    size=1000,\n",
    "    num_neurons=47521,\n",
    "    indices=torch.randint(high=47521, size=(1000,)),\n",
    "    mode=\"ho\",\n",
    ")\n",
    "torch.save(output_projection_matrix, \"connectivity/sunny/output_projection.pt\")\n",
    "\n",
    "print(f\"output_projection_matrix.shape: {output_projection_matrix.shape}\")"
   ]
  },
  {
   "cell_type": "markdown",
   "metadata": {},
   "source": [
    "### Neuron Type"
   ]
  },
  {
   "cell_type": "markdown",
   "metadata": {},
   "source": [
    "#### Create and Save"
   ]
  },
  {
   "cell_type": "code",
   "execution_count": 53,
   "metadata": {},
   "outputs": [
    {
     "name": "stdout",
     "output_type": "stream",
     "text": [
      "neuron_type_str shape: (47521,)\n",
      "neuron_type_str unique: ['neuron_A' 'neuron_B']\n",
      "neuron_type_str dtype: <U8\n",
      "neuron_type_int shape: (47521,)\n",
      "neuron_type_int unique: [0 1]\n",
      "neuron_type_int dtype: int64\n",
      "neuron_type_tensor shape: torch.Size([47521])\n",
      "neuron_type_tensor unique: tensor([0, 1])\n",
      "neuron_type_tensor dtype: torch.int64\n",
      "neuron_type_df shape: (47521, 1)\n",
      "neuron_type_df_int shape: (47521, 1)\n"
     ]
    }
   ],
   "source": [
    "# String array\n",
    "all_indices = torch.rand(num_neurons)\n",
    "neuron_type_str = np.empty(num_neurons, dtype=object)\n",
    "neuron_type_str[all_indices < 0.5] = \"neuron_A\"\n",
    "neuron_type_str[all_indices >= 0.5] = \"neuron_B\"\n",
    "neuron_type_str = neuron_type_str.astype(np.str_)\n",
    "\n",
    "# Integer array\n",
    "neuron_type_int = np.zeros(num_neurons, dtype=int)\n",
    "neuron_type_int[neuron_type_str == \"neuron_A\"] = 0\n",
    "neuron_type_int[neuron_type_str == \"neuron_B\"] = 1\n",
    "\n",
    "# Tensor\n",
    "neuron_type_tensor = torch.tensor(neuron_type_int)\n",
    "\n",
    "# String DataFrame\n",
    "neuron_type_df = pd.DataFrame({\"neuron_type\": neuron_type_str})\n",
    "\n",
    "# Integer DataFrame\n",
    "neuron_type_df_int = pd.DataFrame({\"neuron_type\": neuron_type_int})\n",
    "\n",
    "# Print\n",
    "print(f\"neuron_type_str shape: {neuron_type_str.shape}\")\n",
    "print(f\"neuron_type_str unique: {np.unique(neuron_type_str)}\")\n",
    "print(f\"neuron_type_str dtype: {neuron_type_str.dtype}\")\n",
    "print(f\"neuron_type_int shape: {neuron_type_int.shape}\")\n",
    "print(f\"neuron_type_int unique: {np.unique(neuron_type_int)}\")\n",
    "print(f\"neuron_type_int dtype: {neuron_type_int.dtype}\")\n",
    "print(f\"neuron_type_tensor shape: {neuron_type_tensor.shape}\")\n",
    "print(f\"neuron_type_tensor unique: {torch.unique(neuron_type_tensor)}\")\n",
    "print(f\"neuron_type_tensor dtype: {neuron_type_tensor.dtype}\")\n",
    "print(f\"neuron_type_df shape: {neuron_type_df.shape}\")\n",
    "print(f\"neuron_type_df_int shape: {neuron_type_df_int.shape}\")"
   ]
  },
  {
   "cell_type": "code",
   "execution_count": 54,
   "metadata": {},
   "outputs": [],
   "source": [
    "np.save(\"connectivity/sunny/neuron_type.npy\", neuron_type_str)\n",
    "np.save(\"connectivity/sunny/neuron_type_int.npy\", neuron_type_int)\n",
    "torch.save(neuron_type_tensor, \"connectivity/sunny/neuron_type.pt\")\n",
    "neuron_type_df.to_csv(\"connectivity/sunny/neuron_type.csv\")\n",
    "neuron_type_df_int.to_csv(\"connectivity/sunny/neuron_type_int.csv\")"
   ]
  },
  {
   "cell_type": "markdown",
   "metadata": {},
   "source": [
    "#### Load as Arrays"
   ]
  },
  {
   "cell_type": "code",
   "execution_count": 56,
   "metadata": {},
   "outputs": [],
   "source": [
    "neuron_type_np = load_array(\"connectivity/sunny/neuron_type.npy\").squeeze()\n",
    "neuron_type_np_int = load_array(\n",
    "    \"connectivity/sunny/neuron_type_int.npy\"\n",
    ").squeeze()\n",
    "neuron_type_df = load_array(\"connectivity/sunny/neuron_type.csv\").squeeze()\n",
    "neuron_type_df_int = load_array(\n",
    "    \"connectivity/sunny/neuron_type_int.csv\"\n",
    ").squeeze()\n",
    "neuron_type_pt = load_array(\"connectivity/sunny/neuron_type.pt\").squeeze()"
   ]
  },
  {
   "cell_type": "code",
   "execution_count": 59,
   "metadata": {},
   "outputs": [
    {
     "name": "stdout",
     "output_type": "stream",
     "text": [
      "neuron_type_np shape: (47521,), unique: ['neuron_A' 'neuron_B']\n",
      "neuron_type_np_int shape: (47521,), unique: [0 1]\n",
      "neuron_type_df shape: (47521,), unique: ['neuron_A' 'neuron_B']\n",
      "neuron_type_df_int shape: (47521,), unique: [0 1]\n",
      "neuron_type_pt shape: (47521,), unique: [0 1]\n"
     ]
    }
   ],
   "source": [
    "assert np.all(neuron_type_np == neuron_type_df)\n",
    "assert np.all(neuron_type_np_int == neuron_type_pt)\n",
    "assert np.all(neuron_type_df_int == neuron_type_pt)\n",
    "\n",
    "print(\n",
    "    f\"neuron_type_np shape: {neuron_type_np.shape}, unique: {np.unique(neuron_type_np)}\"\n",
    ")\n",
    "print(\n",
    "    f\"neuron_type_np_int shape: {neuron_type_np_int.shape}, unique: {np.unique(neuron_type_np_int)}\"\n",
    ")\n",
    "print(\n",
    "    f\"neuron_type_df shape: {neuron_type_df.shape}, unique: {np.unique(neuron_type_df)}\"\n",
    ")\n",
    "print(\n",
    "    f\"neuron_type_df_int shape: {neuron_type_df_int.shape}, unique: {np.unique(neuron_type_df_int)}\"\n",
    ")\n",
    "print(\n",
    "    f\"neuron_type_pt shape: {neuron_type_pt.shape}, unique: {np.unique(neuron_type_pt)}\"\n",
    ")"
   ]
  },
  {
   "cell_type": "markdown",
   "metadata": {},
   "source": [
    "#### Load as Tensors"
   ]
  },
  {
   "cell_type": "code",
   "execution_count": 62,
   "metadata": {},
   "outputs": [],
   "source": [
    "neuron_type_int_np = load_tensor(\n",
    "    \"connectivity/sunny/neuron_type_int.npy\"\n",
    ").squeeze()\n",
    "neuron_type_int_df = load_tensor(\n",
    "    \"connectivity/sunny/neuron_type_int.csv\"\n",
    ").squeeze()\n",
    "neuron_type_pt = load_tensor(\"connectivity/sunny/neuron_type.pt\").squeeze()"
   ]
  },
  {
   "cell_type": "code",
   "execution_count": 65,
   "metadata": {},
   "outputs": [
    {
     "name": "stdout",
     "output_type": "stream",
     "text": [
      "neuron_type_np shape: torch.Size([47521]), unique: [0 1]\n",
      "neuron_type_df shape: torch.Size([47521]), unique: [0 1]\n",
      "neuron_type_pt shape: torch.Size([47521]), unique: [0 1]\n"
     ]
    }
   ],
   "source": [
    "assert torch.all(neuron_type_np == neuron_type_df)\n",
    "assert torch.all(neuron_type_np_int == neuron_type_pt)\n",
    "\n",
    "print(\n",
    "    f\"neuron_type_np shape: {neuron_type_np.shape}, unique: {np.unique(neuron_type_np)}\"\n",
    ")\n",
    "print(\n",
    "    f\"neuron_type_df shape: {neuron_type_df.shape}, unique: {np.unique(neuron_type_df)}\"\n",
    ")\n",
    "print(\n",
    "    f\"neuron_type_pt shape: {neuron_type_pt.shape}, unique: {np.unique(neuron_type_pt)}\"\n",
    ")"
   ]
  },
  {
   "cell_type": "markdown",
   "metadata": {},
   "source": [
    "#### Load from iterables"
   ]
  },
  {
   "cell_type": "code",
   "execution_count": 66,
   "metadata": {},
   "outputs": [
    {
     "data": {
      "text/plain": [
       "array([1, 2])"
      ]
     },
     "execution_count": 66,
     "metadata": {},
     "output_type": "execute_result"
    }
   ],
   "source": [
    "load_array([1, 2])\n",
    "load_array(np.array([1, 2]))\n",
    "load_array(pd.DataFrame({\"a\": [1, 2]}))\n",
    "load_array(pd.Series([1, 2]))\n",
    "load_array(torch.tensor([1, 2]))\n",
    "load_array(torch.tensor([[1, 2]]))\n",
    "load_array(torch.tensor([[[1, 2]]]))"
   ]
  }
 ],
 "metadata": {
  "kernelspec": {
   "display_name": "bioplnn",
   "language": "python",
   "name": "python3"
  },
  "language_info": {
   "codemirror_mode": {
    "name": "ipython",
    "version": 3
   },
   "file_extension": ".py",
   "mimetype": "text/x-python",
   "name": "python",
   "nbconvert_exporter": "python",
   "pygments_lexer": "ipython3",
   "version": "3.12.9"
  }
 },
 "nbformat": 4,
 "nbformat_minor": 2
}
