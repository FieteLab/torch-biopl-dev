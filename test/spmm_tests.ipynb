{
 "cells": [
  {
   "cell_type": "code",
   "execution_count": 1,
   "metadata": {},
   "outputs": [
    {
     "name": "stdout",
     "output_type": "stream",
     "text": [
      "Looking in links: https://data.pyg.org/whl/torch-2.0.0+cu117.html\n",
      "Requirement already satisfied: jupyter in /rdma/vast-rdma/user/valmiki/miniconda/envs/pytorch-3.10/lib/python3.10/site-packages (from -r requirements.txt (line 1)) (1.0.0)\n",
      "Requirement already satisfied: ipykernel in /rdma/vast-rdma/user/valmiki/miniconda/envs/pytorch-3.10/lib/python3.10/site-packages (from -r requirements.txt (line 2)) (6.26.0)\n",
      "Requirement already satisfied: numpy in /rdma/vast-rdma/user/valmiki/miniconda/envs/pytorch-3.10/lib/python3.10/site-packages (from -r requirements.txt (line 3)) (1.26.2)\n",
      "Requirement already satisfied: opencv-python in /rdma/vast-rdma/user/valmiki/miniconda/envs/pytorch-3.10/lib/python3.10/site-packages (from -r requirements.txt (line 4)) (4.8.1.78)\n",
      "Requirement already satisfied: torch==2.0.1 in /rdma/vast-rdma/user/valmiki/miniconda/envs/pytorch-3.10/lib/python3.10/site-packages (from -r requirements.txt (line 5)) (2.0.1)\n",
      "Requirement already satisfied: torchvision==0.15.2 in /rdma/vast-rdma/user/valmiki/miniconda/envs/pytorch-3.10/lib/python3.10/site-packages (from -r requirements.txt (line 6)) (0.15.2)\n",
      "Requirement already satisfied: torchaudio==2.0.2 in /rdma/vast-rdma/user/valmiki/miniconda/envs/pytorch-3.10/lib/python3.10/site-packages (from -r requirements.txt (line 7)) (2.0.2)\n",
      "Requirement already satisfied: torchsummary in /rdma/vast-rdma/user/valmiki/miniconda/envs/pytorch-3.10/lib/python3.10/site-packages (from -r requirements.txt (line 8)) (1.5.1)\n",
      "Requirement already satisfied: scipy in /rdma/vast-rdma/user/valmiki/miniconda/envs/pytorch-3.10/lib/python3.10/site-packages (from -r requirements.txt (line 9)) (1.11.3)\n",
      "Requirement already satisfied: scikit-learn in /rdma/vast-rdma/user/valmiki/miniconda/envs/pytorch-3.10/lib/python3.10/site-packages (from -r requirements.txt (line 10)) (1.3.2)\n",
      "Requirement already satisfied: pandas in /rdma/vast-rdma/user/valmiki/miniconda/envs/pytorch-3.10/lib/python3.10/site-packages (from -r requirements.txt (line 11)) (2.1.3)\n",
      "Requirement already satisfied: matplotlib in /rdma/vast-rdma/user/valmiki/miniconda/envs/pytorch-3.10/lib/python3.10/site-packages (from -r requirements.txt (line 12)) (3.8.1)\n",
      "Requirement already satisfied: mne in /rdma/vast-rdma/user/valmiki/miniconda/envs/pytorch-3.10/lib/python3.10/site-packages (from -r requirements.txt (line 13)) (1.5.1)\n",
      "Requirement already satisfied: wandb in /rdma/vast-rdma/user/valmiki/miniconda/envs/pytorch-3.10/lib/python3.10/site-packages (from -r requirements.txt (line 14)) (0.16.0)\n",
      "Requirement already satisfied: accelerate in /rdma/vast-rdma/user/valmiki/miniconda/envs/pytorch-3.10/lib/python3.10/site-packages (from -r requirements.txt (line 15)) (0.24.1)\n",
      "Requirement already satisfied: torch-scatter in /rdma/vast-rdma/user/valmiki/miniconda/envs/pytorch-3.10/lib/python3.10/site-packages (from -r requirements.txt (line 16)) (2.1.2+pt20cu117)\n",
      "Requirement already satisfied: torch-sparse in /rdma/vast-rdma/user/valmiki/miniconda/envs/pytorch-3.10/lib/python3.10/site-packages (from -r requirements.txt (line 17)) (0.6.18+pt20cu117)\n",
      "Requirement already satisfied: filelock in /rdma/vast-rdma/user/valmiki/miniconda/envs/pytorch-3.10/lib/python3.10/site-packages (from torch==2.0.1->-r requirements.txt (line 5)) (3.13.1)\n",
      "Requirement already satisfied: typing-extensions in /rdma/vast-rdma/user/valmiki/miniconda/envs/pytorch-3.10/lib/python3.10/site-packages (from torch==2.0.1->-r requirements.txt (line 5)) (4.8.0)\n",
      "Requirement already satisfied: sympy in /rdma/vast-rdma/user/valmiki/miniconda/envs/pytorch-3.10/lib/python3.10/site-packages (from torch==2.0.1->-r requirements.txt (line 5)) (1.12)\n",
      "Requirement already satisfied: networkx in /rdma/vast-rdma/user/valmiki/miniconda/envs/pytorch-3.10/lib/python3.10/site-packages (from torch==2.0.1->-r requirements.txt (line 5)) (3.2.1)\n",
      "Requirement already satisfied: jinja2 in /rdma/vast-rdma/user/valmiki/miniconda/envs/pytorch-3.10/lib/python3.10/site-packages (from torch==2.0.1->-r requirements.txt (line 5)) (3.1.2)\n",
      "Requirement already satisfied: nvidia-cuda-nvrtc-cu11==11.7.99 in /rdma/vast-rdma/user/valmiki/miniconda/envs/pytorch-3.10/lib/python3.10/site-packages (from torch==2.0.1->-r requirements.txt (line 5)) (11.7.99)\n",
      "Requirement already satisfied: nvidia-cuda-runtime-cu11==11.7.99 in /rdma/vast-rdma/user/valmiki/miniconda/envs/pytorch-3.10/lib/python3.10/site-packages (from torch==2.0.1->-r requirements.txt (line 5)) (11.7.99)\n",
      "Requirement already satisfied: nvidia-cuda-cupti-cu11==11.7.101 in /rdma/vast-rdma/user/valmiki/miniconda/envs/pytorch-3.10/lib/python3.10/site-packages (from torch==2.0.1->-r requirements.txt (line 5)) (11.7.101)\n",
      "Requirement already satisfied: nvidia-cudnn-cu11==8.5.0.96 in /rdma/vast-rdma/user/valmiki/miniconda/envs/pytorch-3.10/lib/python3.10/site-packages (from torch==2.0.1->-r requirements.txt (line 5)) (8.5.0.96)\n",
      "Requirement already satisfied: nvidia-cublas-cu11==11.10.3.66 in /rdma/vast-rdma/user/valmiki/miniconda/envs/pytorch-3.10/lib/python3.10/site-packages (from torch==2.0.1->-r requirements.txt (line 5)) (11.10.3.66)\n",
      "Requirement already satisfied: nvidia-cufft-cu11==10.9.0.58 in /rdma/vast-rdma/user/valmiki/miniconda/envs/pytorch-3.10/lib/python3.10/site-packages (from torch==2.0.1->-r requirements.txt (line 5)) (10.9.0.58)\n",
      "Requirement already satisfied: nvidia-curand-cu11==10.2.10.91 in /rdma/vast-rdma/user/valmiki/miniconda/envs/pytorch-3.10/lib/python3.10/site-packages (from torch==2.0.1->-r requirements.txt (line 5)) (10.2.10.91)\n",
      "Requirement already satisfied: nvidia-cusolver-cu11==11.4.0.1 in /rdma/vast-rdma/user/valmiki/miniconda/envs/pytorch-3.10/lib/python3.10/site-packages (from torch==2.0.1->-r requirements.txt (line 5)) (11.4.0.1)\n",
      "Requirement already satisfied: nvidia-cusparse-cu11==11.7.4.91 in /rdma/vast-rdma/user/valmiki/miniconda/envs/pytorch-3.10/lib/python3.10/site-packages (from torch==2.0.1->-r requirements.txt (line 5)) (11.7.4.91)\n",
      "Requirement already satisfied: nvidia-nccl-cu11==2.14.3 in /rdma/vast-rdma/user/valmiki/miniconda/envs/pytorch-3.10/lib/python3.10/site-packages (from torch==2.0.1->-r requirements.txt (line 5)) (2.14.3)\n",
      "Requirement already satisfied: nvidia-nvtx-cu11==11.7.91 in /rdma/vast-rdma/user/valmiki/miniconda/envs/pytorch-3.10/lib/python3.10/site-packages (from torch==2.0.1->-r requirements.txt (line 5)) (11.7.91)\n",
      "Requirement already satisfied: triton==2.0.0 in /rdma/vast-rdma/user/valmiki/miniconda/envs/pytorch-3.10/lib/python3.10/site-packages (from torch==2.0.1->-r requirements.txt (line 5)) (2.0.0)\n",
      "Requirement already satisfied: requests in /rdma/vast-rdma/user/valmiki/miniconda/envs/pytorch-3.10/lib/python3.10/site-packages (from torchvision==0.15.2->-r requirements.txt (line 6)) (2.31.0)\n",
      "Requirement already satisfied: pillow!=8.3.*,>=5.3.0 in /rdma/vast-rdma/user/valmiki/miniconda/envs/pytorch-3.10/lib/python3.10/site-packages (from torchvision==0.15.2->-r requirements.txt (line 6)) (10.1.0)\n",
      "Requirement already satisfied: setuptools in /rdma/vast-rdma/user/valmiki/miniconda/envs/pytorch-3.10/lib/python3.10/site-packages (from nvidia-cublas-cu11==11.10.3.66->torch==2.0.1->-r requirements.txt (line 5)) (68.2.2)\n",
      "Requirement already satisfied: wheel in /rdma/vast-rdma/user/valmiki/miniconda/envs/pytorch-3.10/lib/python3.10/site-packages (from nvidia-cublas-cu11==11.10.3.66->torch==2.0.1->-r requirements.txt (line 5)) (0.41.3)\n",
      "Requirement already satisfied: cmake in /rdma/vast-rdma/user/valmiki/miniconda/envs/pytorch-3.10/lib/python3.10/site-packages (from triton==2.0.0->torch==2.0.1->-r requirements.txt (line 5)) (3.27.7)\n",
      "Requirement already satisfied: lit in /rdma/vast-rdma/user/valmiki/miniconda/envs/pytorch-3.10/lib/python3.10/site-packages (from triton==2.0.0->torch==2.0.1->-r requirements.txt (line 5)) (17.0.5)\n",
      "Requirement already satisfied: notebook in /rdma/vast-rdma/user/valmiki/miniconda/envs/pytorch-3.10/lib/python3.10/site-packages (from jupyter->-r requirements.txt (line 1)) (7.0.6)\n",
      "Requirement already satisfied: qtconsole in /rdma/vast-rdma/user/valmiki/miniconda/envs/pytorch-3.10/lib/python3.10/site-packages (from jupyter->-r requirements.txt (line 1)) (5.5.1)\n",
      "Requirement already satisfied: jupyter-console in /rdma/vast-rdma/user/valmiki/miniconda/envs/pytorch-3.10/lib/python3.10/site-packages (from jupyter->-r requirements.txt (line 1)) (6.6.3)\n",
      "Requirement already satisfied: nbconvert in /rdma/vast-rdma/user/valmiki/miniconda/envs/pytorch-3.10/lib/python3.10/site-packages (from jupyter->-r requirements.txt (line 1)) (7.11.0)\n",
      "Requirement already satisfied: ipywidgets in /rdma/vast-rdma/user/valmiki/miniconda/envs/pytorch-3.10/lib/python3.10/site-packages (from jupyter->-r requirements.txt (line 1)) (8.1.1)\n",
      "Requirement already satisfied: comm>=0.1.1 in /rdma/vast-rdma/user/valmiki/miniconda/envs/pytorch-3.10/lib/python3.10/site-packages (from ipykernel->-r requirements.txt (line 2)) (0.2.0)\n",
      "Requirement already satisfied: debugpy>=1.6.5 in /rdma/vast-rdma/user/valmiki/miniconda/envs/pytorch-3.10/lib/python3.10/site-packages (from ipykernel->-r requirements.txt (line 2)) (1.8.0)\n",
      "Requirement already satisfied: ipython>=7.23.1 in /rdma/vast-rdma/user/valmiki/miniconda/envs/pytorch-3.10/lib/python3.10/site-packages (from ipykernel->-r requirements.txt (line 2)) (8.17.2)\n",
      "Requirement already satisfied: jupyter-client>=6.1.12 in /rdma/vast-rdma/user/valmiki/miniconda/envs/pytorch-3.10/lib/python3.10/site-packages (from ipykernel->-r requirements.txt (line 2)) (8.6.0)\n",
      "Requirement already satisfied: jupyter-core!=5.0.*,>=4.12 in /rdma/vast-rdma/user/valmiki/miniconda/envs/pytorch-3.10/lib/python3.10/site-packages (from ipykernel->-r requirements.txt (line 2)) (5.5.0)\n",
      "Requirement already satisfied: matplotlib-inline>=0.1 in /rdma/vast-rdma/user/valmiki/miniconda/envs/pytorch-3.10/lib/python3.10/site-packages (from ipykernel->-r requirements.txt (line 2)) (0.1.6)\n",
      "Requirement already satisfied: nest-asyncio in /rdma/vast-rdma/user/valmiki/miniconda/envs/pytorch-3.10/lib/python3.10/site-packages (from ipykernel->-r requirements.txt (line 2)) (1.5.8)\n",
      "Requirement already satisfied: packaging in /rdma/vast-rdma/user/valmiki/miniconda/envs/pytorch-3.10/lib/python3.10/site-packages (from ipykernel->-r requirements.txt (line 2)) (23.2)\n",
      "Requirement already satisfied: psutil in /rdma/vast-rdma/user/valmiki/miniconda/envs/pytorch-3.10/lib/python3.10/site-packages (from ipykernel->-r requirements.txt (line 2)) (5.9.6)\n",
      "Requirement already satisfied: pyzmq>=20 in /rdma/vast-rdma/user/valmiki/miniconda/envs/pytorch-3.10/lib/python3.10/site-packages (from ipykernel->-r requirements.txt (line 2)) (25.1.1)\n",
      "Requirement already satisfied: tornado>=6.1 in /rdma/vast-rdma/user/valmiki/miniconda/envs/pytorch-3.10/lib/python3.10/site-packages (from ipykernel->-r requirements.txt (line 2)) (6.3.3)\n",
      "Requirement already satisfied: traitlets>=5.4.0 in /rdma/vast-rdma/user/valmiki/miniconda/envs/pytorch-3.10/lib/python3.10/site-packages (from ipykernel->-r requirements.txt (line 2)) (5.13.0)\n",
      "Requirement already satisfied: joblib>=1.1.1 in /rdma/vast-rdma/user/valmiki/miniconda/envs/pytorch-3.10/lib/python3.10/site-packages (from scikit-learn->-r requirements.txt (line 10)) (1.3.2)\n",
      "Requirement already satisfied: threadpoolctl>=2.0.0 in /rdma/vast-rdma/user/valmiki/miniconda/envs/pytorch-3.10/lib/python3.10/site-packages (from scikit-learn->-r requirements.txt (line 10)) (3.2.0)\n",
      "Requirement already satisfied: python-dateutil>=2.8.2 in /rdma/vast-rdma/user/valmiki/miniconda/envs/pytorch-3.10/lib/python3.10/site-packages (from pandas->-r requirements.txt (line 11)) (2.8.2)\n",
      "Requirement already satisfied: pytz>=2020.1 in /rdma/vast-rdma/user/valmiki/miniconda/envs/pytorch-3.10/lib/python3.10/site-packages (from pandas->-r requirements.txt (line 11)) (2023.3.post1)\n",
      "Requirement already satisfied: tzdata>=2022.1 in /rdma/vast-rdma/user/valmiki/miniconda/envs/pytorch-3.10/lib/python3.10/site-packages (from pandas->-r requirements.txt (line 11)) (2023.3)\n",
      "Requirement already satisfied: contourpy>=1.0.1 in /rdma/vast-rdma/user/valmiki/miniconda/envs/pytorch-3.10/lib/python3.10/site-packages (from matplotlib->-r requirements.txt (line 12)) (1.2.0)\n",
      "Requirement already satisfied: cycler>=0.10 in /rdma/vast-rdma/user/valmiki/miniconda/envs/pytorch-3.10/lib/python3.10/site-packages (from matplotlib->-r requirements.txt (line 12)) (0.12.1)\n",
      "Requirement already satisfied: fonttools>=4.22.0 in /rdma/vast-rdma/user/valmiki/miniconda/envs/pytorch-3.10/lib/python3.10/site-packages (from matplotlib->-r requirements.txt (line 12)) (4.44.3)\n",
      "Requirement already satisfied: kiwisolver>=1.3.1 in /rdma/vast-rdma/user/valmiki/miniconda/envs/pytorch-3.10/lib/python3.10/site-packages (from matplotlib->-r requirements.txt (line 12)) (1.4.5)\n",
      "Requirement already satisfied: pyparsing>=2.3.1 in /rdma/vast-rdma/user/valmiki/miniconda/envs/pytorch-3.10/lib/python3.10/site-packages (from matplotlib->-r requirements.txt (line 12)) (3.1.1)\n",
      "Requirement already satisfied: tqdm in /rdma/vast-rdma/user/valmiki/miniconda/envs/pytorch-3.10/lib/python3.10/site-packages (from mne->-r requirements.txt (line 13)) (4.66.1)\n",
      "Requirement already satisfied: pooch>=1.5 in /rdma/vast-rdma/user/valmiki/miniconda/envs/pytorch-3.10/lib/python3.10/site-packages (from mne->-r requirements.txt (line 13)) (1.8.0)\n",
      "Requirement already satisfied: decorator in /rdma/vast-rdma/user/valmiki/miniconda/envs/pytorch-3.10/lib/python3.10/site-packages (from mne->-r requirements.txt (line 13)) (5.1.1)\n",
      "Requirement already satisfied: Click!=8.0.0,>=7.1 in /rdma/vast-rdma/user/valmiki/miniconda/envs/pytorch-3.10/lib/python3.10/site-packages (from wandb->-r requirements.txt (line 14)) (8.1.7)\n",
      "Requirement already satisfied: GitPython!=3.1.29,>=1.0.0 in /rdma/vast-rdma/user/valmiki/miniconda/envs/pytorch-3.10/lib/python3.10/site-packages (from wandb->-r requirements.txt (line 14)) (3.1.40)\n",
      "Requirement already satisfied: sentry-sdk>=1.0.0 in /rdma/vast-rdma/user/valmiki/miniconda/envs/pytorch-3.10/lib/python3.10/site-packages (from wandb->-r requirements.txt (line 14)) (1.35.0)\n",
      "Requirement already satisfied: docker-pycreds>=0.4.0 in /rdma/vast-rdma/user/valmiki/miniconda/envs/pytorch-3.10/lib/python3.10/site-packages (from wandb->-r requirements.txt (line 14)) (0.4.0)\n",
      "Requirement already satisfied: PyYAML in /rdma/vast-rdma/user/valmiki/miniconda/envs/pytorch-3.10/lib/python3.10/site-packages (from wandb->-r requirements.txt (line 14)) (6.0.1)\n",
      "Requirement already satisfied: setproctitle in /rdma/vast-rdma/user/valmiki/miniconda/envs/pytorch-3.10/lib/python3.10/site-packages (from wandb->-r requirements.txt (line 14)) (1.3.3)\n",
      "Requirement already satisfied: appdirs>=1.4.3 in /rdma/vast-rdma/user/valmiki/miniconda/envs/pytorch-3.10/lib/python3.10/site-packages (from wandb->-r requirements.txt (line 14)) (1.4.4)\n",
      "Requirement already satisfied: protobuf!=4.21.0,<5,>=3.19.0 in /rdma/vast-rdma/user/valmiki/miniconda/envs/pytorch-3.10/lib/python3.10/site-packages (from wandb->-r requirements.txt (line 14)) (4.25.1)\n",
      "Requirement already satisfied: huggingface-hub in /rdma/vast-rdma/user/valmiki/miniconda/envs/pytorch-3.10/lib/python3.10/site-packages (from accelerate->-r requirements.txt (line 15)) (0.19.4)\n",
      "Requirement already satisfied: six>=1.4.0 in /rdma/vast-rdma/user/valmiki/miniconda/envs/pytorch-3.10/lib/python3.10/site-packages (from docker-pycreds>=0.4.0->wandb->-r requirements.txt (line 14)) (1.16.0)\n",
      "Requirement already satisfied: gitdb<5,>=4.0.1 in /rdma/vast-rdma/user/valmiki/miniconda/envs/pytorch-3.10/lib/python3.10/site-packages (from GitPython!=3.1.29,>=1.0.0->wandb->-r requirements.txt (line 14)) (4.0.11)\n",
      "Requirement already satisfied: jedi>=0.16 in /rdma/vast-rdma/user/valmiki/miniconda/envs/pytorch-3.10/lib/python3.10/site-packages (from ipython>=7.23.1->ipykernel->-r requirements.txt (line 2)) (0.19.1)\n",
      "Requirement already satisfied: prompt-toolkit!=3.0.37,<3.1.0,>=3.0.30 in /rdma/vast-rdma/user/valmiki/miniconda/envs/pytorch-3.10/lib/python3.10/site-packages (from ipython>=7.23.1->ipykernel->-r requirements.txt (line 2)) (3.0.41)\n",
      "Requirement already satisfied: pygments>=2.4.0 in /rdma/vast-rdma/user/valmiki/miniconda/envs/pytorch-3.10/lib/python3.10/site-packages (from ipython>=7.23.1->ipykernel->-r requirements.txt (line 2)) (2.16.1)\n",
      "Requirement already satisfied: stack-data in /rdma/vast-rdma/user/valmiki/miniconda/envs/pytorch-3.10/lib/python3.10/site-packages (from ipython>=7.23.1->ipykernel->-r requirements.txt (line 2)) (0.6.3)\n",
      "Requirement already satisfied: exceptiongroup in /rdma/vast-rdma/user/valmiki/miniconda/envs/pytorch-3.10/lib/python3.10/site-packages (from ipython>=7.23.1->ipykernel->-r requirements.txt (line 2)) (1.1.3)\n",
      "Requirement already satisfied: pexpect>4.3 in /rdma/vast-rdma/user/valmiki/miniconda/envs/pytorch-3.10/lib/python3.10/site-packages (from ipython>=7.23.1->ipykernel->-r requirements.txt (line 2)) (4.8.0)\n",
      "Requirement already satisfied: platformdirs>=2.5 in /rdma/vast-rdma/user/valmiki/miniconda/envs/pytorch-3.10/lib/python3.10/site-packages (from jupyter-core!=5.0.*,>=4.12->ipykernel->-r requirements.txt (line 2)) (4.0.0)\n",
      "Requirement already satisfied: charset-normalizer<4,>=2 in /rdma/vast-rdma/user/valmiki/miniconda/envs/pytorch-3.10/lib/python3.10/site-packages (from requests->torchvision==0.15.2->-r requirements.txt (line 6)) (3.3.2)\n",
      "Requirement already satisfied: idna<4,>=2.5 in /rdma/vast-rdma/user/valmiki/miniconda/envs/pytorch-3.10/lib/python3.10/site-packages (from requests->torchvision==0.15.2->-r requirements.txt (line 6)) (3.4)\n",
      "Requirement already satisfied: urllib3<3,>=1.21.1 in /rdma/vast-rdma/user/valmiki/miniconda/envs/pytorch-3.10/lib/python3.10/site-packages (from requests->torchvision==0.15.2->-r requirements.txt (line 6)) (2.1.0)\n",
      "Requirement already satisfied: certifi>=2017.4.17 in /rdma/vast-rdma/user/valmiki/miniconda/envs/pytorch-3.10/lib/python3.10/site-packages (from requests->torchvision==0.15.2->-r requirements.txt (line 6)) (2023.7.22)\n",
      "Requirement already satisfied: fsspec>=2023.5.0 in /rdma/vast-rdma/user/valmiki/miniconda/envs/pytorch-3.10/lib/python3.10/site-packages (from huggingface-hub->accelerate->-r requirements.txt (line 15)) (2023.10.0)\n",
      "Requirement already satisfied: widgetsnbextension~=4.0.9 in /rdma/vast-rdma/user/valmiki/miniconda/envs/pytorch-3.10/lib/python3.10/site-packages (from ipywidgets->jupyter->-r requirements.txt (line 1)) (4.0.9)\n",
      "Requirement already satisfied: jupyterlab-widgets~=3.0.9 in /rdma/vast-rdma/user/valmiki/miniconda/envs/pytorch-3.10/lib/python3.10/site-packages (from ipywidgets->jupyter->-r requirements.txt (line 1)) (3.0.9)\n",
      "Requirement already satisfied: MarkupSafe>=2.0 in /rdma/vast-rdma/user/valmiki/miniconda/envs/pytorch-3.10/lib/python3.10/site-packages (from jinja2->torch==2.0.1->-r requirements.txt (line 5)) (2.1.3)\n",
      "Requirement already satisfied: beautifulsoup4 in /rdma/vast-rdma/user/valmiki/miniconda/envs/pytorch-3.10/lib/python3.10/site-packages (from nbconvert->jupyter->-r requirements.txt (line 1)) (4.12.2)\n",
      "Requirement already satisfied: bleach!=5.0.0 in /rdma/vast-rdma/user/valmiki/miniconda/envs/pytorch-3.10/lib/python3.10/site-packages (from nbconvert->jupyter->-r requirements.txt (line 1)) (6.1.0)\n",
      "Requirement already satisfied: defusedxml in /rdma/vast-rdma/user/valmiki/miniconda/envs/pytorch-3.10/lib/python3.10/site-packages (from nbconvert->jupyter->-r requirements.txt (line 1)) (0.7.1)\n",
      "Requirement already satisfied: jupyterlab-pygments in /rdma/vast-rdma/user/valmiki/miniconda/envs/pytorch-3.10/lib/python3.10/site-packages (from nbconvert->jupyter->-r requirements.txt (line 1)) (0.2.2)\n",
      "Requirement already satisfied: mistune<4,>=2.0.3 in /rdma/vast-rdma/user/valmiki/miniconda/envs/pytorch-3.10/lib/python3.10/site-packages (from nbconvert->jupyter->-r requirements.txt (line 1)) (3.0.2)\n",
      "Requirement already satisfied: nbclient>=0.5.0 in /rdma/vast-rdma/user/valmiki/miniconda/envs/pytorch-3.10/lib/python3.10/site-packages (from nbconvert->jupyter->-r requirements.txt (line 1)) (0.9.0)\n",
      "Requirement already satisfied: nbformat>=5.7 in /rdma/vast-rdma/user/valmiki/miniconda/envs/pytorch-3.10/lib/python3.10/site-packages (from nbconvert->jupyter->-r requirements.txt (line 1)) (5.9.2)\n",
      "Requirement already satisfied: pandocfilters>=1.4.1 in /rdma/vast-rdma/user/valmiki/miniconda/envs/pytorch-3.10/lib/python3.10/site-packages (from nbconvert->jupyter->-r requirements.txt (line 1)) (1.5.0)\n",
      "Requirement already satisfied: tinycss2 in /rdma/vast-rdma/user/valmiki/miniconda/envs/pytorch-3.10/lib/python3.10/site-packages (from nbconvert->jupyter->-r requirements.txt (line 1)) (1.2.1)\n",
      "Requirement already satisfied: jupyter-server<3,>=2.4.0 in /rdma/vast-rdma/user/valmiki/miniconda/envs/pytorch-3.10/lib/python3.10/site-packages (from notebook->jupyter->-r requirements.txt (line 1)) (2.10.1)\n",
      "Requirement already satisfied: jupyterlab-server<3,>=2.22.1 in /rdma/vast-rdma/user/valmiki/miniconda/envs/pytorch-3.10/lib/python3.10/site-packages (from notebook->jupyter->-r requirements.txt (line 1)) (2.25.1)\n",
      "Requirement already satisfied: jupyterlab<5,>=4.0.2 in /rdma/vast-rdma/user/valmiki/miniconda/envs/pytorch-3.10/lib/python3.10/site-packages (from notebook->jupyter->-r requirements.txt (line 1)) (4.0.8)\n",
      "Requirement already satisfied: notebook-shim<0.3,>=0.2 in /rdma/vast-rdma/user/valmiki/miniconda/envs/pytorch-3.10/lib/python3.10/site-packages (from notebook->jupyter->-r requirements.txt (line 1)) (0.2.3)\n",
      "Requirement already satisfied: qtpy>=2.4.0 in /rdma/vast-rdma/user/valmiki/miniconda/envs/pytorch-3.10/lib/python3.10/site-packages (from qtconsole->jupyter->-r requirements.txt (line 1)) (2.4.1)\n",
      "Requirement already satisfied: mpmath>=0.19 in /rdma/vast-rdma/user/valmiki/miniconda/envs/pytorch-3.10/lib/python3.10/site-packages (from sympy->torch==2.0.1->-r requirements.txt (line 5)) (1.3.0)\n",
      "Requirement already satisfied: webencodings in /rdma/vast-rdma/user/valmiki/miniconda/envs/pytorch-3.10/lib/python3.10/site-packages (from bleach!=5.0.0->nbconvert->jupyter->-r requirements.txt (line 1)) (0.5.1)\n",
      "Requirement already satisfied: smmap<6,>=3.0.1 in /rdma/vast-rdma/user/valmiki/miniconda/envs/pytorch-3.10/lib/python3.10/site-packages (from gitdb<5,>=4.0.1->GitPython!=3.1.29,>=1.0.0->wandb->-r requirements.txt (line 14)) (5.0.1)\n",
      "Requirement already satisfied: parso<0.9.0,>=0.8.3 in /rdma/vast-rdma/user/valmiki/miniconda/envs/pytorch-3.10/lib/python3.10/site-packages (from jedi>=0.16->ipython>=7.23.1->ipykernel->-r requirements.txt (line 2)) (0.8.3)\n",
      "Requirement already satisfied: anyio>=3.1.0 in /rdma/vast-rdma/user/valmiki/miniconda/envs/pytorch-3.10/lib/python3.10/site-packages (from jupyter-server<3,>=2.4.0->notebook->jupyter->-r requirements.txt (line 1)) (4.0.0)\n",
      "Requirement already satisfied: argon2-cffi in /rdma/vast-rdma/user/valmiki/miniconda/envs/pytorch-3.10/lib/python3.10/site-packages (from jupyter-server<3,>=2.4.0->notebook->jupyter->-r requirements.txt (line 1)) (23.1.0)\n",
      "Requirement already satisfied: jupyter-events>=0.9.0 in /rdma/vast-rdma/user/valmiki/miniconda/envs/pytorch-3.10/lib/python3.10/site-packages (from jupyter-server<3,>=2.4.0->notebook->jupyter->-r requirements.txt (line 1)) (0.9.0)\n",
      "Requirement already satisfied: jupyter-server-terminals in /rdma/vast-rdma/user/valmiki/miniconda/envs/pytorch-3.10/lib/python3.10/site-packages (from jupyter-server<3,>=2.4.0->notebook->jupyter->-r requirements.txt (line 1)) (0.4.4)\n",
      "Requirement already satisfied: overrides in /rdma/vast-rdma/user/valmiki/miniconda/envs/pytorch-3.10/lib/python3.10/site-packages (from jupyter-server<3,>=2.4.0->notebook->jupyter->-r requirements.txt (line 1)) (7.4.0)\n",
      "Requirement already satisfied: prometheus-client in /rdma/vast-rdma/user/valmiki/miniconda/envs/pytorch-3.10/lib/python3.10/site-packages (from jupyter-server<3,>=2.4.0->notebook->jupyter->-r requirements.txt (line 1)) (0.18.0)\n",
      "Requirement already satisfied: send2trash>=1.8.2 in /rdma/vast-rdma/user/valmiki/miniconda/envs/pytorch-3.10/lib/python3.10/site-packages (from jupyter-server<3,>=2.4.0->notebook->jupyter->-r requirements.txt (line 1)) (1.8.2)\n",
      "Requirement already satisfied: terminado>=0.8.3 in /rdma/vast-rdma/user/valmiki/miniconda/envs/pytorch-3.10/lib/python3.10/site-packages (from jupyter-server<3,>=2.4.0->notebook->jupyter->-r requirements.txt (line 1)) (0.18.0)\n",
      "Requirement already satisfied: websocket-client in /rdma/vast-rdma/user/valmiki/miniconda/envs/pytorch-3.10/lib/python3.10/site-packages (from jupyter-server<3,>=2.4.0->notebook->jupyter->-r requirements.txt (line 1)) (1.6.4)\n",
      "Requirement already satisfied: async-lru>=1.0.0 in /rdma/vast-rdma/user/valmiki/miniconda/envs/pytorch-3.10/lib/python3.10/site-packages (from jupyterlab<5,>=4.0.2->notebook->jupyter->-r requirements.txt (line 1)) (2.0.4)\n",
      "Requirement already satisfied: jupyter-lsp>=2.0.0 in /rdma/vast-rdma/user/valmiki/miniconda/envs/pytorch-3.10/lib/python3.10/site-packages (from jupyterlab<5,>=4.0.2->notebook->jupyter->-r requirements.txt (line 1)) (2.2.0)\n",
      "Requirement already satisfied: tomli in /rdma/vast-rdma/user/valmiki/miniconda/envs/pytorch-3.10/lib/python3.10/site-packages (from jupyterlab<5,>=4.0.2->notebook->jupyter->-r requirements.txt (line 1)) (2.0.1)\n",
      "Requirement already satisfied: babel>=2.10 in /rdma/vast-rdma/user/valmiki/miniconda/envs/pytorch-3.10/lib/python3.10/site-packages (from jupyterlab-server<3,>=2.22.1->notebook->jupyter->-r requirements.txt (line 1)) (2.13.1)\n",
      "Requirement already satisfied: json5>=0.9.0 in /rdma/vast-rdma/user/valmiki/miniconda/envs/pytorch-3.10/lib/python3.10/site-packages (from jupyterlab-server<3,>=2.22.1->notebook->jupyter->-r requirements.txt (line 1)) (0.9.14)\n",
      "Requirement already satisfied: jsonschema>=4.18.0 in /rdma/vast-rdma/user/valmiki/miniconda/envs/pytorch-3.10/lib/python3.10/site-packages (from jupyterlab-server<3,>=2.22.1->notebook->jupyter->-r requirements.txt (line 1)) (4.20.0)\n",
      "Requirement already satisfied: fastjsonschema in /rdma/vast-rdma/user/valmiki/miniconda/envs/pytorch-3.10/lib/python3.10/site-packages (from nbformat>=5.7->nbconvert->jupyter->-r requirements.txt (line 1)) (2.19.0)\n",
      "Requirement already satisfied: ptyprocess>=0.5 in /rdma/vast-rdma/user/valmiki/miniconda/envs/pytorch-3.10/lib/python3.10/site-packages (from pexpect>4.3->ipython>=7.23.1->ipykernel->-r requirements.txt (line 2)) (0.7.0)\n",
      "Requirement already satisfied: wcwidth in /rdma/vast-rdma/user/valmiki/miniconda/envs/pytorch-3.10/lib/python3.10/site-packages (from prompt-toolkit!=3.0.37,<3.1.0,>=3.0.30->ipython>=7.23.1->ipykernel->-r requirements.txt (line 2)) (0.2.10)\n",
      "Requirement already satisfied: soupsieve>1.2 in /rdma/vast-rdma/user/valmiki/miniconda/envs/pytorch-3.10/lib/python3.10/site-packages (from beautifulsoup4->nbconvert->jupyter->-r requirements.txt (line 1)) (2.5)\n",
      "Requirement already satisfied: executing>=1.2.0 in /rdma/vast-rdma/user/valmiki/miniconda/envs/pytorch-3.10/lib/python3.10/site-packages (from stack-data->ipython>=7.23.1->ipykernel->-r requirements.txt (line 2)) (2.0.1)\n",
      "Requirement already satisfied: asttokens>=2.1.0 in /rdma/vast-rdma/user/valmiki/miniconda/envs/pytorch-3.10/lib/python3.10/site-packages (from stack-data->ipython>=7.23.1->ipykernel->-r requirements.txt (line 2)) (2.4.1)\n",
      "Requirement already satisfied: pure-eval in /rdma/vast-rdma/user/valmiki/miniconda/envs/pytorch-3.10/lib/python3.10/site-packages (from stack-data->ipython>=7.23.1->ipykernel->-r requirements.txt (line 2)) (0.2.2)\n",
      "Requirement already satisfied: sniffio>=1.1 in /rdma/vast-rdma/user/valmiki/miniconda/envs/pytorch-3.10/lib/python3.10/site-packages (from anyio>=3.1.0->jupyter-server<3,>=2.4.0->notebook->jupyter->-r requirements.txt (line 1)) (1.3.0)\n",
      "Requirement already satisfied: attrs>=22.2.0 in /rdma/vast-rdma/user/valmiki/miniconda/envs/pytorch-3.10/lib/python3.10/site-packages (from jsonschema>=4.18.0->jupyterlab-server<3,>=2.22.1->notebook->jupyter->-r requirements.txt (line 1)) (23.1.0)\n",
      "Requirement already satisfied: jsonschema-specifications>=2023.03.6 in /rdma/vast-rdma/user/valmiki/miniconda/envs/pytorch-3.10/lib/python3.10/site-packages (from jsonschema>=4.18.0->jupyterlab-server<3,>=2.22.1->notebook->jupyter->-r requirements.txt (line 1)) (2023.11.1)\n",
      "Requirement already satisfied: referencing>=0.28.4 in /rdma/vast-rdma/user/valmiki/miniconda/envs/pytorch-3.10/lib/python3.10/site-packages (from jsonschema>=4.18.0->jupyterlab-server<3,>=2.22.1->notebook->jupyter->-r requirements.txt (line 1)) (0.31.0)\n",
      "Requirement already satisfied: rpds-py>=0.7.1 in /rdma/vast-rdma/user/valmiki/miniconda/envs/pytorch-3.10/lib/python3.10/site-packages (from jsonschema>=4.18.0->jupyterlab-server<3,>=2.22.1->notebook->jupyter->-r requirements.txt (line 1)) (0.13.0)\n",
      "Requirement already satisfied: python-json-logger>=2.0.4 in /rdma/vast-rdma/user/valmiki/miniconda/envs/pytorch-3.10/lib/python3.10/site-packages (from jupyter-events>=0.9.0->jupyter-server<3,>=2.4.0->notebook->jupyter->-r requirements.txt (line 1)) (2.0.7)\n",
      "Requirement already satisfied: rfc3339-validator in /rdma/vast-rdma/user/valmiki/miniconda/envs/pytorch-3.10/lib/python3.10/site-packages (from jupyter-events>=0.9.0->jupyter-server<3,>=2.4.0->notebook->jupyter->-r requirements.txt (line 1)) (0.1.4)\n",
      "Requirement already satisfied: rfc3986-validator>=0.1.1 in /rdma/vast-rdma/user/valmiki/miniconda/envs/pytorch-3.10/lib/python3.10/site-packages (from jupyter-events>=0.9.0->jupyter-server<3,>=2.4.0->notebook->jupyter->-r requirements.txt (line 1)) (0.1.1)\n",
      "Requirement already satisfied: argon2-cffi-bindings in /rdma/vast-rdma/user/valmiki/miniconda/envs/pytorch-3.10/lib/python3.10/site-packages (from argon2-cffi->jupyter-server<3,>=2.4.0->notebook->jupyter->-r requirements.txt (line 1)) (21.2.0)\n",
      "Requirement already satisfied: fqdn in /rdma/vast-rdma/user/valmiki/miniconda/envs/pytorch-3.10/lib/python3.10/site-packages (from jsonschema[format-nongpl]>=4.18.0->jupyter-events>=0.9.0->jupyter-server<3,>=2.4.0->notebook->jupyter->-r requirements.txt (line 1)) (1.5.1)\n",
      "Requirement already satisfied: isoduration in /rdma/vast-rdma/user/valmiki/miniconda/envs/pytorch-3.10/lib/python3.10/site-packages (from jsonschema[format-nongpl]>=4.18.0->jupyter-events>=0.9.0->jupyter-server<3,>=2.4.0->notebook->jupyter->-r requirements.txt (line 1)) (20.11.0)\n",
      "Requirement already satisfied: jsonpointer>1.13 in /rdma/vast-rdma/user/valmiki/miniconda/envs/pytorch-3.10/lib/python3.10/site-packages (from jsonschema[format-nongpl]>=4.18.0->jupyter-events>=0.9.0->jupyter-server<3,>=2.4.0->notebook->jupyter->-r requirements.txt (line 1)) (2.4)\n",
      "Requirement already satisfied: uri-template in /rdma/vast-rdma/user/valmiki/miniconda/envs/pytorch-3.10/lib/python3.10/site-packages (from jsonschema[format-nongpl]>=4.18.0->jupyter-events>=0.9.0->jupyter-server<3,>=2.4.0->notebook->jupyter->-r requirements.txt (line 1)) (1.3.0)\n",
      "Requirement already satisfied: webcolors>=1.11 in /rdma/vast-rdma/user/valmiki/miniconda/envs/pytorch-3.10/lib/python3.10/site-packages (from jsonschema[format-nongpl]>=4.18.0->jupyter-events>=0.9.0->jupyter-server<3,>=2.4.0->notebook->jupyter->-r requirements.txt (line 1)) (1.13)\n",
      "Requirement already satisfied: cffi>=1.0.1 in /rdma/vast-rdma/user/valmiki/miniconda/envs/pytorch-3.10/lib/python3.10/site-packages (from argon2-cffi-bindings->argon2-cffi->jupyter-server<3,>=2.4.0->notebook->jupyter->-r requirements.txt (line 1)) (1.16.0)\n",
      "Requirement already satisfied: pycparser in /rdma/vast-rdma/user/valmiki/miniconda/envs/pytorch-3.10/lib/python3.10/site-packages (from cffi>=1.0.1->argon2-cffi-bindings->argon2-cffi->jupyter-server<3,>=2.4.0->notebook->jupyter->-r requirements.txt (line 1)) (2.21)\n",
      "Requirement already satisfied: arrow>=0.15.0 in /rdma/vast-rdma/user/valmiki/miniconda/envs/pytorch-3.10/lib/python3.10/site-packages (from isoduration->jsonschema[format-nongpl]>=4.18.0->jupyter-events>=0.9.0->jupyter-server<3,>=2.4.0->notebook->jupyter->-r requirements.txt (line 1)) (1.3.0)\n",
      "Requirement already satisfied: types-python-dateutil>=2.8.10 in /rdma/vast-rdma/user/valmiki/miniconda/envs/pytorch-3.10/lib/python3.10/site-packages (from arrow>=0.15.0->isoduration->jsonschema[format-nongpl]>=4.18.0->jupyter-events>=0.9.0->jupyter-server<3,>=2.4.0->notebook->jupyter->-r requirements.txt (line 1)) (2.8.19.14)\n",
      "Note: you may need to restart the kernel to use updated packages.\n"
     ]
    }
   ],
   "source": [
    "%pip install -r requirements.txt"
   ]
  },
  {
   "cell_type": "markdown",
   "metadata": {},
   "source": [
    "## Imports"
   ]
  },
  {
   "cell_type": "code",
   "execution_count": 4,
   "metadata": {},
   "outputs": [],
   "source": [
    "import torch\n",
    "import torch_sparse"
   ]
  },
  {
   "cell_type": "code",
   "execution_count": 5,
   "metadata": {},
   "outputs": [
    {
     "name": "stdout",
     "output_type": "stream",
     "text": [
      "Thu Dec  7 16:39:59 2023       \n",
      "+-----------------------------------------------------------------------------+\n",
      "| NVIDIA-SMI 515.86.01    Driver Version: 515.86.01    CUDA Version: 11.7     |\n",
      "|-------------------------------+----------------------+----------------------+\n",
      "| GPU  Name        Persistence-M| Bus-Id        Disp.A | Volatile Uncorr. ECC |\n",
      "| Fan  Temp  Perf  Pwr:Usage/Cap|         Memory-Usage | GPU-Util  Compute M. |\n",
      "|                               |                      |               MIG M. |\n",
      "|===============================+======================+======================|\n",
      "|   0  NVIDIA A100 80G...  On   | 00000000:04:00.0 Off |                    0 |\n",
      "| N/A   47C    P0    56W / 300W |      0MiB / 81920MiB |      0%      Default |\n",
      "|                               |                      |             Disabled |\n",
      "+-------------------------------+----------------------+----------------------+\n",
      "                                                                               \n",
      "+-----------------------------------------------------------------------------+\n",
      "| Processes:                                                                  |\n",
      "|  GPU   GI   CI        PID   Type   Process name                  GPU Memory |\n",
      "|        ID   ID                                                   Usage      |\n",
      "|=============================================================================|\n",
      "|  No running processes found                                                 |\n",
      "+-----------------------------------------------------------------------------+\n"
     ]
    }
   ],
   "source": [
    "!nvidia-smi"
   ]
  },
  {
   "cell_type": "markdown",
   "metadata": {},
   "source": [
    "## Parameters"
   ]
  },
  {
   "cell_type": "code",
   "execution_count": 17,
   "metadata": {},
   "outputs": [],
   "source": [
    "num_neurons = 10000\n",
    "synapses_per_neuron = 10\n",
    "device = torch.device('cuda' if torch.cuda.is_available() else 'cpu')"
   ]
  },
  {
   "cell_type": "code",
   "execution_count": 24,
   "metadata": {},
   "outputs": [],
   "source": [
    "# Create a dense vector\n",
    "indices = []\n",
    "values = []\n",
    "for i in range(num_neurons):\n",
    "    for j in range(synapses_per_neuron):\n",
    "        indices.append(((torch.randint(0, num_neurons, (1,))), i))\n",
    "        values.append((torch.randn(1)))\n",
    "indices = torch.tensor(indices).t()\n",
    "values = torch.tensor(values)\n",
    "        \n",
    "coo_matrix = torch.sparse_coo_tensor(indices, values, (num_neurons, num_neurons)).coalesce().to(device)\n",
    "csr_matrix = coo_matrix.to_sparse_csr().to(device)\n",
    "dense_matrix = coo_matrix.to_dense().to(device)\n",
    "dense_vector = torch.randn(num_neurons).to(device)"
   ]
  },
  {
   "cell_type": "code",
   "execution_count": 32,
   "metadata": {},
   "outputs": [
    {
     "name": "stdout",
     "output_type": "stream",
     "text": [
      "56.6 µs ± 203 ns per loop (mean ± std. dev. of 7 runs, 10,000 loops each)\n"
     ]
    }
   ],
   "source": [
    "%timeit torch.mv(coo_matrix, dense_vector)"
   ]
  },
  {
   "cell_type": "code",
   "execution_count": 33,
   "metadata": {},
   "outputs": [
    {
     "name": "stdout",
     "output_type": "stream",
     "text": [
      "12.1 µs ± 0.351 ns per loop (mean ± std. dev. of 7 runs, 100,000 loops each)\n"
     ]
    }
   ],
   "source": [
    "%timeit torch.mv(csr_matrix, dense_vector)"
   ]
  },
  {
   "cell_type": "code",
   "execution_count": 35,
   "metadata": {},
   "outputs": [
    {
     "name": "stdout",
     "output_type": "stream",
     "text": [
      "254 µs ± 11.4 ns per loop (mean ± std. dev. of 7 runs, 10,000 loops each)\n"
     ]
    }
   ],
   "source": [
    "%timeit torch.mv(dense_matrix, dense_vector)"
   ]
  }
 ],
 "metadata": {
  "kernelspec": {
   "display_name": "Python 3 (ipykernel)",
   "language": "python",
   "name": "python3"
  },
  "language_info": {
   "codemirror_mode": {
    "name": "ipython",
    "version": 3
   },
   "file_extension": ".py",
   "mimetype": "text/x-python",
   "name": "python",
   "nbconvert_exporter": "python",
   "pygments_lexer": "ipython3",
   "version": "3.10.13"
  }
 },
 "nbformat": 4,
 "nbformat_minor": 2
}
