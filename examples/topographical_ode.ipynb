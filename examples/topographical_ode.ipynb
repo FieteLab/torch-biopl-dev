{
 "cells": [
  {
   "cell_type": "code",
   "execution_count": 12,
   "metadata": {},
   "outputs": [],
   "source": [
    "import numpy as np\n",
    "import pandas as pd\n",
    "import torch\n",
    "import torchode as to\n",
    "from hydra import compose, initialize\n",
    "from omegaconf import OmegaConf\n",
    "\n",
    "from bioplnn.utils import AttrDict, initialize_model"
   ]
  },
  {
   "cell_type": "code",
   "execution_count": 13,
   "metadata": {},
   "outputs": [],
   "source": [
    "device = torch.device(\"cuda\" if torch.cuda.is_available() else \"cpu\")\n",
    "torch.set_default_dtype(torch.float64)"
   ]
  },
  {
   "cell_type": "code",
   "execution_count": 14,
   "metadata": {},
   "outputs": [],
   "source": [
    "with initialize(version_base=None, config_path=\"config/\", job_name=\"testing\"):\n",
    "    config = compose(\n",
    "        config_name=\"config\",\n",
    "        overrides=[\"data=cifar10v1\", \"model=topo_sunny\"],\n",
    "    )\n",
    "config = OmegaConf.to_container(config, resolve=True)\n",
    "config = AttrDict(config)\n",
    "sunny_root = \"/om/user/sunnyd/dros-vision/\""
   ]
  },
  {
   "cell_type": "code",
   "execution_count": 15,
   "metadata": {},
   "outputs": [],
   "source": [
    "# Load data\n",
    "neuron_ids = pd.read_csv(sunny_root + \"visual_neuron_ids.csv\")\n",
    "column_data = torch.tensor(np.load(sunny_root + \"moving_mnist_vision.npy\"))\n",
    "input_neuron_ids = pd.read_csv(sunny_root + \"visual_column_assignment.csv\")\n",
    "lookup = dict(zip(neuron_ids[\"root_id\"].to_list(), neuron_ids.index))\n",
    "input_indices = torch.tensor(input_neuron_ids[\"root_id\"].map(lookup))\n",
    "column_ids = torch.tensor(input_neuron_ids[\"column_ids\"] - 1)"
   ]
  },
  {
   "cell_type": "code",
   "execution_count": 16,
   "metadata": {},
   "outputs": [],
   "source": [
    "num_neurons = len(neuron_ids)\n",
    "num_input_neurons = len(input_neuron_ids)"
   ]
  },
  {
   "cell_type": "code",
   "execution_count": 17,
   "metadata": {},
   "outputs": [],
   "source": [
    "def save_connectivity():\n",
    "    connectivity_hh = np.load(sunny_root + \"visual_adj_matrix_20240711.npy\")\n",
    "    connectivity_hh = torch.tensor(connectivity_hh).to_sparse_coo()\n",
    "\n",
    "    # Load connectivity_ih\n",
    "    indices_ih = torch.stack(\n",
    "        (\n",
    "            input_indices,\n",
    "            torch.arange(input_neuron_ids.shape[0]),\n",
    "        )\n",
    "    )\n",
    "\n",
    "    values_ih = torch.ones(indices_ih.shape[1])\n",
    "\n",
    "    connectivity_ih = torch.sparse_coo_tensor(\n",
    "        indices_ih,\n",
    "        values_ih,\n",
    "        (num_neurons, num_input_neurons),\n",
    "        check_invariants=True,\n",
    "    ).coalesce()\n",
    "\n",
    "    # Save connectivity\n",
    "    torch.save(connectivity_hh, config.model.rnn_kwargs.connectivity_hh)\n",
    "    torch.save(connectivity_ih, config.model.rnn_kwargs.connectivity_ih)\n",
    "\n",
    "    # Save input indices\n",
    "    torch.save(input_indices, config.model.rnn_kwargs.input_indices)\n",
    "\n",
    "\n",
    "# save_connectivity()\n",
    "\n",
    "# connectivity_hh = torch.load(\n",
    "#     config.model.rnn_kwargs.connectivity_hh, weights_only=True\n",
    "# )\n",
    "# connectivity_ih = torch.load(\n",
    "#     config.model.rnn_kwargs.connectivity_ih, weights_only=True\n",
    "# )\n",
    "# input_indices = torch.load(\n",
    "#     config.model.rnn_kwargs.input_indices, weights_only=True\n",
    "# )"
   ]
  },
  {
   "cell_type": "code",
   "execution_count": 19,
   "metadata": {},
   "outputs": [],
   "source": [
    "config.model.rnn_kwargs.bias = False\n",
    "rnn = initialize_model(config.data.dataset, config.model).rnn"
   ]
  },
  {
   "cell_type": "code",
   "execution_count": 20,
   "metadata": {},
   "outputs": [],
   "source": [
    "def f(t, y, args):\n",
    "    h = y.t()\n",
    "\n",
    "    x = args[\"x\"]\n",
    "    bias = args[\"bias\"]\n",
    "    leak = args[\"leak\"]\n",
    "    T = args[\"tau\"]\n",
    "\n",
    "    x_t = x[:, int(t * 10), column_ids].t()\n",
    "\n",
    "    h = 1 / T * (-h * leak + bias + rnn.hh(h) + 10 * rnn.ih(x_t))\n",
    "\n",
    "    return h.t()\n",
    "\n",
    "\n",
    "rnn.forward = f"
   ]
  },
  {
   "cell_type": "code",
   "execution_count": 21,
   "metadata": {},
   "outputs": [],
   "source": [
    "y0 = torch.randn(len(neuron_ids)).unsqueeze(0).to(device)\n",
    "t_eval = torch.linspace(0, 1, 20).unsqueeze(0).to(device)\n",
    "\n",
    "term = to.ODETerm(rnn, with_args=True)\n",
    "step_method = to.Dopri5(term=term)\n",
    "step_size_controller = to.IntegralController(atol=1e-6, rtol=1e-3, term=term)\n",
    "solver = to.AutoDiffAdjoint(step_method, step_size_controller).to(device)\n",
    "solver = torch.compile(solver)"
   ]
  },
  {
   "cell_type": "code",
   "execution_count": 22,
   "metadata": {},
   "outputs": [],
   "source": [
    "# Solve ODE\n",
    "problem = to.InitialValueProblem(y0=y0, t_eval=t_eval)\n",
    "sol = solver.solve(\n",
    "    problem,\n",
    "    args={\n",
    "        \"x\": column_data[:1].to(device),\n",
    "        \"bias\": 0.1,\n",
    "        \"leak\": 20.0,\n",
    "        \"tau\": 10.0,\n",
    "    },\n",
    ")\n",
    "ys = sol.ys"
   ]
  },
  {
   "cell_type": "code",
   "execution_count": 23,
   "metadata": {},
   "outputs": [
    {
     "data": {
      "text/plain": [
       "torch.Size([1, 20, 47521])"
      ]
     },
     "execution_count": 23,
     "metadata": {},
     "output_type": "execute_result"
    }
   ],
   "source": [
    "ys.shape"
   ]
  }
 ],
 "metadata": {
  "kernelspec": {
   "display_name": "pytorch",
   "language": "python",
   "name": "python3"
  },
  "language_info": {
   "codemirror_mode": {
    "name": "ipython",
    "version": 3
   },
   "file_extension": ".py",
   "mimetype": "text/x-python",
   "name": "python",
   "nbconvert_exporter": "python",
   "pygments_lexer": "ipython3",
   "version": "3.12.7"
  }
 },
 "nbformat": 4,
 "nbformat_minor": 2
}
