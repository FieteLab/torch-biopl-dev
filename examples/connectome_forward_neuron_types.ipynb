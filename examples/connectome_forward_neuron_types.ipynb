{
 "cells": [
  {
   "cell_type": "markdown",
   "metadata": {},
   "source": [
    "# Running forward dynamics in a connectome-constrained model\n",
    "\n",
    "The goal of this tutorial is to walk you through the following steps:\n",
    "\n",
    "- Initializing a sparse neural network model based on a connectome. In this example, we will use the optic lobe of *Drosophila* as done in [Lappalainen et al. (2024)](https://www.nature.com/articles/s41586-024-07939-3).\n",
    "- Specifying input and output projections.\n",
    "- Driving activity in the network with visual inputs.\n",
    "\n",
    "For demonstration purposes, we'll use flattened MNIST images as inputs into the connectome. This is however simplistic and we do allow for arbitrarily complex input mappings. To learn how to do that please refer to the API."
   ]
  },
  {
   "cell_type": "code",
   "execution_count": 1,
   "metadata": {},
   "outputs": [],
   "source": [
    "import torch\n",
    "import os\n",
    "import torchvision.transforms as T\n",
    "from torch.utils.data import DataLoader\n",
    "from torchvision.datasets import MNIST\n",
    "from tqdm import tqdm\n",
    "import numpy as np\n",
    "import matplotlib.pyplot as plt\n",
    "\n",
    "from bioplnn.models import ConnectomeODERNN"
   ]
  },
  {
   "cell_type": "markdown",
   "metadata": {},
   "source": [
    "Check the device to make sure you are on a GPU. If you aren't its not a big deal. Its just going to take much longer!"
   ]
  },
  {
   "cell_type": "code",
   "execution_count": null,
   "metadata": {},
   "outputs": [],
   "source": [
    "device = torch.device(\"cuda\" if torch.cuda.is_available() else \"cpu\")\n",
    "torch.set_float32_matmul_precision(\"high\")\n",
    "print(\"Using device: {}\".format(device))"
   ]
  },
  {
   "cell_type": "markdown",
   "metadata": {},
   "source": [
    "Download the connectome and read it in as a torch tensor. We have pre-processed this as a sparse tensor for the purposes of this example."
   ]
  },
  {
   "cell_type": "code",
   "execution_count": null,
   "metadata": {},
   "outputs": [],
   "source": [
    "save_dir = \"connectivity/turaga\"\n",
    "os.makedirs(save_dir, exist_ok=True)\n",
    "save_path = f\"{save_dir}/turaga-dros-visual-connectome.pt\"\n",
    "!gdown \"https://drive.google.com/uc?id=18448HYpYrm60boziHG73bxN4CK5jG-1g\" -O \"{save_path}\" \n",
    "connectome = torch.load(save_path, weights_only=True)"
   ]
  },
  {
   "cell_type": "code",
   "execution_count": null,
   "metadata": {},
   "outputs": [],
   "source": [
    "print(\n",
    "    \"Connectome dimensions: {}x{}\".format(\n",
    "        connectome.shape[0], connectome.shape[1]\n",
    "    )\n",
    ")\n",
    "print(\"Number of synapses: {}\".format(connectome._nnz()))\n",
    "\n",
    "spatial_extent = 100\n",
    "vmin, vmax = connectome.values().min(), connectome.values().max()\n",
    "fig = plt.figure(figsize=(6, 6))\n",
    "ax = fig.add_subplot(111)\n",
    "ax.imshow(\n",
    "    torch.abs(connectome.to_dense()[:spatial_extent, :spatial_extent]),\n",
    "    cmap=\"inferno\",\n",
    ")\n",
    "ax.set_xlabel(\"Postsynaptic\", fontsize=18)\n",
    "ax.set_ylabel(\"Presynaptic\", fontsize=18)\n",
    "ax.set_xticks([0, spatial_extent - 1])\n",
    "ax.set_yticks([0, spatial_extent - 1])\n",
    "plt.show()\n"
   ]
  },
  {
   "cell_type": "markdown",
   "metadata": {},
   "source": [
    "## Creating input and output projection matrices\n",
    "To drive the network with external inputs, you'd want to specify the subset of neurons in the model that receive input or project to downstream areas. We have an utility to create these sparse projection matrices. For the purposes of this example, we shall pick a random subset of input/output neurons. \n",
    "In a world where each neuron receives external input, you can also initialize this projection as an arbitrary *dense* matrix."
   ]
  },
  {
   "cell_type": "code",
   "execution_count": 23,
   "metadata": {},
   "outputs": [],
   "source": [
    "from bioplnn.utils.torch import create_identity_ih_connectivity\n",
    "\n",
    "# since we are feeding in MNIST images\n",
    "input_size = 28 * 28\n",
    "num_neurons = connectome.shape[0]\n",
    "\n",
    "input_projection_matrix = create_identity_ih_connectivity(\n",
    "    input_size=input_size,\n",
    "    num_neurons=num_neurons,\n",
    "    input_indices=torch.randint(high=num_neurons, size=(input_size,)),\n",
    ")\n",
    "\n",
    "# for now, lets just read outputs from all neurons\n",
    "output_projection_matrix = None"
   ]
  },
  {
   "cell_type": "markdown",
   "metadata": {},
   "source": [
    "## Setting up the connectome-constrained model"
   ]
  },
  {
   "cell_type": "code",
   "execution_count": null,
   "metadata": {},
   "outputs": [],
   "source": [
    "connectome_rnn_kwargs = {\n",
    "    \"input_size\": input_size,\n",
    "    \"hidden_size\": num_neurons,\n",
    "    \"connectivity_hh\": connectome,\n",
    "    \"connectivity_ih\": input_projection_matrix,\n",
    "    \"output_neurons\": output_projection_matrix,\n",
    "    \"num_neuron_types\": 2,\n",
    "    \"neuron_type_class\": [\"excitatory\", \"inhibitory\"],\n",
    "    \"neuron_type_indices\": [\n",
    "        \"connectivity/sunny/indices_neuron_type_1.pt\",\n",
    "        \"connectivity/sunny/indices_neuron_type_2.pt\",\n",
    "    ],\n",
    "    \"neuron_type_nonlinearity\": \"Sigmoid\",\n",
    "    \"neuron_type_tau_init\": [1.25, 2.0],\n",
    "    \"train_tau\": True,\n",
    "    \"batch_first\": False,\n",
    "    \"compile_solver_kwargs\": {\n",
    "        \"mode\": \"max-autotune\",\n",
    "        \"dynamic\": False,\n",
    "        \"fullgraph\": True,\n",
    "    },\n",
    "}\n",
    "model = ConnectomeODERNN(**connectome_rnn_kwargs).to(device)\n",
    "print(model)"
   ]
  },
  {
   "cell_type": "code",
   "execution_count": 25,
   "metadata": {},
   "outputs": [],
   "source": [
    "# get some data for us to pipe into the model\n",
    "transform = T.Compose([T.ToTensor(), T.Normalize((0.1307,), (0.3081,))])\n",
    "train_data = MNIST(root=\"data\", train=True, transform=transform, download=True)\n",
    "train_loader = DataLoader(\n",
    "    train_data, batch_size=8, num_workers=0, shuffle=True\n",
    ")"
   ]
  },
  {
   "cell_type": "code",
   "execution_count": null,
   "metadata": {},
   "outputs": [],
   "source": [
    "# getting one batch of the input\n",
    "x, label = next(iter(train_loader))\n",
    "print(f\"x shape: {x.shape}, label_shape: {label.shape}\")\n",
    "x = x.flatten(1)\n",
    "x = x.to(device)\n",
    "print(f\"x flattened shape: {x.shape}\")"
   ]
  },
  {
   "cell_type": "code",
   "execution_count": null,
   "metadata": {},
   "outputs": [],
   "source": [
    "model.eval()\n",
    "_, neural_activities, timesteps = model(\n",
    "    x, start_time=0, end_time=1.0, num_steps=20\n",
    ")\n",
    "print(f\"Neural activity shape: {neural_activities.shape}\")"
   ]
  },
  {
   "cell_type": "code",
   "execution_count": null,
   "metadata": {},
   "outputs": [],
   "source": [
    "fig = plt.figure(figsize=(6, 6))\n",
    "ax = fig.add_subplot(111)\n",
    "ax.plot(\n",
    "    timesteps[:, 0].detach().cpu().numpy(),\n",
    "    neural_activities[:, 0, torch.randint(0, 47521, (25,))]\n",
    "    .detach()\n",
    "    .cpu()\n",
    "    .numpy(),\n",
    ")\n",
    "ax.spines[\"top\"].set_visible(False)\n",
    "ax.spines[\"right\"].set_visible(False)\n",
    "ax.set_xlabel(\"Time (in a.u.)\", fontsize=18)\n",
    "ax.set_ylabel(\"Activity\", fontsize=18)"
   ]
  },
  {
   "cell_type": "code",
   "execution_count": null,
   "metadata": {},
   "outputs": [],
   "source": []
  }
 ],
 "metadata": {
  "kernelspec": {
   "display_name": "bioplnn",
   "language": "python",
   "name": "python3"
  },
  "language_info": {
   "codemirror_mode": {
    "name": "ipython",
    "version": 3
   },
   "file_extension": ".py",
   "mimetype": "text/x-python",
   "name": "python",
   "nbconvert_exporter": "python",
   "pygments_lexer": "ipython3",
   "version": "3.12.9"
  }
 },
 "nbformat": 4,
 "nbformat_minor": 2
}
