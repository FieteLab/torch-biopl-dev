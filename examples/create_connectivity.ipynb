{
 "cells": [
  {
   "cell_type": "code",
   "execution_count": 1,
   "metadata": {},
   "outputs": [],
   "source": [
    "import torch\n",
    "\n",
    "from bioplnn.utils import create_identity_ih_connectivity"
   ]
  },
  {
   "cell_type": "code",
   "execution_count": 2,
   "metadata": {},
   "outputs": [],
   "source": [
    "connectivity_hh_sunny: torch.Tensor = torch.load(\n",
    "    \"connectivity/sunny/connectivity_hh.pt\", weights_only=True\n",
    ")\n",
    "connectivity_ih_sunny: torch.Tensor = torch.load(\n",
    "    \"connectivity/sunny/connectivity_ih.pt\", weights_only=True\n",
    ")\n",
    "input_indices_sunny: torch.Tensor = torch.load(\n",
    "    \"connectivity/sunny/input_indices.pt\", weights_only=True\n",
    ")"
   ]
  },
  {
   "cell_type": "code",
   "execution_count": null,
   "metadata": {},
   "outputs": [],
   "source": [
    "connectivity_"
   ]
  },
  {
   "cell_type": "code",
   "execution_count": 4,
   "metadata": {},
   "outputs": [
    {
     "data": {
      "text/plain": [
       "torch.Size([47521, 4751])"
      ]
     },
     "execution_count": 4,
     "metadata": {},
     "output_type": "execute_result"
    }
   ],
   "source": [
    "connectivity_ih_sunny.shape"
   ]
  },
  {
   "cell_type": "code",
   "execution_count": 20,
   "metadata": {},
   "outputs": [],
   "source": [
    "output_indices_mnist = torch.arange(28 * 28)\n",
    "torch.save(output_indices_mnist, \"connectivity/sunny/output_indices_mnist.pt\")"
   ]
  },
  {
   "cell_type": "code",
   "execution_count": 17,
   "metadata": {},
   "outputs": [],
   "source": [
    "ho_mnist = (\n",
    "    create_identity_ih_connectivity(\n",
    "        28 * 28, connectivity_hh_sunny.shape[0], output_indices_mnist\n",
    "    )\n",
    "    .t()\n",
    "    .coalesce()\n",
    ")"
   ]
  },
  {
   "cell_type": "code",
   "execution_count": 18,
   "metadata": {},
   "outputs": [
    {
     "data": {
      "text/plain": [
       "tensor([[  0,   1,   2,  ..., 781, 782, 783],\n",
       "        [  0,   1,   2,  ..., 781, 782, 783]])"
      ]
     },
     "execution_count": 18,
     "metadata": {},
     "output_type": "execute_result"
    }
   ],
   "source": [
    "torch.save(ho_mnist, \"connectivity/sunny/connectivity_ho_mnist.pt\")"
   ]
  },
  {
   "cell_type": "code",
   "execution_count": 21,
   "metadata": {},
   "outputs": [],
   "source": [
    "ih_mnist = create_identity_ih_connectivity(\n",
    "    28 * 28, connectivity_hh_sunny.shape[1], input_indices_sunny[: 28 * 28]\n",
    ")\n",
    "torch.save(ih_mnist, \"connectivity/sunny/connectivity_ih_mnist.pt\")"
   ]
  },
  {
   "cell_type": "code",
   "execution_count": null,
   "metadata": {},
   "outputs": [],
   "source": []
  }
 ],
 "metadata": {
  "kernelspec": {
   "display_name": "bioplnn",
   "language": "python",
   "name": "python3"
  },
  "language_info": {
   "codemirror_mode": {
    "name": "ipython",
    "version": 3
   },
   "file_extension": ".py",
   "mimetype": "text/x-python",
   "name": "python",
   "nbconvert_exporter": "python",
   "pygments_lexer": "ipython3",
   "version": "3.12.9"
  }
 },
 "nbformat": 4,
 "nbformat_minor": 2
}
