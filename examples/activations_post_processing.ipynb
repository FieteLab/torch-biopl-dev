{
 "cells": [
  {
   "cell_type": "code",
   "execution_count": 35,
   "metadata": {},
   "outputs": [],
   "source": [
    "import torch"
   ]
  },
  {
   "cell_type": "code",
   "execution_count": 52,
   "metadata": {},
   "outputs": [],
   "source": [
    "activations = torch.load(\"activations/ei/qclevr/true-water-3342/every/summary.pt\")"
   ]
  },
  {
   "cell_type": "code",
   "execution_count": 53,
   "metadata": {},
   "outputs": [
    {
     "data": {
      "text/plain": [
       "1000"
      ]
     },
     "execution_count": 53,
     "metadata": {},
     "output_type": "execute_result"
    }
   ],
   "source": [
    "len(activations)"
   ]
  },
  {
   "cell_type": "code",
   "execution_count": 54,
   "metadata": {},
   "outputs": [],
   "source": [
    "N = 6\n",
    "res = {\n",
    "    \"color\": [[] for _ in range(N)],\n",
    "    \"shape\": [[] for _ in range(N)],\n",
    "    \"conjunction\": [[] for _ in range(N)],\n",
    "}\n",
    "\n",
    "for sample in activations:\n",
    "    lst = res[sample[\"mode\"][0]][sample[\"label\"].item()]\n",
    "    lst.append(sample)"
   ]
  },
  {
   "cell_type": "code",
   "execution_count": 55,
   "metadata": {},
   "outputs": [],
   "source": [
    "torch.save(res, \"activations/ei/qclevr/true-water-3342/every/summary_qclevr_post.pt\")"
   ]
  },
  {
   "cell_type": "code",
   "execution_count": 51,
   "metadata": {},
   "outputs": [
    {
     "name": "stdout",
     "output_type": "stream",
     "text": [
      "color 0 62\n",
      "color 1 63\n",
      "color 2 58\n",
      "color 3 59\n",
      "color 4 47\n",
      "color 5 58\n",
      "shape 0 51\n",
      "shape 1 51\n",
      "shape 2 53\n",
      "shape 3 56\n",
      "shape 4 59\n",
      "shape 5 56\n",
      "conjunction 0 48\n",
      "conjunction 1 47\n",
      "conjunction 2 61\n",
      "conjunction 3 66\n",
      "conjunction 4 45\n",
      "conjunction 5 60\n"
     ]
    }
   ],
   "source": [
    "for key in res:\n",
    "    for i in range(N):\n",
    "        print(key, i, len(res[key][i]))"
   ]
  },
  {
   "cell_type": "code",
   "execution_count": null,
   "metadata": {},
   "outputs": [],
   "source": []
  }
 ],
 "metadata": {
  "kernelspec": {
   "display_name": "pytorch",
   "language": "python",
   "name": "python3"
  },
  "language_info": {
   "codemirror_mode": {
    "name": "ipython",
    "version": 3
   },
   "file_extension": ".py",
   "mimetype": "text/x-python",
   "name": "python",
   "nbconvert_exporter": "python",
   "pygments_lexer": "ipython3",
   "version": "3.11.8"
  }
 },
 "nbformat": 4,
 "nbformat_minor": 2
}
