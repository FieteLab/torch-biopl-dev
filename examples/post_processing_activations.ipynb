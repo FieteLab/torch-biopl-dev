{
 "cells": [
  {
   "cell_type": "code",
   "execution_count": null,
   "metadata": {},
   "outputs": [],
   "source": [
    "import torch"
   ]
  },
  {
   "cell_type": "code",
   "execution_count": 4,
   "metadata": {},
   "outputs": [
    {
     "name": "stderr",
     "output_type": "stream",
     "text": [
      "/tmp/ipykernel_1912074/1915453378.py:1: FutureWarning: You are using `torch.load` with `weights_only=False` (the current default value), which uses the default pickle module implicitly. It is possible to construct malicious pickle data which will execute arbitrary code during unpickling (See https://github.com/pytorch/pytorch/blob/main/SECURITY.md#untrusted-models for more details). In a future release, the default value for `weights_only` will be flipped to `True`. This limits the functions that could be executed during unpickling. Arbitrary objects will no longer be allowed to be loaded via this mode unless they are explicitly allowlisted by the user via `torch.serialization.add_safe_globals`. We recommend you start setting `weights_only=True` for any use case where you don't have full control of the loaded file. Please open an issue on GitHub for any issues related to this experimental feature.\n",
      "  activations = torch.load(\n"
     ]
    }
   ],
   "source": [
    "activations = torch.load(\n",
    "    \"activations/ei/mazes/daily-armadillo-3361/activations.pt\"\n",
    ")"
   ]
  },
  {
   "cell_type": "code",
   "execution_count": 54,
   "metadata": {},
   "outputs": [],
   "source": [
    "N = 6\n",
    "res = {\n",
    "    \"color\": [[] for _ in range(N)],\n",
    "    \"shape\": [[] for _ in range(N)],\n",
    "    \"conjunction\": [[] for _ in range(N)],\n",
    "}\n",
    "\n",
    "for sample in activations:\n",
    "    lst = res[sample[\"mode\"][0]][sample[\"label\"].item()]\n",
    "    lst.append(sample)"
   ]
  },
  {
   "cell_type": "code",
   "execution_count": null,
   "metadata": {},
   "outputs": [],
   "source": [
    "torch.save(\n",
    "    res, \"activations/ei/qclevr/true-water-3342/every/summary_qclevr_post.pt\"\n",
    ")"
   ]
  },
  {
   "cell_type": "code",
   "execution_count": 51,
   "metadata": {},
   "outputs": [
    {
     "name": "stdout",
     "output_type": "stream",
     "text": [
      "color 0 62\n",
      "color 1 63\n",
      "color 2 58\n",
      "color 3 59\n",
      "color 4 47\n",
      "color 5 58\n",
      "shape 0 51\n",
      "shape 1 51\n",
      "shape 2 53\n",
      "shape 3 56\n",
      "shape 4 59\n",
      "shape 5 56\n",
      "conjunction 0 48\n",
      "conjunction 1 47\n",
      "conjunction 2 61\n",
      "conjunction 3 66\n",
      "conjunction 4 45\n",
      "conjunction 5 60\n"
     ]
    }
   ],
   "source": [
    "for key in res:\n",
    "    for i in range(N):\n",
    "        print(key, i, len(res[key][i]))"
   ]
  },
  {
   "cell_type": "code",
   "execution_count": null,
   "metadata": {},
   "outputs": [],
   "source": []
  }
 ],
 "metadata": {
  "kernelspec": {
   "display_name": "pytorch",
   "language": "python",
   "name": "python3"
  },
  "language_info": {
   "codemirror_mode": {
    "name": "ipython",
    "version": 3
   },
   "file_extension": ".py",
   "mimetype": "text/x-python",
   "name": "python",
   "nbconvert_exporter": "python",
   "pygments_lexer": "ipython3",
   "version": "3.12.7"
  }
 },
 "nbformat": 4,
 "nbformat_minor": 2
}
