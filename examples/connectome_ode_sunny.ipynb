{
 "cells": [
  {
   "cell_type": "code",
   "execution_count": 3,
   "metadata": {},
   "outputs": [],
   "source": [
    "import matplotlib.pyplot as plt\n",
    "import numpy as np\n",
    "import pandas as pd\n",
    "import torch\n",
    "import torchode as to\n",
    "from hydra import compose, initialize\n",
    "from omegaconf import OmegaConf\n",
    "\n",
    "from bioplnn.utils import AttrDict, initialize_model"
   ]
  },
  {
   "cell_type": "code",
   "execution_count": 4,
   "metadata": {},
   "outputs": [],
   "source": [
    "device = torch.device(\"cuda\" if torch.cuda.is_available() else \"cpu\")\n",
    "torch.set_float32_matmul_precision(\"high\")\n",
    "torch.cuda.empty_cache()"
   ]
  },
  {
   "cell_type": "code",
   "execution_count": null,
   "metadata": {},
   "outputs": [],
   "source": [
    "!nvidia-smi"
   ]
  },
  {
   "cell_type": "code",
   "execution_count": null,
   "metadata": {},
   "outputs": [],
   "source": [
    "with initialize(version_base=None, config_path=\"config/\", job_name=\"testing\"):\n",
    "    config = compose(\n",
    "        config_name=\"config\",\n",
    "        overrides=[\"data=mnist_conn\", \"model=conn\"],\n",
    "    )\n",
    "config = OmegaConf.to_container(config, resolve=True)\n",
    "config = AttrDict(config)\n",
    "\n",
    "model = initialize_model(**config.model)\n",
    "rnn = model.rnn\n",
    "print(\n",
    "    f\"HH sparsity {rnn.hh.values.shape[0] / (rnn.hh.in_features * rnn.hh.out_features):.2%}\"\n",
    ")"
   ]
  },
  {
   "cell_type": "code",
   "execution_count": 7,
   "metadata": {},
   "outputs": [],
   "source": [
    "# Load data\n",
    "sunny_root = \"/om/user/sunnyd/dros-vision/\"\n",
    "neuron_ids = pd.read_csv(sunny_root + \"visual_neuron_ids.csv\")\n",
    "num_neurons = len(neuron_ids)\n",
    "input_neuron_ids = pd.read_csv(sunny_root + \"visual_column_assignment.csv\")\n",
    "num_input_neurons = len(input_neuron_ids)\n",
    "column_data = torch.tensor(\n",
    "    np.load(sunny_root + \"moving_mnist_vision.npy\"), dtype=torch.float32\n",
    ")\n",
    "lookup = dict(zip(neuron_ids[\"root_id\"].to_list(), neuron_ids.index))\n",
    "input_projection = np.eye(num_neurons)[\n",
    "    :, input_neuron_ids[\"root_id\"].map(lookup).to_numpy()\n",
    "]\n",
    "column_ids = input_neuron_ids[\"column_ids\"] - 1\n",
    "input_indices = torch.tensor(input_neuron_ids[\"root_id\"].map(lookup))\n",
    "column_ids = torch.tensor(input_neuron_ids[\"column_ids\"] - 1)"
   ]
  },
  {
   "cell_type": "code",
   "execution_count": 8,
   "metadata": {},
   "outputs": [],
   "source": [
    "def save_connectivity():\n",
    "    connectivity_hh = np.load(sunny_root + \"visual_adj_matrix_20240711.npy\")\n",
    "    connectivity_hh = torch.tensor(connectivity_hh).to_sparse_coo().coalesce()\n",
    "\n",
    "    # Load connectivity_ih\n",
    "    indices_ih = torch.stack(\n",
    "        (\n",
    "            input_indices,\n",
    "            torch.arange(input_neuron_ids.shape[0]),\n",
    "        )\n",
    "    )\n",
    "\n",
    "    values_ih = torch.ones(indices_ih.shape[1])\n",
    "\n",
    "    connectivity_ih = torch.sparse_coo_tensor(\n",
    "        indices_ih,\n",
    "        values_ih,\n",
    "        (num_neurons, num_input_neurons),\n",
    "        check_invariants=True,\n",
    "    ).coalesce()\n",
    "\n",
    "    # Save connectivity\n",
    "    torch.save(connectivity_hh, config.model.rnn_kwargs.connectivity_hh)  # type: ignore\n",
    "    torch.save(connectivity_ih, config.model.rnn_kwargs.connectivity_ih)  # type: ignore\n",
    "\n",
    "    # Save input indices\n",
    "    torch.save(input_indices, config.model.rnn_kwargs.input_indices)  # type: ignore\n",
    "\n",
    "\n",
    "# save_connectivity()\n",
    "# connectivity_hh = torch.load(\n",
    "#     config.model.rnn_kwargs.connectivity_hh, weights_only=True\n",
    "# )\n",
    "# connectivity_ih = torch.load(\n",
    "#     config.model.rnn_kwargs.connectivity_ih, weights_only=True\n",
    "# )\n",
    "# input_indices = torch.load(\n",
    "#     config.model.rnn_kwargs.input_indices, weights_only=True\n",
    "# )\n",
    "\n",
    "# pool = torch.nn.AdaptiveMaxPool2d((100, 100))\n",
    "# connectivity = pool(connectivity_hh.unsqueeze(0).to_dense().float())\n",
    "# plt.imshow(\n",
    "#     connectivity.squeeze(0).detach().cpu().numpy(),\n",
    "#     cmap=\"gray\",\n",
    "# )"
   ]
  },
  {
   "cell_type": "code",
   "execution_count": 9,
   "metadata": {},
   "outputs": [],
   "source": [
    "def f(t: torch.Tensor, y: torch.Tensor, args: dict):\n",
    "    h = y.t()\n",
    "\n",
    "    x = args[\"x\"]\n",
    "    bias = args[\"bias\"]\n",
    "    leak = args[\"leak\"]\n",
    "    column_ids = args[\"column_ids\"]\n",
    "    T = args[\"tau\"]\n",
    "\n",
    "    x_t = x[:, int(t * 10), column_ids].t()\n",
    "\n",
    "    h = 1 / T * (-h * leak + bias + rnn.hh(h) + 10 * rnn.ih(x_t))\n",
    "\n",
    "    return h.t()\n",
    "\n",
    "\n",
    "rnn.forward = f"
   ]
  },
  {
   "cell_type": "code",
   "execution_count": 12,
   "metadata": {},
   "outputs": [],
   "source": [
    "x = column_data[:1].to(device)\n",
    "y0 = torch.randn(len(neuron_ids)).unsqueeze(0).to(device)\n",
    "t_eval = torch.linspace(0.0, 1.0, 10).unsqueeze(0).to(device)\n",
    "\n",
    "term = to.ODETerm(rnn, with_args=True)  # type: ignore\n",
    "step_method = to.Dopri5(term=term)\n",
    "step_size_controller = to.IntegralController(atol=1e-6, rtol=1e-3, term=term)\n",
    "solver = to.AutoDiffAdjoint(\n",
    "    step_method,  # type: ignore\n",
    "    step_size_controller,  # type: ignore\n",
    ").to(device)\n",
    "# solver = to.BacksolveAdjoint(term, step_method, step_size_controller).to(\n",
    "#     device\n",
    "# )\n",
    "# solver = torch.compile(solver)"
   ]
  },
  {
   "cell_type": "code",
   "execution_count": null,
   "metadata": {},
   "outputs": [],
   "source": [
    "# Solve ODE\n",
    "torch.cuda.empty_cache()\n",
    "problem = to.InitialValueProblem(y0=y0, t_eval=t_eval)  # type: ignore\n",
    "sol = solver.solve(\n",
    "    problem,\n",
    "    args={\n",
    "        \"x\": x,\n",
    "        \"bias\": 0.1,\n",
    "        \"leak\": 20.0,\n",
    "        \"tau\": 10.0,\n",
    "        \"column_ids\": column_ids,\n",
    "    },\n",
    ")\n",
    "ys = sol.ys.transpose(0, 1)\n",
    "\n",
    "# Plot\n",
    "plt.plot(\n",
    "    ys.squeeze()[:, torch.randint(0, 47521, (25,))].detach().cpu().numpy()\n",
    ")\n",
    "plt.show()"
   ]
  },
  {
   "cell_type": "code",
   "execution_count": null,
   "metadata": {},
   "outputs": [],
   "source": [
    "preds = model.out_layer(ys[0])\n",
    "labels = torch.rand((1, 10)).to(device)\n",
    "print(f\"preds: {preds}\")\n",
    "print(f\"labels: {labels}\")\n",
    "print(f\"preds shape: {preds.shape}\")\n",
    "print(f\"labels shape: {labels.shape}\")\n",
    "\n",
    "optimizer = torch.optim.Adam(model.parameters(), lr=0.001)\n",
    "loss = torch.nn.CrossEntropyLoss()(preds, labels)\n",
    "optimizer.zero_grad()\n",
    "loss.backward()\n",
    "optimizer.step()\n",
    "print(f\"loss: {loss}\")"
   ]
  }
 ],
 "metadata": {
  "kernelspec": {
   "display_name": "bioplnn",
   "language": "python",
   "name": "python3"
  },
  "language_info": {
   "codemirror_mode": {
    "name": "ipython",
    "version": 3
   },
   "file_extension": ".py",
   "mimetype": "text/x-python",
   "name": "python",
   "nbconvert_exporter": "python",
   "pygments_lexer": "ipython3",
   "version": "3.12.9"
  }
 },
 "nbformat": 4,
 "nbformat_minor": 2
}
