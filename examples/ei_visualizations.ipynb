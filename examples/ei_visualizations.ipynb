{
 "cells": [
  {
   "cell_type": "code",
   "execution_count": null,
   "metadata": {},
   "outputs": [],
   "source": [
    "import os\n",
    "\n",
    "import matplotlib.animation as animation\n",
    "import matplotlib.pyplot as plt\n",
    "import pandas as pd\n",
    "import torch"
   ]
  },
  {
   "cell_type": "code",
   "execution_count": 40,
   "metadata": {},
   "outputs": [
    {
     "name": "stderr",
     "output_type": "stream",
     "text": [
      "/tmp/ipykernel_323520/1228098981.py:1: FutureWarning: You are using `torch.load` with `weights_only=False` (the current default value), which uses the default pickle module implicitly. It is possible to construct malicious pickle data which will execute arbitrary code during unpickling (See https://github.com/pytorch/pytorch/blob/main/SECURITY.md#untrusted-models for more details). In a future release, the default value for `weights_only` will be flipped to `True`. This limits the functions that could be executed during unpickling. Arbitrary objects will no longer be allowed to be loaded via this mode unless they are explicitly allowlisted by the user via `torch.serialization.add_safe_globals`. We recommend you start setting `weights_only=True` for any use case where you don't have full control of the loaded file. Please open an issue on GitHub for any issues related to this experimental feature.\n",
      "  activations = torch.load(\n"
     ]
    },
    {
     "data": {
      "text/plain": [
       "dict_keys(['x', 'label', 'model_outputs', 'outs', 'h_pyrs', 'h_inters', 'pred'])"
      ]
     },
     "execution_count": 40,
     "metadata": {},
     "output_type": "execute_result"
    }
   ],
   "source": [
    "activations = torch.load(\n",
    "    \"activations/ei/mazes/daily-armadillo-3361/activations.pt\"\n",
    ")\n",
    "activations.keys()"
   ]
  },
  {
   "cell_type": "code",
   "execution_count": 41,
   "metadata": {},
   "outputs": [
    {
     "data": {
      "text/html": [
       "<div>\n",
       "<style scoped>\n",
       "    .dataframe tbody tr th:only-of-type {\n",
       "        vertical-align: middle;\n",
       "    }\n",
       "\n",
       "    .dataframe tbody tr th {\n",
       "        vertical-align: top;\n",
       "    }\n",
       "\n",
       "    .dataframe thead th {\n",
       "        text-align: right;\n",
       "    }\n",
       "</style>\n",
       "<table border=\"1\" class=\"dataframe\">\n",
       "  <thead>\n",
       "    <tr style=\"text-align: right;\">\n",
       "      <th></th>\n",
       "      <th>x</th>\n",
       "      <th>label</th>\n",
       "      <th>model_outputs</th>\n",
       "      <th>outs</th>\n",
       "      <th>h_pyrs</th>\n",
       "      <th>h_inters</th>\n",
       "      <th>pred</th>\n",
       "    </tr>\n",
       "  </thead>\n",
       "  <tbody>\n",
       "    <tr>\n",
       "      <th>0</th>\n",
       "      <td>[[[tensor([0., 0., 0., 0., 0., 0., 0., 0., 0.,...</td>\n",
       "      <td>[tensor(1)]</td>\n",
       "      <td>[[tensor(-3.1790), tensor(3.1626)]]</td>\n",
       "      <td>[[[tensor([[[ 0.0227]],\\n\\n        [[ 0.0525]]...</td>\n",
       "      <td>[[[tensor([[[-0.0078, -0.0078, -0.0078,  ..., ...</td>\n",
       "      <td>[[[tensor([[[0., 0., 0.,  ..., 0., 0., 0.],\\n ...</td>\n",
       "      <td>[tensor(1)]</td>\n",
       "    </tr>\n",
       "    <tr>\n",
       "      <th>1</th>\n",
       "      <td>[[[tensor([0., 0., 0., 0., 0., 0., 0., 0., 0.,...</td>\n",
       "      <td>[tensor(0)]</td>\n",
       "      <td>[[tensor(7.5633), tensor(-7.6089)]]</td>\n",
       "      <td>[[[tensor([[[ 0.0227]],\\n\\n        [[ 0.0525]]...</td>\n",
       "      <td>[[[tensor([[[-0.0078, -0.0078, -0.0078,  ..., ...</td>\n",
       "      <td>[[[tensor([[[0., 0., 0.,  ..., 0., 0., 0.],\\n ...</td>\n",
       "      <td>[tensor(0)]</td>\n",
       "    </tr>\n",
       "    <tr>\n",
       "      <th>2</th>\n",
       "      <td>[[[tensor([0., 0., 0., 0., 0., 0., 0., 0., 0.,...</td>\n",
       "      <td>[tensor(1)]</td>\n",
       "      <td>[[tensor(-7.1505), tensor(7.1243)]]</td>\n",
       "      <td>[[[tensor([[[ 0.0176]],\\n\\n        [[ 0.0487]]...</td>\n",
       "      <td>[[[tensor([[[-0.0078, -0.0078, -0.0078,  ..., ...</td>\n",
       "      <td>[[[tensor([[[0., 0., 0.,  ..., 0., 0., 0.],\\n ...</td>\n",
       "      <td>[tensor(1)]</td>\n",
       "    </tr>\n",
       "    <tr>\n",
       "      <th>3</th>\n",
       "      <td>[[[tensor([0., 0., 0., 0., 0., 0., 0., 0., 0.,...</td>\n",
       "      <td>[tensor(0)]</td>\n",
       "      <td>[[tensor(8.6108), tensor(-8.6487)]]</td>\n",
       "      <td>[[[tensor([[[ 0.0174]],\\n\\n        [[ 0.0487]]...</td>\n",
       "      <td>[[[tensor([[[-0.0078, -0.0078, -0.0078,  ..., ...</td>\n",
       "      <td>[[[tensor([[[0., 0., 0.,  ..., 0., 0., 0.],\\n ...</td>\n",
       "      <td>[tensor(0)]</td>\n",
       "    </tr>\n",
       "    <tr>\n",
       "      <th>4</th>\n",
       "      <td>[[[tensor([0., 0., 0., 0., 0., 0., 0., 0., 0.,...</td>\n",
       "      <td>[tensor(1)]</td>\n",
       "      <td>[[tensor(-4.7341), tensor(4.7140)]]</td>\n",
       "      <td>[[[tensor([[[ 0.0233]],\\n\\n        [[ 0.0535]]...</td>\n",
       "      <td>[[[tensor([[[-0.0078, -0.0078, -0.0078,  ..., ...</td>\n",
       "      <td>[[[tensor([[[0., 0., 0.,  ..., 0., 0., 0.],\\n ...</td>\n",
       "      <td>[tensor(1)]</td>\n",
       "    </tr>\n",
       "    <tr>\n",
       "      <th>5</th>\n",
       "      <td>[[[tensor([0., 0., 0., 0., 0., 0., 0., 0., 0.,...</td>\n",
       "      <td>[tensor(0)]</td>\n",
       "      <td>[[tensor(6.4209), tensor(-6.4611)]]</td>\n",
       "      <td>[[[tensor([[[ 0.0230]],\\n\\n        [[ 0.0534]]...</td>\n",
       "      <td>[[[tensor([[[-0.0078, -0.0078, -0.0078,  ..., ...</td>\n",
       "      <td>[[[tensor([[[0., 0., 0.,  ..., 0., 0., 0.],\\n ...</td>\n",
       "      <td>[tensor(0)]</td>\n",
       "    </tr>\n",
       "    <tr>\n",
       "      <th>6</th>\n",
       "      <td>[[[tensor([0., 0., 0., 0., 0., 0., 0., 0., 0.,...</td>\n",
       "      <td>[tensor(1)]</td>\n",
       "      <td>[[tensor(-11.2807), tensor(11.2187)]]</td>\n",
       "      <td>[[[tensor([[[ 0.0265]],\\n\\n        [[ 0.0542]]...</td>\n",
       "      <td>[[[tensor([[[-0.0078, -0.0078, -0.0078,  ..., ...</td>\n",
       "      <td>[[[tensor([[[0., 0., 0.,  ..., 0., 0., 0.],\\n ...</td>\n",
       "      <td>[tensor(1)]</td>\n",
       "    </tr>\n",
       "    <tr>\n",
       "      <th>7</th>\n",
       "      <td>[[[tensor([0., 0., 0., 0., 0., 0., 0., 0., 0.,...</td>\n",
       "      <td>[tensor(0)]</td>\n",
       "      <td>[[tensor(6.8630), tensor(-6.9178)]]</td>\n",
       "      <td>[[[tensor([[[ 0.0266]],\\n\\n        [[ 0.0542]]...</td>\n",
       "      <td>[[[tensor([[[-0.0078, -0.0078, -0.0078,  ..., ...</td>\n",
       "      <td>[[[tensor([[[0., 0., 0.,  ..., 0., 0., 0.],\\n ...</td>\n",
       "      <td>[tensor(0)]</td>\n",
       "    </tr>\n",
       "    <tr>\n",
       "      <th>8</th>\n",
       "      <td>[[[tensor([0., 0., 0., 0., 0., 0., 0., 0., 0.,...</td>\n",
       "      <td>[tensor(1)]</td>\n",
       "      <td>[[tensor(-7.1065), tensor(7.0816)]]</td>\n",
       "      <td>[[[tensor([[[ 0.0152]],\\n\\n        [[ 0.0485]]...</td>\n",
       "      <td>[[[tensor([[[-0.0078, -0.0078, -0.0078,  ..., ...</td>\n",
       "      <td>[[[tensor([[[0., 0., 0.,  ..., 0., 0., 0.],\\n ...</td>\n",
       "      <td>[tensor(1)]</td>\n",
       "    </tr>\n",
       "    <tr>\n",
       "      <th>9</th>\n",
       "      <td>[[[tensor([0., 0., 0., 0., 0., 0., 0., 0., 0.,...</td>\n",
       "      <td>[tensor(0)]</td>\n",
       "      <td>[[tensor(11.1123), tensor(-11.1692)]]</td>\n",
       "      <td>[[[tensor([[[ 0.0151]],\\n\\n        [[ 0.0485]]...</td>\n",
       "      <td>[[[tensor([[[-0.0078, -0.0078, -0.0078,  ..., ...</td>\n",
       "      <td>[[[tensor([[[0., 0., 0.,  ..., 0., 0., 0.],\\n ...</td>\n",
       "      <td>[tensor(0)]</td>\n",
       "    </tr>\n",
       "  </tbody>\n",
       "</table>\n",
       "</div>"
      ],
      "text/plain": [
       "                                                   x        label  \\\n",
       "0  [[[tensor([0., 0., 0., 0., 0., 0., 0., 0., 0.,...  [tensor(1)]   \n",
       "1  [[[tensor([0., 0., 0., 0., 0., 0., 0., 0., 0.,...  [tensor(0)]   \n",
       "2  [[[tensor([0., 0., 0., 0., 0., 0., 0., 0., 0.,...  [tensor(1)]   \n",
       "3  [[[tensor([0., 0., 0., 0., 0., 0., 0., 0., 0.,...  [tensor(0)]   \n",
       "4  [[[tensor([0., 0., 0., 0., 0., 0., 0., 0., 0.,...  [tensor(1)]   \n",
       "5  [[[tensor([0., 0., 0., 0., 0., 0., 0., 0., 0.,...  [tensor(0)]   \n",
       "6  [[[tensor([0., 0., 0., 0., 0., 0., 0., 0., 0.,...  [tensor(1)]   \n",
       "7  [[[tensor([0., 0., 0., 0., 0., 0., 0., 0., 0.,...  [tensor(0)]   \n",
       "8  [[[tensor([0., 0., 0., 0., 0., 0., 0., 0., 0.,...  [tensor(1)]   \n",
       "9  [[[tensor([0., 0., 0., 0., 0., 0., 0., 0., 0.,...  [tensor(0)]   \n",
       "\n",
       "                           model_outputs  \\\n",
       "0    [[tensor(-3.1790), tensor(3.1626)]]   \n",
       "1    [[tensor(7.5633), tensor(-7.6089)]]   \n",
       "2    [[tensor(-7.1505), tensor(7.1243)]]   \n",
       "3    [[tensor(8.6108), tensor(-8.6487)]]   \n",
       "4    [[tensor(-4.7341), tensor(4.7140)]]   \n",
       "5    [[tensor(6.4209), tensor(-6.4611)]]   \n",
       "6  [[tensor(-11.2807), tensor(11.2187)]]   \n",
       "7    [[tensor(6.8630), tensor(-6.9178)]]   \n",
       "8    [[tensor(-7.1065), tensor(7.0816)]]   \n",
       "9  [[tensor(11.1123), tensor(-11.1692)]]   \n",
       "\n",
       "                                                outs  \\\n",
       "0  [[[tensor([[[ 0.0227]],\\n\\n        [[ 0.0525]]...   \n",
       "1  [[[tensor([[[ 0.0227]],\\n\\n        [[ 0.0525]]...   \n",
       "2  [[[tensor([[[ 0.0176]],\\n\\n        [[ 0.0487]]...   \n",
       "3  [[[tensor([[[ 0.0174]],\\n\\n        [[ 0.0487]]...   \n",
       "4  [[[tensor([[[ 0.0233]],\\n\\n        [[ 0.0535]]...   \n",
       "5  [[[tensor([[[ 0.0230]],\\n\\n        [[ 0.0534]]...   \n",
       "6  [[[tensor([[[ 0.0265]],\\n\\n        [[ 0.0542]]...   \n",
       "7  [[[tensor([[[ 0.0266]],\\n\\n        [[ 0.0542]]...   \n",
       "8  [[[tensor([[[ 0.0152]],\\n\\n        [[ 0.0485]]...   \n",
       "9  [[[tensor([[[ 0.0151]],\\n\\n        [[ 0.0485]]...   \n",
       "\n",
       "                                              h_pyrs  \\\n",
       "0  [[[tensor([[[-0.0078, -0.0078, -0.0078,  ..., ...   \n",
       "1  [[[tensor([[[-0.0078, -0.0078, -0.0078,  ..., ...   \n",
       "2  [[[tensor([[[-0.0078, -0.0078, -0.0078,  ..., ...   \n",
       "3  [[[tensor([[[-0.0078, -0.0078, -0.0078,  ..., ...   \n",
       "4  [[[tensor([[[-0.0078, -0.0078, -0.0078,  ..., ...   \n",
       "5  [[[tensor([[[-0.0078, -0.0078, -0.0078,  ..., ...   \n",
       "6  [[[tensor([[[-0.0078, -0.0078, -0.0078,  ..., ...   \n",
       "7  [[[tensor([[[-0.0078, -0.0078, -0.0078,  ..., ...   \n",
       "8  [[[tensor([[[-0.0078, -0.0078, -0.0078,  ..., ...   \n",
       "9  [[[tensor([[[-0.0078, -0.0078, -0.0078,  ..., ...   \n",
       "\n",
       "                                            h_inters         pred  \n",
       "0  [[[tensor([[[0., 0., 0.,  ..., 0., 0., 0.],\\n ...  [tensor(1)]  \n",
       "1  [[[tensor([[[0., 0., 0.,  ..., 0., 0., 0.],\\n ...  [tensor(0)]  \n",
       "2  [[[tensor([[[0., 0., 0.,  ..., 0., 0., 0.],\\n ...  [tensor(1)]  \n",
       "3  [[[tensor([[[0., 0., 0.,  ..., 0., 0., 0.],\\n ...  [tensor(0)]  \n",
       "4  [[[tensor([[[0., 0., 0.,  ..., 0., 0., 0.],\\n ...  [tensor(1)]  \n",
       "5  [[[tensor([[[0., 0., 0.,  ..., 0., 0., 0.],\\n ...  [tensor(0)]  \n",
       "6  [[[tensor([[[0., 0., 0.,  ..., 0., 0., 0.],\\n ...  [tensor(1)]  \n",
       "7  [[[tensor([[[0., 0., 0.,  ..., 0., 0., 0.],\\n ...  [tensor(0)]  \n",
       "8  [[[tensor([[[0., 0., 0.,  ..., 0., 0., 0.],\\n ...  [tensor(1)]  \n",
       "9  [[[tensor([[[0., 0., 0.,  ..., 0., 0., 0.],\\n ...  [tensor(0)]  "
      ]
     },
     "execution_count": 41,
     "metadata": {},
     "output_type": "execute_result"
    }
   ],
   "source": [
    "# Convert activations (which is a list of dicts, where the inner dicts are column names) to a pandas df\n",
    "df = pd.DataFrame(activations)\n",
    "df"
   ]
  },
  {
   "cell_type": "code",
   "execution_count": 42,
   "metadata": {},
   "outputs": [
    {
     "data": {
      "text/plain": [
       "x                [[[tensor([0., 0., 0., 0., 0., 0., 0., 0., 0.,...\n",
       "label                                                  [tensor(1)]\n",
       "model_outputs                  [[tensor(-3.1790), tensor(3.1626)]]\n",
       "outs             [[[tensor([[[ 0.0227]],\\n\\n        [[ 0.0525]]...\n",
       "h_pyrs           [[[tensor([[[-0.0078, -0.0078, -0.0078,  ..., ...\n",
       "h_inters         [[[tensor([[[0., 0., 0.,  ..., 0., 0., 0.],\\n ...\n",
       "pred                                                   [tensor(1)]\n",
       "Name: 0, dtype: object"
      ]
     },
     "execution_count": 42,
     "metadata": {},
     "output_type": "execute_result"
    }
   ],
   "source": [
    "sample_test = df.iloc[0]\n",
    "sample_test"
   ]
  },
  {
   "cell_type": "code",
   "execution_count": 43,
   "metadata": {},
   "outputs": [
    {
     "data": {
      "text/plain": [
       "torch.Size([20, 1, 32, 48, 48])"
      ]
     },
     "execution_count": 43,
     "metadata": {},
     "output_type": "execute_result"
    }
   ],
   "source": [
    "sample_test.h_pyrs[-1].shape"
   ]
  },
  {
   "cell_type": "code",
   "execution_count": 44,
   "metadata": {},
   "outputs": [
    {
     "data": {
      "image/png": "[encoded data removed]",
      "text/plain": [
       "<Figure size 640x480 with 1 Axes>"
      ]
     },
     "metadata": {},
     "output_type": "display_data"
    }
   ],
   "source": [
    "plt.imshow(sample_test.x.squeeze()[:3].permute(1, 2, 0))\n",
    "plt.show()"
   ]
  },
  {
   "cell_type": "code",
   "execution_count": null,
   "metadata": {},
   "outputs": [
    {
     "data": {
      "image/png": "[encoded data removed]",
      "text/plain": [
       "<Figure size 640x480 with 1 Axes>"
      ]
     },
     "metadata": {},
     "output_type": "display_data"
    }
   ],
   "source": [
    "plt.imshow(sample_test.h_pyrs[-1].squeeze()[0].sum(dim=0), cmap=\"gray\")\n",
    "plt.show()"
   ]
  },
  {
   "cell_type": "code",
   "execution_count": 52,
   "metadata": {},
   "outputs": [],
   "source": [
    "fps = 5\n",
    "save_dir = \"visualizations\"\n",
    "os.makedirs(save_dir, exist_ok=True)\n",
    "\n",
    "for i, sample in df.iterrows():\n",
    "    plt.imsave(\n",
    "        f\"{save_dir}/x_maze_{i}.png\",\n",
    "        sample.x.squeeze()[:3].permute(1, 2, 0).numpy(),\n",
    "    )\n",
    "    plt.imsave(\n",
    "        f\"{save_dir}/x_start_end_{i}.png\",\n",
    "        sample.x.squeeze()[3].numpy(),\n",
    "        cmap=\"viridis\",\n",
    "    )\n",
    "    for activation in (\"h_pyrs\", \"h_inters\"):\n",
    "        # Assuming 'sample' is your data object containing h_pyrs\n",
    "        hs = sample[activation][-1].squeeze()\n",
    "\n",
    "        # Create a figure and axis\n",
    "        fig, ax = plt.subplots(figsize=(8, 8))\n",
    "\n",
    "        # Initialize the plot with the first frame\n",
    "        im = ax.imshow(hs[0].sum(dim=0).cpu().numpy(), cmap=\"viridis\")\n",
    "\n",
    "        # Function to update the frame\n",
    "        def update(frame):\n",
    "            im.set_array(hs[frame].sum(dim=0).cpu().numpy())\n",
    "            return [im]\n",
    "\n",
    "        # Create the animation\n",
    "        anim = animation.FuncAnimation(\n",
    "            fig, update, frames=len(hs), interval=1000 / fps, blit=True\n",
    "        )\n",
    "\n",
    "        # Display the animation in the notebook\n",
    "        # display(HTML(anim.to_jshtml()))\n",
    "\n",
    "        # Save the animation as an MP4 file\n",
    "        anim.save(\n",
    "            f\"{save_dir}/{activation}_{i}.mp4\",\n",
    "            writer=\"ffmpeg\",\n",
    "            fps=fps,\n",
    "        )\n",
    "\n",
    "        plt.close(fig)"
   ]
  }
 ],
 "metadata": {
  "kernelspec": {
   "display_name": "pytorch",
   "language": "python",
   "name": "python3"
  },
  "language_info": {
   "codemirror_mode": {
    "name": "ipython",
    "version": 3
   },
   "file_extension": ".py",
   "mimetype": "text/x-python",
   "name": "python",
   "nbconvert_exporter": "python",
   "pygments_lexer": "ipython3",
   "version": "3.12.7"
  }
 },
 "nbformat": 4,
 "nbformat_minor": 2
}
