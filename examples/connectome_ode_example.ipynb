{
 "cells": [
  {
   "cell_type": "code",
   "execution_count": 1,
   "metadata": {},
   "outputs": [],
   "source": [
    "import torch\n",
    "import torchvision.transforms as T\n",
    "from hydra import compose, initialize\n",
    "from omegaconf import OmegaConf\n",
    "from torch import nn\n",
    "from torch.utils.data import DataLoader\n",
    "from torchvision.datasets import MNIST\n",
    "from tqdm import tqdm\n",
    "\n",
    "from bioplnn.models import ConnectomeODEClassifier\n",
    "from bioplnn.utils import (\n",
    "    AttrDict,\n",
    ")"
   ]
  },
  {
   "cell_type": "code",
   "execution_count": 2,
   "metadata": {},
   "outputs": [
    {
     "name": "stdout",
     "output_type": "stream",
     "text": [
      "Sat Mar 15 23:14:00 2025       \n",
      "+-----------------------------------------------------------------------------------------+\n",
      "| NVIDIA-SMI 550.54.14              Driver Version: 550.54.14      CUDA Version: 12.4     |\n",
      "|-----------------------------------------+------------------------+----------------------+\n",
      "| GPU  Name                 Persistence-M | Bus-Id          Disp.A | Volatile Uncorr. ECC |\n",
      "| Fan  Temp   Perf          Pwr:Usage/Cap |           Memory-Usage | GPU-Util  Compute M. |\n",
      "|                                         |                        |               MIG M. |\n",
      "|=========================================+========================+======================|\n",
      "|   0  NVIDIA A100 80GB PCIe          On  |   00000000:C4:00.0 Off |                    0 |\n",
      "| N/A   36C    P0             53W /  300W |       3MiB /  81920MiB |      0%      Default |\n",
      "|                                         |                        |             Disabled |\n",
      "+-----------------------------------------+------------------------+----------------------+\n",
      "                                                                                         \n",
      "+-----------------------------------------------------------------------------------------+\n",
      "| Processes:                                                                              |\n",
      "|  GPU   GI   CI        PID   Type   Process name                              GPU Memory |\n",
      "|        ID   ID                                                               Usage      |\n",
      "|=========================================================================================|\n",
      "|  No running processes found                                                             |\n",
      "+-----------------------------------------------------------------------------------------+\n"
     ]
    }
   ],
   "source": [
    "device = torch.device(\"cuda\" if torch.cuda.is_available() else \"cpu\")\n",
    "torch.set_float32_matmul_precision(\"high\")\n",
    "torch.cuda.empty_cache()\n",
    "!nvidia-smi"
   ]
  },
  {
   "cell_type": "code",
   "execution_count": 4,
   "metadata": {},
   "outputs": [],
   "source": [
    "with initialize(version_base=None, config_path=\"../config/\", job_name=\"testing\"):\n",
    "    config = compose(\n",
    "        config_name=\"config\",\n",
    "        overrides=[\"data=mnist_conn\", \"model=conn\"],\n",
    "    )\n",
    "config = OmegaConf.to_container(config, resolve=True)\n",
    "config = AttrDict(config)"
   ]
  },
  {
   "cell_type": "code",
   "execution_count": 11,
   "metadata": {},
   "outputs": [],
   "source": [
    "model = ConnectomeODEClassifier(\n",
    "    rnn_kwargs={\n",
    "        \"input_size\": 784,\n",
    "        \"hidden_size\": 47521,\n",
    "        \"connectivity_hh\": \"connectivity/sunny/connectivity_hh.pt\",\n",
    "        \"connectivity_ih\": \"connectivity/sunny/connectivity_ih_mnist.pt\",\n",
    "        \"output_neurons\": \"connectivity/sunny/output_indices_mnist.pt\",\n",
    "        \"nonlinearity\": \"Sigmoid\",\n",
    "        \"batch_first\": False,\n",
    "        \"compile_solver_kwargs\": {\n",
    "            \"mode\": \"max-autotune\",\n",
    "            \"dynamic\": False,\n",
    "            \"fullgraph\": True,\n",
    "        },\n",
    "    },\n",
    "    num_classes=10,\n",
    "    fc_dim=256,\n",
    "    dropout=0.5,\n",
    ").to(device)\n",
    "# Define the optimizer\n",
    "optimizer = torch.optim.Adam(model.parameters(), lr=0.001)\n",
    "\n",
    "# Define the loss function\n",
    "criterion = nn.CrossEntropyLoss()\n"
   ]
  },
  {
   "cell_type": "code",
   "execution_count": 12,
   "metadata": {},
   "outputs": [],
   "source": [
    "transform = T.Compose([T.ToTensor(), T.Normalize((0.1307,), (0.3081,))])\n",
    "train_data = MNIST(root=\"data\", train=True, transform=transform)\n",
    "train_loader = DataLoader(\n",
    "    train_data, batch_size=8, num_workers=8, shuffle=True\n",
    ")"
   ]
  },
  {
   "cell_type": "code",
   "execution_count": null,
   "metadata": {},
   "outputs": [],
   "source": [
    "# Define the training loop\n",
    "model.train()\n",
    "try:\n",
    "    del x, labels, preds, loss\n",
    "except Exception:\n",
    "    pass\n",
    "torch.cuda.empty_cache()\n",
    "for epoch in range(10):\n",
    "    for i, (x, labels) in enumerate(tqdm(train_loader)):\n",
    "        x = x.to(device)\n",
    "        labels = labels.to(device)\n",
    "        torch._inductor.cudagraph_mark_step_begin()\n",
    "        preds = model(x, num_steps=10)\n",
    "        loss = criterion(preds, labels)\n",
    "        optimizer.zero_grad()\n",
    "        loss.backward()\n",
    "        optimizer.step()"
   ]
  }
 ],
 "metadata": {
  "kernelspec": {
   "display_name": "bioplnn",
   "language": "python",
   "name": "python3"
  },
  "language_info": {
   "codemirror_mode": {
    "name": "ipython",
    "version": 3
   },
   "file_extension": ".py",
   "mimetype": "text/x-python",
   "name": "python",
   "nbconvert_exporter": "python",
   "pygments_lexer": "ipython3",
   "version": "3.12.8"
  }
 },
 "nbformat": 4,
 "nbformat_minor": 2
}
