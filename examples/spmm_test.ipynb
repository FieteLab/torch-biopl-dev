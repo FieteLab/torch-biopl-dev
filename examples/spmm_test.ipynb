{
 "cells": [
  {
   "cell_type": "markdown",
   "metadata": {},
   "source": [
    "## Imports"
   ]
  },
  {
   "cell_type": "code",
   "execution_count": 1,
   "metadata": {},
   "outputs": [],
   "source": [
    "import torch\n",
    "import torch_sparse\n",
    "import torchsparsegradutils as tsgu\n",
    "import math\n",
    "from sklearn.model_selection import ParameterGrid\n",
    "from bioplnn.utils import AttrDict, idx_2D_to_1D\n",
    "from bioplnn.models import TopographicalRNN\n",
    "from bioplnn.utils import get_mnist_v1_dataloaders\n",
    "from bioplnn.sparse_sgd import SparseSGD"
   ]
  },
  {
   "cell_type": "code",
   "execution_count": 2,
   "metadata": {},
   "outputs": [
    {
     "name": "stdout",
     "output_type": "stream",
     "text": [
      "Wed Jun 19 19:33:44 2024       \n",
      "+-----------------------------------------------------------------------------------------+\n",
      "| NVIDIA-SMI 550.54.14              Driver Version: 550.54.14      CUDA Version: 12.4     |\n",
      "|-----------------------------------------+------------------------+----------------------+\n",
      "| GPU  Name                 Persistence-M | Bus-Id          Disp.A | Volatile Uncorr. ECC |\n",
      "| Fan  Temp   Perf          Pwr:Usage/Cap |           Memory-Usage | GPU-Util  Compute M. |\n",
      "|                                         |                        |               MIG M. |\n",
      "|=========================================+========================+======================|\n",
      "|   0  NVIDIA A100 80GB PCIe          On  |   00000000:43:00.0 Off |                    0 |\n",
      "| N/A   50C    P0             56W /  300W |       0MiB /  81920MiB |      0%      Default |\n",
      "|                                         |                        |             Disabled |\n",
      "+-----------------------------------------+------------------------+----------------------+\n",
      "                                                                                         \n",
      "+-----------------------------------------------------------------------------------------+\n",
      "| Processes:                                                                              |\n",
      "|  GPU   GI   CI        PID   Type   Process name                              GPU Memory |\n",
      "|        ID   ID                                                               Usage      |\n",
      "|=========================================================================================|\n",
      "|  No running processes found                                                             |\n",
      "+-----------------------------------------------------------------------------------------+\n"
     ]
    }
   ],
   "source": [
    "!nvidia-smi"
   ]
  },
  {
   "cell_type": "markdown",
   "metadata": {},
   "source": [
    "## Parameters"
   ]
  },
  {
   "cell_type": "code",
   "execution_count": 3,
   "metadata": {},
   "outputs": [
    {
     "name": "stdout",
     "output_type": "stream",
     "text": [
      "Sparsity: 99.90%\n"
     ]
    }
   ],
   "source": [
    "batch_size = 1\n",
    "num_neurons = 100000\n",
    "synapses_per_neuron = 100\n",
    "torch.set_float32_matmul_precision(\"high\")\n",
    "device = torch.device(\"cuda\" if torch.cuda.is_available() else \"cpu\")\n",
    "print(f\"Sparsity: {1 - synapses_per_neuron / num_neurons:.2%}\")"
   ]
  },
  {
   "cell_type": "code",
   "execution_count": 4,
   "metadata": {},
   "outputs": [
    {
     "name": "stderr",
     "output_type": "stream",
     "text": [
      "/tmp/ipykernel_123237/4124459357.py:19: UserWarning: Sparse CSR tensor support is in beta state. If you miss a functionality in the sparse tensor support, please submit a feature request to https://github.com/pytorch/pytorch/issues. (Triggered internally at ../aten/src/ATen/SparseCsrTensorImpl.cpp:53.)\n",
      "  csr_matrix = coo_matrix.to_sparse_csr().to(device)\n"
     ]
    }
   ],
   "source": [
    "# Create a dense vector\n",
    "indices = []\n",
    "for i in range(num_neurons):\n",
    "    synapses = torch.randint(0, num_neurons, (synapses_per_neuron,))\n",
    "    synapse_root = torch.ones_like(synapses) * i\n",
    "    indices.append(torch.stack((synapses, synapse_root)))\n",
    "indices = torch.cat(indices, dim=1).to(device)\n",
    "values = torch.randn(num_neurons * synapses_per_neuron).to(device)\n",
    "\n",
    "indices, values = torch_sparse.coalesce(\n",
    "    indices, values, num_neurons, num_neurons\n",
    ")\n",
    "\n",
    "coo_matrix = (\n",
    "    torch.sparse_coo_tensor(indices, values, (num_neurons, num_neurons))\n",
    "    .coalesce()\n",
    "    .to(device)\n",
    ")\n",
    "csr_matrix = coo_matrix.to_sparse_csr().to(device)\n",
    "# dense_matrix = coo_matrix.to_dense().to(device)\n",
    "dense_vector_batched = torch.randn(num_neurons, batch_size).to(device)\n",
    "bias = torch.randn(num_neurons, 1).to(device)"
   ]
  },
  {
   "cell_type": "markdown",
   "metadata": {},
   "source": [
    "## On GPU"
   ]
  },
  {
   "cell_type": "markdown",
   "metadata": {},
   "source": [
    "### `requires_grad == False`"
   ]
  },
  {
   "cell_type": "code",
   "execution_count": 31,
   "metadata": {},
   "outputs": [
    {
     "name": "stdout",
     "output_type": "stream",
     "text": [
      "346 µs ± 21.6 ns per loop (mean ± std. dev. of 7 runs, 1,000 loops each)\n"
     ]
    }
   ],
   "source": [
    "%timeit torch.sparse.mm(coo_matrix, dense_vector_batched)"
   ]
  },
  {
   "cell_type": "code",
   "execution_count": 32,
   "metadata": {},
   "outputs": [
    {
     "name": "stdout",
     "output_type": "stream",
     "text": [
      "158 µs ± 182 ns per loop (mean ± std. dev. of 7 runs, 10,000 loops each)\n"
     ]
    }
   ],
   "source": [
    "%timeit torch.sparse.mm(csr_matrix, dense_vector_batched)"
   ]
  },
  {
   "cell_type": "code",
   "execution_count": 33,
   "metadata": {},
   "outputs": [
    {
     "name": "stdout",
     "output_type": "stream",
     "text": [
      "346 µs ± 36.3 ns per loop (mean ± std. dev. of 7 runs, 1,000 loops each)\n"
     ]
    }
   ],
   "source": [
    "%timeit tsgu.sparse_mm(coo_matrix, dense_vector_batched)"
   ]
  },
  {
   "cell_type": "code",
   "execution_count": 34,
   "metadata": {},
   "outputs": [
    {
     "name": "stdout",
     "output_type": "stream",
     "text": [
      "159 µs ± 139 ns per loop (mean ± std. dev. of 7 runs, 10,000 loops each)\n"
     ]
    }
   ],
   "source": [
    "%timeit tsgu.sparse_mm(csr_matrix, dense_vector_batched)"
   ]
  },
  {
   "cell_type": "code",
   "execution_count": 35,
   "metadata": {},
   "outputs": [
    {
     "name": "stdout",
     "output_type": "stream",
     "text": [
      "771 µs ± 142 ns per loop (mean ± std. dev. of 7 runs, 1,000 loops each)\n"
     ]
    }
   ],
   "source": [
    "%timeit torch_sparse.spmm(indices, values, num_neurons, num_neurons, dense_vector_batched)"
   ]
  },
  {
   "cell_type": "code",
   "execution_count": 37,
   "metadata": {},
   "outputs": [
    {
     "name": "stdout",
     "output_type": "stream",
     "text": [
      "24.4 ms ± 203 ns per loop (mean ± std. dev. of 7 runs, 1,000 loops each)\n"
     ]
    }
   ],
   "source": [
    "%timeit torch.mm(dense_matrix, dense_vector_batched)"
   ]
  },
  {
   "cell_type": "markdown",
   "metadata": {},
   "source": [
    "### `requires_grad == True`"
   ]
  },
  {
   "cell_type": "code",
   "execution_count": 18,
   "metadata": {},
   "outputs": [],
   "source": [
    "coo_weight = coo_matrix.clone().requires_grad_(True)\n",
    "csr_weight = csr_matrix.clone().requires_grad_(True)\n",
    "torch_sparse_weight = values.clone().requires_grad_(True)\n",
    "# dense_weight = dense_matrix.clone().requires_grad_(True)\n",
    "\n",
    "coo_optimizer = torch.optim.SGD([coo_weight], lr=0.01)\n",
    "csr_optimizer = SparseSGD([csr_weight], lr=0.01)\n",
    "torch_sparse_optimizer = torch.optim.SGD([torch_sparse_weight], lr=0.01)"
   ]
  },
  {
   "cell_type": "code",
   "execution_count": null,
   "metadata": {},
   "outputs": [],
   "source": [
    "%%timeit\n",
    "out = torch.sparse.mm(coo_weight, dense_vector_batched)\n",
    "coo_optimizer.zero_grad()\n",
    "out.sum().backward()\n",
    "coo_optimizer.step()"
   ]
  },
  {
   "cell_type": "code",
   "execution_count": 15,
   "metadata": {},
   "outputs": [
    {
     "name": "stdout",
     "output_type": "stream",
     "text": [
      "7.83 ms ± 3.1 µs per loop (mean ± std. dev. of 7 runs, 100 loops each)\n"
     ]
    }
   ],
   "source": [
    "%%timeit\n",
    "out = torch.sparse.mm(csr_weight, dense_vector_batched)\n",
    "csr_optimizer.zero_grad()\n",
    "out.sum().backward()\n",
    "csr_optimizer.step()"
   ]
  },
  {
   "cell_type": "code",
   "execution_count": 16,
   "metadata": {},
   "outputs": [
    {
     "name": "stdout",
     "output_type": "stream",
     "text": [
      "1.03 ms ± 191 ns per loop (mean ± std. dev. of 7 runs, 1,000 loops each)\n"
     ]
    }
   ],
   "source": [
    "%%timeit\n",
    "out = torch_sparse.spmm(indices, torch_sparse_weight, num_neurons, num_neurons, dense_vector_batched)\n",
    "torch_sparse_optimizer.zero_grad()\n",
    "out.sum().backward()\n",
    "torch_sparse_optimizer.step()"
   ]
  },
  {
   "cell_type": "markdown",
   "metadata": {},
   "source": [
    "## On CPU"
   ]
  },
  {
   "cell_type": "code",
   "execution_count": 43,
   "metadata": {},
   "outputs": [
    {
     "ename": "",
     "evalue": "",
     "output_type": "error",
     "traceback": [
      "\u001b[1;31mThe Kernel crashed while executing code in the current cell or a previous cell. \n",
      "\u001b[1;31mPlease review the code in the cell(s) to identify a possible cause of the failure. \n",
      "\u001b[1;31mClick <a href='https://aka.ms/vscodeJupyterKernelCrash'>here</a> for more info. \n",
      "\u001b[1;31mView Jupyter <a href='command:jupyter.viewOutput'>log</a> for further details."
     ]
    }
   ],
   "source": [
    "coo_matrix = coo_matrix.to(\"cpu\")\n",
    "csr_matrix = csr_matrix.to(\"cpu\")\n",
    "# dense_matrix = coo_matrix.to_dense().to(\"cpu\")\n",
    "dense_vector_batched = dense_vector_batched.to(\"cpu\")\n",
    "indices = indices.to(\"cpu\")\n",
    "values = values.to(\"cpu\")"
   ]
  },
  {
   "cell_type": "code",
   "execution_count": 28,
   "metadata": {},
   "outputs": [
    {
     "name": "stdout",
     "output_type": "stream",
     "text": [
      "166 ms ± 1.58 ms per loop (mean ± std. dev. of 7 runs, 10 loops each)\n"
     ]
    }
   ],
   "source": [
    "%timeit torch.mm(coo_matrix, dense_vector_batched)"
   ]
  },
  {
   "cell_type": "code",
   "execution_count": 29,
   "metadata": {},
   "outputs": [
    {
     "name": "stdout",
     "output_type": "stream",
     "text": [
      "10.1 ms ± 163 µs per loop (mean ± std. dev. of 7 runs, 100 loops each)\n"
     ]
    }
   ],
   "source": [
    "%timeit torch.mm(csr_matrix, dense_vector_batched)"
   ]
  },
  {
   "cell_type": "code",
   "execution_count": 30,
   "metadata": {},
   "outputs": [
    {
     "name": "stdout",
     "output_type": "stream",
     "text": [
      "165 ms ± 1.66 ms per loop (mean ± std. dev. of 7 runs, 10 loops each)\n"
     ]
    }
   ],
   "source": [
    "%timeit torch.sparse.mm(coo_matrix, dense_vector_batched)"
   ]
  },
  {
   "cell_type": "code",
   "execution_count": 31,
   "metadata": {},
   "outputs": [
    {
     "name": "stdout",
     "output_type": "stream",
     "text": [
      "9.7 ms ± 57.7 µs per loop (mean ± std. dev. of 7 runs, 100 loops each)\n"
     ]
    }
   ],
   "source": [
    "%timeit torch.sparse.mm(csr_matrix, dense_vector_batched)"
   ]
  },
  {
   "cell_type": "code",
   "execution_count": 37,
   "metadata": {},
   "outputs": [
    {
     "name": "stdout",
     "output_type": "stream",
     "text": [
      "166 ms ± 1.75 ms per loop (mean ± std. dev. of 7 runs, 10 loops each)\n"
     ]
    }
   ],
   "source": [
    "%timeit tsgu.sparse_mm(coo_matrix, dense_vector_batched)"
   ]
  },
  {
   "cell_type": "code",
   "execution_count": 38,
   "metadata": {},
   "outputs": [
    {
     "name": "stdout",
     "output_type": "stream",
     "text": [
      "9.65 ms ± 30.3 µs per loop (mean ± std. dev. of 7 runs, 100 loops each)\n"
     ]
    }
   ],
   "source": [
    "%timeit tsgu.sparse_mm(csr_matrix, dense_vector_batched)"
   ]
  },
  {
   "cell_type": "code",
   "execution_count": 39,
   "metadata": {},
   "outputs": [
    {
     "name": "stdout",
     "output_type": "stream",
     "text": [
      "55.3 ms ± 176 µs per loop (mean ± std. dev. of 7 runs, 10 loops each)\n"
     ]
    }
   ],
   "source": [
    "%timeit torch_sparse.spmm(indices, values, num_neurons, num_neurons, dense_vector_batched)"
   ]
  },
  {
   "cell_type": "code",
   "execution_count": 20,
   "metadata": {},
   "outputs": [],
   "source": [
    "# %timeit torch.mm(dense_matrix, dense_vector_batched)"
   ]
  },
  {
   "cell_type": "markdown",
   "metadata": {},
   "source": [
    "## Testing framework"
   ]
  },
  {
   "cell_type": "code",
   "execution_count": null,
   "metadata": {},
   "outputs": [],
   "source": [
    "config = dict(\n",
    "    sheet_size=[(10, 10), (100, 100), (1000, 1000), (10000, 10000)],\n",
    "    connectivity_std=[1, 10, 100, 1000],\n",
    "    synapses_per_neuron=[10, 100, 1000, 10000],\n",
    "    num_timesteps=[100],\n",
    "    bias=[True],\n",
    "    mm_function=[\"torch_sparse\", \"native\", \"tsgu\"],\n",
    "    sparse_format=[\"torch_sparse\", \"coo\", \"csr\"],\n",
    "    batch_first=[True],\n",
    "    adjacency_matrix_path=[None],\n",
    "    self_recurrence=[True],\n",
    "    input_indices=[\"connection/V1_indices_flat.pt\"],\n",
    "    output_indices=[\"connection/V4_indices_flat.pt\"],\n",
    "    activation=[\"relu\", \"tanh\"],\n",
    "    batch_size=[1, 16, 64, 256, 1024, 4096],\n",
    ")\n",
    "lr = 1e-3\n",
    "momentum = 0.9\n",
    "\n",
    "grid = ParameterGrid(config)"
   ]
  },
  {
   "cell_type": "code",
   "execution_count": null,
   "metadata": {},
   "outputs": [],
   "source": [
    "device = torch.device(\"cuda\" if torch.cuda.is_available() else \"cpu\")\n",
    "\n",
    "for params in grid:\n",
    "    params = AttrDict(params)\n",
    "    batch_size = params.batch_size\n",
    "    del params.batch_size\n",
    "    try:\n",
    "        model = TopographicalRNN(**params).to(device)\n",
    "    except Exception as e:\n",
    "        print(e)\n",
    "        continue\n",
    "\n",
    "    optimizer = torch.optim.SGD(\n",
    "        model.parameters(),\n",
    "        lr=lr,\n",
    "        momentum=momentum,\n",
    "        foreach=False if params.sparse_format == \"csr\" else True,\n",
    "    )\n",
    "    criterion = torch.nn.CrossEntropyLoss()\n",
    "    train_loader, test_loader = get_mnist_v1_dataloaders(\n",
    "        root=\"data\",\n",
    "        retina_path=\"connection/V1_indices.npy\",\n",
    "        batch_size=params.batch_size,\n",
    "        num_workers=0,\n",
    "    )\n",
    "    \n",
    "    model.train()\n",
    "    for epoch in range(10):\n",
    "        for i, (data, target) in enumerate(train_loader):\n",
    "            data, target = data.to(device), target.to(device)\n",
    "            optimizer.zero_grad()\n",
    "            output = model(data)\n",
    "            loss = criterion(output, target)\n",
    "            loss.backward()\n",
    "            optimizer.step()\n",
    "            if i % 100 == 0:\n",
    "                print(f\"Epoch: {epoch}, Loss: {loss.item()}\")\n",
    "    "
   ]
  }
 ],
 "metadata": {
  "kernelspec": {
   "display_name": "Python 3 (ipykernel)",
   "language": "python",
   "name": "python3"
  },
  "language_info": {
   "codemirror_mode": {
    "name": "ipython",
    "version": 3
   },
   "file_extension": ".py",
   "mimetype": "text/x-python",
   "name": "python",
   "nbconvert_exporter": "python",
   "pygments_lexer": "ipython3",
   "version": "3.11.8"
  }
 },
 "nbformat": 4,
 "nbformat_minor": 2
}
