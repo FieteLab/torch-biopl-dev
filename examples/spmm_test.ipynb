{
 "cells": [
  {
   "cell_type": "markdown",
   "metadata": {},
   "source": [
    "## Imports"
   ]
  },
  {
   "cell_type": "code",
   "execution_count": 2,
   "metadata": {},
   "outputs": [],
   "source": [
    "import torch\n",
    "import torch_sparse\n",
    "from torchsparsegradutils import sparse_mm\n",
    "import math"
   ]
  },
  {
   "cell_type": "code",
   "execution_count": 3,
   "metadata": {},
   "outputs": [
    {
     "name": "stdout",
     "output_type": "stream",
     "text": [
      "Thu Feb  1 16:07:51 2024       \n",
      "+-----------------------------------------------------------------------------+\n",
      "| NVIDIA-SMI 515.86.01    Driver Version: 515.86.01    CUDA Version: 11.7     |\n",
      "|-------------------------------+----------------------+----------------------+\n",
      "| GPU  Name        Persistence-M| Bus-Id        Disp.A | Volatile Uncorr. ECC |\n",
      "| Fan  Temp  Perf  Pwr:Usage/Cap|         Memory-Usage | GPU-Util  Compute M. |\n",
      "|                               |                      |               MIG M. |\n",
      "|===============================+======================+======================|\n",
      "|   0  NVIDIA A100 80G...  On   | 00000000:83:00.0 Off |                    0 |\n",
      "| N/A   41C    P0    73W / 300W |    489MiB / 81920MiB |      0%      Default |\n",
      "|                               |                      |             Disabled |\n",
      "+-------------------------------+----------------------+----------------------+\n",
      "                                                                               \n",
      "+-----------------------------------------------------------------------------+\n",
      "| Processes:                                                                  |\n",
      "|  GPU   GI   CI        PID   Type   Process name                  GPU Memory |\n",
      "|        ID   ID                                                   Usage      |\n",
      "|=============================================================================|\n",
      "|    0   N/A  N/A   1167144      C   ...s/pytorch-3.10/bin/python      487MiB |\n",
      "+-----------------------------------------------------------------------------+\n"
     ]
    }
   ],
   "source": [
    "!nvidia-smi"
   ]
  },
  {
   "cell_type": "markdown",
   "metadata": {},
   "source": [
    "## Parameters"
   ]
  },
  {
   "cell_type": "code",
   "execution_count": 4,
   "metadata": {},
   "outputs": [],
   "source": [
    "batch_size = 1\n",
    "num_neurons = 100000\n",
    "synapses_per_neuron = 100\n",
    "device = torch.device(\"cuda\" if torch.cuda.is_available() else \"cpu\")"
   ]
  },
  {
   "cell_type": "code",
   "execution_count": 5,
   "metadata": {},
   "outputs": [
    {
     "name": "stderr",
     "output_type": "stream",
     "text": [
      "/tmp/ipykernel_1170255/4124459357.py:19: UserWarning: Sparse CSR tensor support is in beta state. If you miss a functionality in the sparse tensor support, please submit a feature request to https://github.com/pytorch/pytorch/issues. (Triggered internally at ../aten/src/ATen/SparseCsrTensorImpl.cpp:54.)\n",
      "  csr_matrix = coo_matrix.to_sparse_csr().to(device)\n"
     ]
    }
   ],
   "source": [
    "# Create a dense vector\n",
    "indices = []\n",
    "for i in range(num_neurons):\n",
    "    synapses = torch.randint(0, num_neurons, (synapses_per_neuron,))\n",
    "    synapse_root = torch.ones_like(synapses) * i\n",
    "    indices.append(torch.stack((synapses, synapse_root)))\n",
    "indices = torch.cat(indices, dim=1).to(device)\n",
    "values = torch.randn(num_neurons * synapses_per_neuron).to(device)\n",
    "\n",
    "indices, values = torch_sparse.coalesce(\n",
    "    indices, values, num_neurons, num_neurons\n",
    ")\n",
    "\n",
    "coo_matrix = (\n",
    "    torch.sparse_coo_tensor(indices, values, (num_neurons, num_neurons))\n",
    "    .coalesce()\n",
    "    .to(device)\n",
    ")\n",
    "csr_matrix = coo_matrix.to_sparse_csr().to(device)\n",
    "# dense_matrix = coo_matrix.to_dense().to(device)\n",
    "dense_vector_batched = torch.randn(num_neurons, batch_size).to(device)\n",
    "bias = torch.randn(num_neurons, 1).to(device)"
   ]
  },
  {
   "cell_type": "markdown",
   "metadata": {},
   "source": [
    "## On GPU"
   ]
  },
  {
   "cell_type": "code",
   "execution_count": 9,
   "metadata": {},
   "outputs": [
    {
     "name": "stdout",
     "output_type": "stream",
     "text": [
      "349 µs ± 129 ns per loop (mean ± std. dev. of 7 runs, 1,000 loops each)\n"
     ]
    }
   ],
   "source": [
    "%timeit torch.mm(coo_matrix, dense_vector_batched) + bias"
   ]
  },
  {
   "cell_type": "code",
   "execution_count": 10,
   "metadata": {},
   "outputs": [
    {
     "name": "stdout",
     "output_type": "stream",
     "text": [
      "345 µs ± 63.7 ns per loop (mean ± std. dev. of 7 runs, 1,000 loops each)\n"
     ]
    }
   ],
   "source": [
    "%timeit torch.addmm(bias, coo_matrix, dense_vector_batched)"
   ]
  },
  {
   "cell_type": "code",
   "execution_count": 11,
   "metadata": {},
   "outputs": [
    {
     "name": "stdout",
     "output_type": "stream",
     "text": [
      "163 µs ± 151 ns per loop (mean ± std. dev. of 7 runs, 10,000 loops each)\n"
     ]
    }
   ],
   "source": [
    "%timeit torch.mm(csr_matrix, dense_vector_batched) + bias"
   ]
  },
  {
   "cell_type": "code",
   "execution_count": 12,
   "metadata": {},
   "outputs": [
    {
     "name": "stdout",
     "output_type": "stream",
     "text": [
      "164 µs ± 106 ns per loop (mean ± std. dev. of 7 runs, 10,000 loops each)\n"
     ]
    }
   ],
   "source": [
    "%timeit torch.addmm(bias, csr_matrix, dense_vector_batched)"
   ]
  },
  {
   "cell_type": "code",
   "execution_count": 9,
   "metadata": {},
   "outputs": [
    {
     "name": "stdout",
     "output_type": "stream",
     "text": [
      "349 µs ± 58.3 ns per loop (mean ± std. dev. of 7 runs, 1,000 loops each)\n"
     ]
    }
   ],
   "source": [
    "%timeit torch.sparse.mm(coo_matrix, dense_vector_batched) + bias"
   ]
  },
  {
   "cell_type": "code",
   "execution_count": 8,
   "metadata": {},
   "outputs": [
    {
     "name": "stdout",
     "output_type": "stream",
     "text": [
      "344 µs ± 36.8 ns per loop (mean ± std. dev. of 7 runs, 1,000 loops each)\n"
     ]
    }
   ],
   "source": [
    "%timeit torch.sparse.addmm(bias, coo_matrix, dense_vector_batched)"
   ]
  },
  {
   "cell_type": "code",
   "execution_count": 7,
   "metadata": {},
   "outputs": [
    {
     "name": "stdout",
     "output_type": "stream",
     "text": [
      "162 µs ± 149 ns per loop (mean ± std. dev. of 7 runs, 10,000 loops each)\n"
     ]
    }
   ],
   "source": [
    "%timeit torch.sparse.mm(csr_matrix, dense_vector_batched) + bias"
   ]
  },
  {
   "cell_type": "code",
   "execution_count": 17,
   "metadata": {},
   "outputs": [
    {
     "name": "stdout",
     "output_type": "stream",
     "text": [
      "164 µs ± 190 ns per loop (mean ± std. dev. of 7 runs, 10,000 loops each)\n"
     ]
    }
   ],
   "source": [
    "%timeit torch.sparse.addmm(bias, csr_matrix, dense_vector_batched)"
   ]
  },
  {
   "cell_type": "code",
   "execution_count": 13,
   "metadata": {},
   "outputs": [
    {
     "name": "stdout",
     "output_type": "stream",
     "text": [
      "349 µs ± 49.9 ns per loop (mean ± std. dev. of 7 runs, 1,000 loops each)\n"
     ]
    }
   ],
   "source": [
    "%timeit sparse_mm(coo_matrix, dense_vector_batched) + bias"
   ]
  },
  {
   "cell_type": "code",
   "execution_count": 14,
   "metadata": {},
   "outputs": [
    {
     "name": "stdout",
     "output_type": "stream",
     "text": [
      "162 µs ± 98.1 ns per loop (mean ± std. dev. of 7 runs, 10,000 loops each)\n"
     ]
    }
   ],
   "source": [
    "%timeit sparse_mm(csr_matrix, dense_vector_batched) + bias"
   ]
  },
  {
   "cell_type": "code",
   "execution_count": 15,
   "metadata": {},
   "outputs": [
    {
     "name": "stdout",
     "output_type": "stream",
     "text": [
      "782 µs ± 154 ns per loop (mean ± std. dev. of 7 runs, 1,000 loops each)\n"
     ]
    }
   ],
   "source": [
    "%timeit torch_sparse.spmm(indices, values, num_neurons, num_neurons, dense_vector_batched) + bias"
   ]
  },
  {
   "cell_type": "code",
   "execution_count": null,
   "metadata": {},
   "outputs": [],
   "source": [
    "# %timeit torch.mv(dense_matrix, dense_vector_batched)"
   ]
  },
  {
   "cell_type": "code",
   "execution_count": 18,
   "metadata": {},
   "outputs": [
    {
     "ename": "NameError",
     "evalue": "name 'weight' is not defined",
     "output_type": "error",
     "traceback": [
      "\u001b[0;31m---------------------------------------------------------------------------\u001b[0m",
      "\u001b[0;31mNameError\u001b[0m                                 Traceback (most recent call last)",
      "Cell \u001b[0;32mIn[18], line 1\u001b[0m\n\u001b[0;32m----> 1\u001b[0m \u001b[38;5;28;01mdel\u001b[39;00m(weight, out)\n\u001b[1;32m      2\u001b[0m torch\u001b[38;5;241m.\u001b[39mcuda\u001b[38;5;241m.\u001b[39mempty_cache()\n",
      "\u001b[0;31mNameError\u001b[0m: name 'weight' is not defined"
     ]
    }
   ],
   "source": [
    "del(weight, out)\n",
    "torch.cuda.empty_cache()"
   ]
  },
  {
   "cell_type": "code",
   "execution_count": 30,
   "metadata": {},
   "outputs": [
    {
     "name": "stdout",
     "output_type": "stream",
     "text": [
      "CPU times: user 1.73 ms, sys: 0 ns, total: 1.73 ms\n",
      "Wall time: 1.79 ms\n"
     ]
    }
   ],
   "source": [
    "%%time\n",
    "weight = coo_matrix.clone().requires_grad_(True)\n",
    "out = torch.sparse.mm(weight, dense_vector_batched) + bias\n",
    "out.sum().backward()"
   ]
  },
  {
   "cell_type": "code",
   "execution_count": 27,
   "metadata": {},
   "outputs": [
    {
     "name": "stdout",
     "output_type": "stream",
     "text": [
      "CPU times: user 1.77 ms, sys: 0 ns, total: 1.77 ms\n",
      "Wall time: 1.86 ms\n"
     ]
    }
   ],
   "source": [
    "%%time\n",
    "weight = csr_matrix.clone().requires_grad_(True)\n",
    "out = torch.sparse.mm(weight, dense_vector_batched) + bias\n",
    "out.sum().backward()"
   ]
  },
  {
   "cell_type": "code",
   "execution_count": null,
   "metadata": {},
   "outputs": [],
   "source": []
  },
  {
   "cell_type": "code",
   "execution_count": 23,
   "metadata": {},
   "outputs": [
    {
     "data": {
      "text/plain": [
       "tensor(crow_indices=tensor([      0,     108,     214,  ..., 9994846,\n",
       "                            9994958, 9995039]),\n",
       "       col_indices=tensor([  917,  1160,  2078,  ..., 95933, 95997, 98054]),\n",
       "       values=tensor([-0.6188, -2.0300, -0.6389,  ...,  1.2913, -0.5155,\n",
       "                       0.7060]), device='cuda:0', size=(100000, 100000),\n",
       "       nnz=9995039, layout=torch.sparse_csr, requires_grad=True)"
      ]
     },
     "execution_count": 23,
     "metadata": {},
     "output_type": "execute_result"
    }
   ],
   "source": [
    "weight"
   ]
  },
  {
   "cell_type": "markdown",
   "metadata": {},
   "source": [
    "## On CPU"
   ]
  },
  {
   "cell_type": "code",
   "execution_count": 16,
   "metadata": {},
   "outputs": [],
   "source": [
    "coo_matrix = coo_matrix.to(\"cpu\")\n",
    "csr_matrix = csr_matrix.to(\"cpu\")\n",
    "# dense_matrix = dense_matrix.to('cpu')\n",
    "dense_vector_batched = dense_vector_batched.to(\"cpu\")\n",
    "indices = indices.to(\"cpu\")\n",
    "values = values.to(\"cpu\")"
   ]
  },
  {
   "cell_type": "code",
   "execution_count": 17,
   "metadata": {},
   "outputs": [
    {
     "name": "stdout",
     "output_type": "stream",
     "text": [
      "1.46 s ± 12.5 ms per loop (mean ± std. dev. of 7 runs, 1 loop each)\n"
     ]
    }
   ],
   "source": [
    "%timeit torch.mm(coo_matrix, dense_vector_batched)"
   ]
  },
  {
   "cell_type": "code",
   "execution_count": null,
   "metadata": {},
   "outputs": [
    {
     "name": "stdout",
     "output_type": "stream",
     "text": [
      "1.23 ms ± 18.6 µs per loop (mean ± std. dev. of 7 runs, 1,000 loops each)\n"
     ]
    }
   ],
   "source": [
    "%timeit torch.mm(csr_matrix, dense_vector_batched)"
   ]
  },
  {
   "cell_type": "code",
   "execution_count": null,
   "metadata": {},
   "outputs": [
    {
     "name": "stdout",
     "output_type": "stream",
     "text": [
      "18.3 ms ± 133 µs per loop (mean ± std. dev. of 7 runs, 100 loops each)\n"
     ]
    }
   ],
   "source": [
    "%timeit torch.sparse.mm(coo_matrix, dense_vector_batched)"
   ]
  },
  {
   "cell_type": "code",
   "execution_count": null,
   "metadata": {},
   "outputs": [
    {
     "name": "stdout",
     "output_type": "stream",
     "text": [
      "2.04 ms ± 110 µs per loop (mean ± std. dev. of 7 runs, 100 loops each)\n"
     ]
    }
   ],
   "source": [
    "%timeit torch.sparse.mm(csr_matrix, dense_vector_batched)"
   ]
  },
  {
   "cell_type": "code",
   "execution_count": null,
   "metadata": {},
   "outputs": [
    {
     "name": "stdout",
     "output_type": "stream",
     "text": [
      "8 ms ± 111 µs per loop (mean ± std. dev. of 7 runs, 100 loops each)\n"
     ]
    }
   ],
   "source": [
    "%timeit torch_sparse.spmm(indices, values, num_neurons, num_neurons, dense_vector_batched)"
   ]
  },
  {
   "cell_type": "code",
   "execution_count": null,
   "metadata": {},
   "outputs": [],
   "source": [
    "# %timeit torch.mv(dense_matrix, dense_vector_batched)"
   ]
  },
  {
   "cell_type": "markdown",
   "metadata": {},
   "source": [
    "## Varying sparsity pattern with same sparsity ratio"
   ]
  },
  {
   "cell_type": "code",
   "execution_count": 30,
   "metadata": {},
   "outputs": [],
   "source": [
    "def idx_1D_to_2D(x, sheet_size):\n",
    "    return torch.stack((x // sheet_size[1], x % sheet_size[1]))\n",
    "\n",
    "\n",
    "def idx_2D_to_1D(x, sheet_size):\n",
    "    return x[0] * sheet_size[1] + x[1]"
   ]
  },
  {
   "cell_type": "code",
   "execution_count": 31,
   "metadata": {},
   "outputs": [],
   "source": [
    "batch_size = 16\n",
    "num_neurons = 10000\n",
    "synapses_per_neuron = 100\n",
    "sheet_size = (100, 100)\n",
    "connectivity_std = 10\n",
    "device = torch.device(\"cuda\" if torch.cuda.is_available() else \"cpu\")\n",
    "\n",
    "x = torch.randn(num_neurons, batch_size).to(device)\n",
    "bias = torch.randn(num_neurons, 1).to(device)"
   ]
  },
  {
   "cell_type": "code",
   "execution_count": 32,
   "metadata": {},
   "outputs": [],
   "source": [
    "# Create a sparse tensor for the weight matrix\n",
    "indices = []\n",
    "\n",
    "# Create adjacency matrix with normal distribution randomized weights\n",
    "for i in range(num_neurons):\n",
    "    synapses = torch.randint(0, num_neurons, (synapses_per_neuron,))\n",
    "    synapse_root = torch.full_like(synapses, i)\n",
    "    indices.append(torch.stack((synapses, synapse_root)))\n",
    "indices = torch.cat(indices, dim=1)\n",
    "# Xavier initialization of values (synapses_per_neuron is the fan-in/out)\n",
    "values = torch.randn(num_neurons * synapses_per_neuron) * math.sqrt(\n",
    "    1 / synapses_per_neuron\n",
    ")\n",
    "\n",
    "random_weight = (\n",
    "    torch.sparse_coo_tensor(\n",
    "        indices, values, (num_neurons, num_neurons), check_invariants=True\n",
    "    )\n",
    "    .coalesce()\n",
    "    .to(device)\n",
    ")"
   ]
  },
  {
   "cell_type": "code",
   "execution_count": 39,
   "metadata": {},
   "outputs": [],
   "source": [
    "# Create a sparse tensor for the weight matrix\n",
    "indices = []\n",
    "\n",
    "# Create adjacency matrix with normal distribution randomized weights\n",
    "for i in range(sheet_size[0]):\n",
    "    for j in range(sheet_size[1]):\n",
    "        synapses = (\n",
    "            torch.randn(2, synapses_per_neuron)\n",
    "            * torch.tensor((connectivity_std, connectivity_std))[:, None]\n",
    "            + torch.tensor((i, j))[:, None]\n",
    "        ).long()\n",
    "        synapses = synapses.clamp(\n",
    "            torch.tensor((0, 0))[:, None],\n",
    "            torch.tensor((sheet_size[0] - 1, sheet_size[1] - 1))[:, None],\n",
    "        )\n",
    "        synapses = idx_2D_to_1D(synapses, sheet_size)\n",
    "        synapse_root = torch.full_like(\n",
    "            synapses, idx_2D_to_1D(torch.tensor((i, j)), sheet_size)\n",
    "        )\n",
    "        indices.append(torch.stack((synapses, synapse_root)))\n",
    "indices = torch.cat(indices, dim=1)\n",
    "# Sort indices by synapses\n",
    "# indices = indices[:, torch.argsort(indices[0])]\n",
    "# Xavier initialization of values (synapses_per_neuron is the fan-in/out)\n",
    "values = torch.randn(indices.shape[1]) * math.sqrt(1 / synapses_per_neuron)\n",
    "\n",
    "topographic_weight = (\n",
    "    torch.sparse_coo_tensor(indices, values, (num_neurons, num_neurons))\n",
    "    .coalesce()\n",
    "    .to(device)\n",
    ")"
   ]
  },
  {
   "cell_type": "code",
   "execution_count": 40,
   "metadata": {},
   "outputs": [
    {
     "name": "stdout",
     "output_type": "stream",
     "text": [
      "145 µs ± 85 ns per loop (mean ± std. dev. of 7 runs, 10,000 loops each)\n"
     ]
    }
   ],
   "source": [
    "%timeit torch.sparse.addmm(bias, random_weight, x)"
   ]
  },
  {
   "cell_type": "code",
   "execution_count": 41,
   "metadata": {},
   "outputs": [
    {
     "name": "stdout",
     "output_type": "stream",
     "text": [
      "132 µs ± 44.7 ns per loop (mean ± std. dev. of 7 runs, 10,000 loops each)\n"
     ]
    }
   ],
   "source": [
    "%timeit torch.sparse.addmm(bias, topographic_weight, x)"
   ]
  },
  {
   "cell_type": "code",
   "execution_count": 36,
   "metadata": {},
   "outputs": [
    {
     "data": {
      "text/plain": [
       "(995005, 908210)"
      ]
     },
     "execution_count": 36,
     "metadata": {},
     "output_type": "execute_result"
    }
   ],
   "source": [
    "random_weight._nnz(), topographic_weight._nnz()"
   ]
  }
 ],
 "metadata": {
  "kernelspec": {
   "display_name": "Python 3 (ipykernel)",
   "language": "python",
   "name": "python3"
  },
  "language_info": {
   "codemirror_mode": {
    "name": "ipython",
    "version": 3
   },
   "file_extension": ".py",
   "mimetype": "text/x-python",
   "name": "python",
   "nbconvert_exporter": "python",
   "pygments_lexer": "ipython3",
   "version": "3.10.13"
  }
 },
 "nbformat": 4,
 "nbformat_minor": 2
}
