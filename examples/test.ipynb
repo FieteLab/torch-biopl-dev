{
 "cells": [
  {
   "cell_type": "code",
   "execution_count": 6,
   "metadata": {},
   "outputs": [
    {
     "ename": "AttributeError",
     "evalue": "'dict' object has no attribute 'e'",
     "output_type": "error",
     "traceback": [
      "\u001b[0;31m---------------------------------------------------------------------------\u001b[0m",
      "\u001b[0;31mAttributeError\u001b[0m                            Traceback (most recent call last)",
      "Cell \u001b[0;32mIn[6], line 5\u001b[0m\n\u001b[1;32m      3\u001b[0m d \u001b[38;5;241m=\u001b[39m \u001b[38;5;28mdict\u001b[39m(a\u001b[38;5;241m=\u001b[39m\u001b[38;5;241m1\u001b[39m, b\u001b[38;5;241m=\u001b[39m\u001b[38;5;241m2\u001b[39m, c\u001b[38;5;241m=\u001b[39m\u001b[38;5;241m3\u001b[39m, d\u001b[38;5;241m=\u001b[39m\u001b[38;5;28mdict\u001b[39m(e\u001b[38;5;241m=\u001b[39m\u001b[38;5;241m4\u001b[39m, f\u001b[38;5;241m=\u001b[39m\u001b[38;5;241m5\u001b[39m))\n\u001b[1;32m      4\u001b[0m s \u001b[38;5;241m=\u001b[39m SimpleNamespace(\u001b[38;5;241m*\u001b[39m\u001b[38;5;241m*\u001b[39md)\n\u001b[0;32m----> 5\u001b[0m \u001b[38;5;28mprint\u001b[39m(s\u001b[38;5;241m.\u001b[39ma, s\u001b[38;5;241m.\u001b[39mb, s\u001b[38;5;241m.\u001b[39mc, \u001b[43ms\u001b[49m\u001b[38;5;241;43m.\u001b[39;49m\u001b[43md\u001b[49m\u001b[38;5;241;43m.\u001b[39;49m\u001b[43me\u001b[49m)\n\u001b[1;32m      6\u001b[0m s\u001b[38;5;241m.\u001b[39ma \u001b[38;5;241m=\u001b[39m \u001b[38;5;241m4\u001b[39m\n\u001b[1;32m      7\u001b[0m \u001b[38;5;28mprint\u001b[39m(s\u001b[38;5;241m.\u001b[39ma, s\u001b[38;5;241m.\u001b[39mb, s\u001b[38;5;241m.\u001b[39mc)\n",
      "\u001b[0;31mAttributeError\u001b[0m: 'dict' object has no attribute 'e'"
     ]
    }
   ],
   "source": [
    "from types import SimpleNamespace\n",
    "\n",
    "d = dict(a=1, b=2, c=3, d=dict(e=4, f=5))\n",
    "s = SimpleNamespace(**d)\n",
    "print(s.a, s.b, s.c, s.d.e)\n",
    "s.a = 4\n",
    "print(s.a, s.b, s.c)"
   ]
  },
  {
   "cell_type": "code",
   "execution_count": null,
   "metadata": {},
   "outputs": [],
   "source": []
  },
  {
   "cell_type": "code",
   "execution_count": 1,
   "metadata": {},
   "outputs": [
    {
     "name": "stdout",
     "output_type": "stream",
     "text": [
      "/Users/valmiki/Code/bioplnn\n"
     ]
    },
    {
     "name": "stderr",
     "output_type": "stream",
     "text": [
      "/Users/valmiki/miniconda3/envs/python3.10/lib/python3.10/site-packages/IPython/core/magics/osm.py:393: UserWarning: using bookmarks requires you to install the `pickleshare` library.\n",
      "  bkms = self.shell.db.get('bookmarks', {})\n"
     ]
    }
   ],
   "source": [
    "%cd ~/Code/bioplnn"
   ]
  },
  {
   "cell_type": "code",
   "execution_count": 4,
   "metadata": {},
   "outputs": [
    {
     "name": "stdout",
     "output_type": "stream",
     "text": [
      "[WinError 3] The system cannot find the path specified: '/om2/user/valmiki/bioplnn/'\n",
      "c:\\Users\\valmi\\Code\\bioplnn\\examples\n"
     ]
    },
    {
     "name": "stderr",
     "output_type": "stream",
     "text": [
      "c:\\Users\\valmi\\miniconda3\\envs\\pytorch\\lib\\site-packages\\IPython\\core\\magics\\osm.py:393: UserWarning: using bookmarks requires you to install the `pickleshare` library.\n",
      "  bkms = self.shell.db.get('bookmarks', {})\n"
     ]
    }
   ],
   "source": [
    "%cd /om2/user/valmiki/bioplnn/"
   ]
  },
  {
   "cell_type": "code",
   "execution_count": 2,
   "metadata": {},
   "outputs": [],
   "source": [
    "import torch\n",
    "import torch.nn as nn\n",
    "import torch.nn.functional as F\n",
    "from torchvision import transforms\n",
    "import numpy as np\n",
    "import glob\n",
    "import scipy\n",
    "import os\n",
    "from bioplnn.dataset import CIFAR10_V1\n",
    "import matplotlib.pyplot as plt\n",
    "from bioplnn.utils import flatten_indices\n",
    "import torch_sparse\n",
    "import math\n",
    "\n",
    "device = torch.device(\"cuda\" if torch.cuda.is_available() else \"cpu\")\n",
    "\n",
    "\n",
    "def build_graph(path):\n",
    "    connection = {}\n",
    "    coordinates = []\n",
    "    Nunits = []\n",
    "    Adj = []\n",
    "    weight_path = glob.glob(os.path.join(path, \"*.npz\"))[0]\n",
    "    sparse_connection = scipy.sparse.load_npz(weight_path)\n",
    "    mask_path = glob.glob(os.path.join(path, \"*.npy\"))\n",
    "    if len(mask_path) == 1:\n",
    "        masks = np.load(mask_path[0])\n",
    "        layers = [np.stack(mask.nonzero()) for mask in masks[:-1]]\n",
    "        Ny = masks.shape[2]\n",
    "    else:\n",
    "        layers = [\"V1_indices\", \"V2_indices\", \"V3_indices\", \"V4_indices\"]\n",
    "        layers = [\n",
    "            np.load(os.path.join(path, f\"{layer}.npy\")) for layer in layers\n",
    "        ]\n",
    "        Ny = 300\n",
    "\n",
    "    for coor in layers:\n",
    "        coordinates.append(coor[0] * Ny + coor[1])\n",
    "\n",
    "    for i, incoming in enumerate(coordinates[:-1]):\n",
    "        adj = torch.from_numpy(\n",
    "            sparse_connection[coordinates[i + 1]][:, incoming].toarray()\n",
    "        ).float()\n",
    "        Adj.append(adj)\n",
    "\n",
    "    return Adj"
   ]
  },
  {
   "cell_type": "code",
   "execution_count": 40,
   "metadata": {},
   "outputs": [],
   "source": [
    "adj = torch.load(\"connection/sparse.pt\").coalesce()\n",
    "indices = adj.indices().long()\n",
    "identity = indices.unique().tile(2, 1)\n",
    "indices = torch.cat([indices, identity], 1)\n",
    "values = torch.ones(indices.shape[1])"
   ]
  },
  {
   "cell_type": "code",
   "execution_count": 42,
   "metadata": {},
   "outputs": [
    {
     "data": {
      "text/plain": [
       "190296"
      ]
     },
     "execution_count": 42,
     "metadata": {},
     "output_type": "execute_result"
    }
   ],
   "source": [
    "indices.shape[1]"
   ]
  },
  {
   "cell_type": "code",
   "execution_count": 35,
   "metadata": {},
   "outputs": [],
   "source": [
    "_, inv, fan_in = indices[0].unique(return_inverse=True, return_counts=True)\n",
    "scale = torch.sqrt(2 / fan_in.float())\n",
    "values = torch.randn(indices.shape[1]) * scale[inv]"
   ]
  },
  {
   "cell_type": "code",
   "execution_count": 39,
   "metadata": {},
   "outputs": [
    {
     "data": {
      "text/plain": [
       "tensor([0.4264, 0.4264, 0.4264,  ..., 1.0000, 0.4264, 1.0000])"
      ]
     },
     "execution_count": 39,
     "metadata": {},
     "output_type": "execute_result"
    }
   ],
   "source": [
    "scale[inv]"
   ]
  },
  {
   "cell_type": "code",
   "execution_count": 29,
   "metadata": {},
   "outputs": [],
   "source": [
    "fan_in = indices[0].unique(return_counts=True)[1].float().mean()\n",
    "fan_out = indices[1].unique(return_counts=True)[1].float().mean()\n",
    "values = torch.randn(indices.shape[1]) * math.sqrt(2 / (fan_in + fan_out))"
   ]
  },
  {
   "cell_type": "code",
   "execution_count": 20,
   "metadata": {},
   "outputs": [],
   "source": [
    "values = torch.randn(indices.shape[1])\n",
    "for i in range(2):\n",
    "    _, inv, count = indices[i].unique(return_inverse=True, return_counts=True)\n",
    "    scale = torch.sqrt(1 / count)\n",
    "    values[inv] = values[inv] * scale.repeat_interleave(count)"
   ]
  },
  {
   "cell_type": "code",
   "execution_count": 21,
   "metadata": {},
   "outputs": [
    {
     "data": {
      "text/plain": [
       "tensor([-0.0600,  0.0812, -0.2224,  ...,  0.0260,  0.0994,  1.5058])"
      ]
     },
     "execution_count": 21,
     "metadata": {},
     "output_type": "execute_result"
    }
   ],
   "source": [
    "values"
   ]
  },
  {
   "cell_type": "code",
   "execution_count": 12,
   "metadata": {},
   "outputs": [],
   "source": [
    "_, inv, count = indices[0].unique(return_inverse=True, return_counts=True)\n",
    "scale = torch.sqrt(1 / count)"
   ]
  },
  {
   "cell_type": "code",
   "execution_count": 14,
   "metadata": {},
   "outputs": [],
   "source": [
    "values = torch.randn(indices.shape[1]) * scale.repeat_interleave(count)"
   ]
  },
  {
   "cell_type": "code",
   "execution_count": 18,
   "metadata": {},
   "outputs": [
    {
     "data": {
      "text/plain": [
       "tensor([   35,    35,    35,  ..., 33479, 33750, 33750])"
      ]
     },
     "execution_count": 18,
     "metadata": {},
     "output_type": "execute_result"
    }
   ],
   "source": [
    "indices[0]"
   ]
  },
  {
   "cell_type": "code",
   "execution_count": 17,
   "metadata": {},
   "outputs": [
    {
     "data": {
      "text/plain": [
       "tensor([11, 11, 11,  ..., 11,  2,  2])"
      ]
     },
     "execution_count": 17,
     "metadata": {},
     "output_type": "execute_result"
    }
   ],
   "source": [
    "count.repeat_interleave(count)"
   ]
  },
  {
   "cell_type": "code",
   "execution_count": 15,
   "metadata": {},
   "outputs": [
    {
     "data": {
      "text/plain": [
       "tensor([ 0.4319, -0.3683,  0.1432,  ..., -0.1374, -0.0431,  0.1445])"
      ]
     },
     "execution_count": 15,
     "metadata": {},
     "output_type": "execute_result"
    }
   ],
   "source": [
    "values"
   ]
  },
  {
   "cell_type": "code",
   "execution_count": null,
   "metadata": {},
   "outputs": [],
   "source": []
  },
  {
   "cell_type": "code",
   "execution_count": 102,
   "metadata": {},
   "outputs": [],
   "source": [
    "adj = torch.load(\"connection/sparse.pt\").to(device).coalesce()\n",
    "indices = adj.indices().long()\n",
    "identity = indices.unique().tile(2, 1)\n",
    "indices_new = torch.cat([indices, identity], 1)\n",
    "values = torch.ones(indices_new.shape[1], device=device)\n",
    "adj_new = torch.sparse_coo_tensor(indices_new, values, adj.shape).coalesce()\n",
    "adj_inv = adj.t().coalesce()"
   ]
  },
  {
   "cell_type": "code",
   "execution_count": 103,
   "metadata": {},
   "outputs": [
    {
     "data": {
      "text/plain": [
       "tensor([[   35,    35,    35,  ..., 33479, 33479, 33750],\n",
       "        [   64,    68,    69,  ..., 28677, 28976, 29555]], device='cuda:0')"
      ]
     },
     "execution_count": 103,
     "metadata": {},
     "output_type": "execute_result"
    }
   ],
   "source": [
    "adj.indices()"
   ]
  },
  {
   "cell_type": "code",
   "execution_count": 104,
   "metadata": {},
   "outputs": [
    {
     "data": {
      "text/plain": [
       "tensor([[   50,    50,    50,  ..., 31363, 31363, 31363],\n",
       "        [   45,    49,   344,  ..., 32560, 32565, 32861]], device='cuda:0')"
      ]
     },
     "execution_count": 104,
     "metadata": {},
     "output_type": "execute_result"
    }
   ],
   "source": [
    "adj.t().coalesce().indices()"
   ]
  },
  {
   "cell_type": "code",
   "execution_count": 105,
   "metadata": {},
   "outputs": [
    {
     "data": {
      "text/plain": [
       "tensor([[   35,    35,    35,  ..., 33479, 33750, 33750],\n",
       "        [   35,    64,    68,  ..., 33479, 29555, 33750]], device='cuda:0')"
      ]
     },
     "execution_count": 105,
     "metadata": {},
     "output_type": "execute_result"
    }
   ],
   "source": [
    "adj_new.indices()"
   ]
  },
  {
   "cell_type": "code",
   "execution_count": 107,
   "metadata": {},
   "outputs": [
    {
     "data": {
      "text/plain": [
       "tensor([[   35,    36,    37,  ..., 33476, 33479, 33750],\n",
       "        [   35,    36,    37,  ..., 33476, 33479, 33750]], device='cuda:0')"
      ]
     },
     "execution_count": 107,
     "metadata": {},
     "output_type": "execute_result"
    }
   ],
   "source": [
    "adj_new.t().coalesce().indices()"
   ]
  },
  {
   "cell_type": "code",
   "execution_count": 109,
   "metadata": {},
   "outputs": [
    {
     "data": {
      "text/plain": [
       "tensor(17, device='cuda:0')"
      ]
     },
     "execution_count": 109,
     "metadata": {},
     "output_type": "execute_result"
    }
   ],
   "source": [
    "(adj.indices() == adj.t().coalesce().indices()).count_nonzero()"
   ]
  },
  {
   "cell_type": "code",
   "execution_count": null,
   "metadata": {},
   "outputs": [],
   "source": []
  },
  {
   "cell_type": "code",
   "execution_count": 111,
   "metadata": {},
   "outputs": [
    {
     "data": {
      "text/plain": [
       "tensor(8.9505, device='cuda:0')"
      ]
     },
     "execution_count": 111,
     "metadata": {},
     "output_type": "execute_result"
    }
   ],
   "source": [
    "adj_new.indices()[0].unique(return_counts=True)[1].float().mean()"
   ]
  },
  {
   "cell_type": "code",
   "execution_count": 94,
   "metadata": {},
   "outputs": [
    {
     "data": {
      "text/plain": [
       "tensor(9.9991)"
      ]
     },
     "execution_count": 94,
     "metadata": {},
     "output_type": "execute_result"
    }
   ],
   "source": [
    "indices[1].unique(return_counts=True)[1].float().mean()"
   ]
  },
  {
   "cell_type": "code",
   "execution_count": null,
   "metadata": {},
   "outputs": [
    {
     "data": {
      "text/plain": [
       "tensor(8.9505)"
      ]
     },
     "metadata": {},
     "output_type": "display_data"
    }
   ],
   "source": [
    "adj.indices()[0].unique(return_counts=True)[1].float().mean()"
   ]
  },
  {
   "cell_type": "code",
   "execution_count": 64,
   "metadata": {},
   "outputs": [
    {
     "data": {
      "text/plain": [
       "tensor([[   35,    35,    35,  ..., 33479, 33750, 33750],\n",
       "        [   35,    64,    68,  ..., 33479, 29555, 33750]])"
      ]
     },
     "execution_count": 64,
     "metadata": {},
     "output_type": "execute_result"
    }
   ],
   "source": [
    "adj.indices()"
   ]
  },
  {
   "cell_type": "code",
   "execution_count": 68,
   "metadata": {},
   "outputs": [
    {
     "data": {
      "text/plain": [
       "tensor([[   35,    36,    37,  ..., 33476, 33479, 33750],\n",
       "        [   35,    36,    37,  ..., 33476, 33479, 33750]])"
      ]
     },
     "execution_count": 68,
     "metadata": {},
     "output_type": "execute_result"
    }
   ],
   "source": [
    "adj_inv.indices()"
   ]
  },
  {
   "cell_type": "code",
   "execution_count": 96,
   "metadata": {},
   "outputs": [
    {
     "data": {
      "text/plain": [
       "tensor(0)"
      ]
     },
     "execution_count": 96,
     "metadata": {},
     "output_type": "execute_result"
    }
   ],
   "source": [
    "(indices[0] == indices[1]).count_nonzero()"
   ]
  },
  {
   "cell_type": "code",
   "execution_count": 55,
   "metadata": {},
   "outputs": [
    {
     "data": {
      "text/plain": [
       "tensor(21261)"
      ]
     },
     "execution_count": 55,
     "metadata": {},
     "output_type": "execute_result"
    }
   ],
   "source": [
    "(indices[0] == indices[1]).count_nonzero()"
   ]
  },
  {
   "cell_type": "code",
   "execution_count": 42,
   "metadata": {},
   "outputs": [
    {
     "data": {
      "text/plain": [
       "tensor(9.9991)"
      ]
     },
     "execution_count": 42,
     "metadata": {},
     "output_type": "execute_result"
    }
   ],
   "source": [
    "indices_new[1].unique(return_counts=True)[1].float().mean()"
   ]
  },
  {
   "cell_type": "code",
   "execution_count": 26,
   "metadata": {},
   "outputs": [
    {
     "data": {
      "text/plain": [
       "tensor(0.)"
      ]
     },
     "execution_count": 26,
     "metadata": {},
     "output_type": "execute_result"
    }
   ],
   "source": [
    "adj[0, 0]"
   ]
  },
  {
   "cell_type": "code",
   "execution_count": null,
   "metadata": {},
   "outputs": [],
   "source": [
    "connections = adj.to_dense().count_nonzero(dim=1)\n",
    "connections[connections.nonzero(as_tuple=True)].float().mean()"
   ]
  },
  {
   "cell_type": "code",
   "execution_count": 12,
   "metadata": {},
   "outputs": [
    {
     "data": {
      "text/plain": [
       "tensor(8.9505)"
      ]
     },
     "execution_count": 12,
     "metadata": {},
     "output_type": "execute_result"
    }
   ],
   "source": [
    "indices[1].unique(return_counts=True)[1].float().mean()"
   ]
  },
  {
   "cell_type": "code",
   "execution_count": 1,
   "metadata": {},
   "outputs": [
    {
     "ename": "NameError",
     "evalue": "name 'torch' is not defined",
     "output_type": "error",
     "traceback": [
      "\u001b[0;31m---------------------------------------------------------------------------\u001b[0m",
      "\u001b[0;31mNameError\u001b[0m                                 Traceback (most recent call last)",
      "Cell \u001b[0;32mIn[1], line 3\u001b[0m\n\u001b[1;32m      1\u001b[0m path \u001b[38;5;241m=\u001b[39m \u001b[38;5;124m\"\u001b[39m\u001b[38;5;124mconnection\u001b[39m\u001b[38;5;124m\"\u001b[39m\n\u001b[1;32m      2\u001b[0m sparse_connection \u001b[38;5;241m=\u001b[39m (\n\u001b[0;32m----> 3\u001b[0m     \u001b[43mtorch\u001b[49m\u001b[38;5;241m.\u001b[39mload(os\u001b[38;5;241m.\u001b[39mpath\u001b[38;5;241m.\u001b[39mjoin(path, \u001b[38;5;124m\"\u001b[39m\u001b[38;5;124msparse.pt\u001b[39m\u001b[38;5;124m\"\u001b[39m))\u001b[38;5;241m.\u001b[39mcoalesce()\u001b[38;5;241m.\u001b[39mto(device)\n\u001b[1;32m      4\u001b[0m )\n",
      "\u001b[0;31mNameError\u001b[0m: name 'torch' is not defined"
     ]
    }
   ],
   "source": [
    "path = \"connection\"\n",
    "sparse_connection = (\n",
    "    torch.load(os.path.join(path, \"sparse.pt\")).coalesce().to(device)\n",
    ")"
   ]
  },
  {
   "cell_type": "code",
   "execution_count": 68,
   "metadata": {},
   "outputs": [],
   "source": [
    "indices = sparse_connection.indices().to(device)\n",
    "identity = indices.unique().tile(2, 1)\n",
    "indices = torch.cat([indices, identity], 1)\n",
    "values = torch.ones(indices.shape[1], device=device)"
   ]
  },
  {
   "cell_type": "code",
   "execution_count": 79,
   "metadata": {},
   "outputs": [],
   "source": [
    "w = torch.sparse_coo_tensor(\n",
    "    indices, values, sparse_connection.shape, device=device\n",
    ").coalesce()"
   ]
  },
  {
   "cell_type": "code",
   "execution_count": 80,
   "metadata": {},
   "outputs": [],
   "source": [
    "inverse_indices = torch.stack((indices[1], indices[0]))\n",
    "w_inv = torch.sparse_coo_tensor(\n",
    "    inverse_indices, values, sparse_connection.shape, device=device\n",
    ").coalesce()"
   ]
  },
  {
   "cell_type": "code",
   "execution_count": null,
   "metadata": {},
   "outputs": [],
   "source": []
  },
  {
   "cell_type": "code",
   "execution_count": 65,
   "metadata": {},
   "outputs": [
    {
     "data": {
      "text/plain": [
       "torch.Size([21261])"
      ]
     },
     "execution_count": 65,
     "metadata": {},
     "output_type": "execute_result"
    }
   ],
   "source": [
    "indices[0].unique().shape"
   ]
  },
  {
   "cell_type": "code",
   "execution_count": 67,
   "metadata": {},
   "outputs": [
    {
     "data": {
      "text/plain": [
       "tensor([-1.2241, -0.6700, -1.5396,  ...,  1.4833, -0.2677,  1.8373],\n",
       "       device='cuda:0', dtype=torch.float64)"
      ]
     },
     "execution_count": 67,
     "metadata": {},
     "output_type": "execute_result"
    }
   ],
   "source": [
    "sparse_connection.values()"
   ]
  },
  {
   "cell_type": "code",
   "execution_count": 31,
   "metadata": {},
   "outputs": [
    {
     "data": {
      "text/plain": [
       "tensor(10.8862, device='cuda:0')"
      ]
     },
     "execution_count": 31,
     "metadata": {},
     "output_type": "execute_result"
    }
   ],
   "source": [
    "connections = sparse_connection.count_nonzero(dim=1)\n",
    "connections[connections.nonzero(as_tuple=True)].float().mean()"
   ]
  },
  {
   "cell_type": "code",
   "execution_count": 23,
   "metadata": {},
   "outputs": [],
   "source": [
    "layers = [\"V1_indices\", \"V2_indices\", \"V3_indices\", \"V4_indices\"]\n",
    "coordinates = [\n",
    "    torch.tensor(np.load(os.path.join(path, f\"{layer}.npy\")))\n",
    "    for layer in layers\n",
    "]\n",
    "Ny = 300\n",
    "coordinates1d = [flatten_indices(coor) for coor in coordinates]\n",
    "for coor, layer in zip(coordinates, layers):\n",
    "    torch.save(coor, os.path.join(path, f\"{layer}.pt\"))\n",
    "for coor, layer in zip(coordinates1d, layers):\n",
    "    torch.save(coor, os.path.join(path, f\"{layer}_flat.pt\"))"
   ]
  },
  {
   "cell_type": "code",
   "execution_count": 28,
   "metadata": {},
   "outputs": [
    {
     "name": "stdout",
     "output_type": "stream",
     "text": [
      "torch.Size([16, 3, 1024])\n"
     ]
    },
    {
     "data": {
      "text/plain": [
       "torch.Size([16, 1024])"
      ]
     },
     "execution_count": 28,
     "metadata": {},
     "output_type": "execute_result"
    }
   ],
   "source": [
    "x = torch.zeros(16, 3, 1024)\n",
    "x = x.flatten(2)\n",
    "print(x.shape)\n",
    "x.mean(dim=1).shape"
   ]
  },
  {
   "cell_type": "code",
   "execution_count": 22,
   "metadata": {},
   "outputs": [],
   "source": [
    "for layer in layers:\n",
    "    os.remove(os.path.join(path, f\"{layer}_flat.pt\"))"
   ]
  },
  {
   "cell_type": "code",
   "execution_count": 16,
   "metadata": {},
   "outputs": [],
   "source": [
    "sparse_connection = sparse_connection.to(\"cuda\")"
   ]
  },
  {
   "cell_type": "code",
   "execution_count": 29,
   "metadata": {},
   "outputs": [
    {
     "data": {
      "text/plain": [
       "tensor([   50,    51,    52,  ..., 31361, 31362, 31363], device='cuda:0')"
      ]
     },
     "execution_count": 29,
     "metadata": {},
     "output_type": "execute_result"
    }
   ],
   "source": [
    "indices = sparse_connection.indices()\n",
    "indices[1, :].unique()"
   ]
  },
  {
   "cell_type": "code",
   "execution_count": null,
   "metadata": {},
   "outputs": [],
   "source": [
    "weight_path = os.path.join(path, \"sparse.npz\")\n",
    "sparse_connection = scipy.sparse.load_npz(weight_path)"
   ]
  },
  {
   "cell_type": "code",
   "execution_count": 36,
   "metadata": {},
   "outputs": [],
   "source": [
    "values = torch.ones_like(coordinates[0]).float()"
   ]
  },
  {
   "cell_type": "code",
   "execution_count": 42,
   "metadata": {},
   "outputs": [],
   "source": [
    "pic = torch.ones(150, 300)\n",
    "for coordinate in coordinates:\n",
    "    pic[coordinate[0], coordinate[1]] = 0"
   ]
  },
  {
   "cell_type": "code",
   "execution_count": 43,
   "metadata": {},
   "outputs": [
    {
     "data": {
      "text/plain": [
       "<matplotlib.image.AxesImage at 0x152bd372d2a0>"
      ]
     },
     "execution_count": 43,
     "metadata": {},
     "output_type": "execute_result"
    },
    {
     "data": {
      "image/png": "[encoded data removed]",
      "text/plain": [
       "<Figure size 640x480 with 1 Axes>"
      ]
     },
     "metadata": {},
     "output_type": "display_data"
    }
   ],
   "source": [
    "import matplotlib.pyplot as plt\n",
    "\n",
    "plt.imshow(pic)"
   ]
  },
  {
   "cell_type": "code",
   "execution_count": null,
   "metadata": {},
   "outputs": [],
   "source": [
    "torch.sparse_coo_tensor(\n",
    "    coordinates[0], values, (150, 300), device=\"cuda\"\n",
    ").to_dense()"
   ]
  }
 ],
 "metadata": {
  "kernelspec": {
   "display_name": "python3.10",
   "language": "python",
   "name": "python3"
  },
  "language_info": {
   "codemirror_mode": {
    "name": "ipython",
    "version": 3
   },
   "file_extension": ".py",
   "mimetype": "text/x-python",
   "name": "python",
   "nbconvert_exporter": "python",
   "pygments_lexer": "ipython3",
   "version": "3.10.13"
  }
 },
 "nbformat": 4,
 "nbformat_minor": 2
}
