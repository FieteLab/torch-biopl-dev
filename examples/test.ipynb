{
 "cells": [
  {
   "cell_type": "code",
   "execution_count": 12,
   "metadata": {},
   "outputs": [
    {
     "name": "stdout",
     "output_type": "stream",
     "text": [
      "/rdma/vast-rdma/user/valmiki/bioplnn\n"
     ]
    },
    {
     "name": "stderr",
     "output_type": "stream",
     "text": [
      "/om2/user/valmiki/miniconda/envs/pytorch-3.10/lib/python3.10/site-packages/IPython/core/magics/osm.py:417: UserWarning: using dhist requires you to install the `pickleshare` library.\n",
      "  self.shell.db['dhist'] = compress_dhist(dhist)[-100:]\n"
     ]
    }
   ],
   "source": [
    "%cd /om2/user/valmiki/bioplnn/"
   ]
  },
  {
   "cell_type": "code",
   "execution_count": 13,
   "metadata": {},
   "outputs": [],
   "source": [
    "import torch\n",
    "import torch.nn as nn\n",
    "import torch.nn.functional as F\n",
    "from torchvision import transforms\n",
    "import numpy as np\n",
    "import glob\n",
    "import scipy\n",
    "import os\n",
    "from bioplnn.dataset import CIFAR10_V1\n",
    "import matplotlib.pyplot as plt\n",
    "from bioplnn.utils import flatten_indices\n"
   ]
  },
  {
   "cell_type": "code",
   "execution_count": 3,
   "metadata": {},
   "outputs": [
    {
     "name": "stdout",
     "output_type": "stream",
     "text": [
      "Files already downloaded and verified\n"
     ]
    }
   ],
   "source": [
    "transform = transforms.Compose(\n",
    "            [transforms.ToTensor()])\n",
    "trainset = CIFAR10_V1(root='./data', train=True, retina_path=\"connection\",\n",
    "                                    download=True, transform=transform)"
   ]
  },
  {
   "cell_type": "code",
   "execution_count": 14,
   "metadata": {},
   "outputs": [
    {
     "data": {
      "text/plain": [
       "<matplotlib.image.AxesImage at 0x1484e4aac130>"
      ]
     },
     "execution_count": 14,
     "metadata": {},
     "output_type": "execute_result"
    },
    {
     "data": {
      "image/png": "[encoded data removed]",
      "text/plain": [
       "<Figure size 640x480 with 1 Axes>"
      ]
     },
     "metadata": {},
     "output_type": "display_data"
    }
   ],
   "source": [
    "plt.imshow(trainset[0][0].transpose(0, 2))"
   ]
  },
  {
   "cell_type": "code",
   "execution_count": null,
   "metadata": {},
   "outputs": [],
   "source": [
    "class ConvRNN(nn.Module):\n",
    "    def __init__(self, input_size, kernel_size):\n",
    "        super(ConvRNN, self).__init__()\n",
    "        self.conv = nn.Conv2d(input_size, input_size, kernel_size, padding=1)\n",
    "        self.conv.register_full_backward_hook(lambda _, __, ___: print(1))\n",
    "\n",
    "    def forward(self, x):\n",
    "        for _ in range(10):\n",
    "            x = F.relu(self.conv(x))\n",
    "        return x\n",
    "\n",
    "# Example usage\n",
    "input_size = 3\n",
    "kernel_size = 3\n",
    "height = 32\n",
    "width = 32\n",
    "\n",
    "model = ConvRNN(input_size, kernel_size)\n",
    "input_data = torch.randn(16, input_size, height, width)\n",
    "output = model(input_data)\n",
    "loss = output.sum()\n",
    "loss.backward()\n"
   ]
  },
  {
   "cell_type": "code",
   "execution_count": 3,
   "metadata": {},
   "outputs": [
    {
     "name": "stdout",
     "output_type": "stream",
     "text": [
      "1\n"
     ]
    }
   ],
   "source": [
    "x = torch.randn(16, 3, 32, 32, requires_grad=True)\n",
    "conv = torch.nn.Conv2d(3, 3, 3, padding=1)\n",
    "conv.weight.register_hook(lambda grad: print(1))\n",
    "for _ in range(10):\n",
    "    x = F.relu(conv(x))\n",
    "loss = x.sum()\n",
    "loss.backward()"
   ]
  },
  {
   "cell_type": "code",
   "execution_count": 3,
   "metadata": {},
   "outputs": [],
   "source": [
    "def build_graph(path):\n",
    "    connection = {}\n",
    "    coordinates = []\n",
    "    Nunits = []\n",
    "    Adj = []\n",
    "    weight_path = glob.glob(os.path.join(path, '*.npz'))[0]\n",
    "    sparse_connection = scipy.sparse.load_npz(weight_path)\n",
    "    mask_path = glob.glob(os.path.join(path, '*.npy'))\n",
    "    if len(mask_path) == 1:\n",
    "        masks = np.load(mask_path[0])\n",
    "        layers = [np.stack(mask.nonzero()) for mask in masks[:-1]]\n",
    "        Ny = masks.shape[2]\n",
    "    else:\n",
    "        layers = ['V1_indices', 'V2_indices', 'V3_indices', 'V4_indices']\n",
    "        layers = [np.load(os.path.join(path, f'{layer}.npy')) for layer in layers]\n",
    "        Ny = 300\n",
    "    \n",
    "    for coor in layers:\n",
    "        coordinates.append(coor[0] * Ny + coor[1])\n",
    "\n",
    "    for i, incoming in enumerate(coordinates[:-1]):\n",
    "        adj = torch.from_numpy(sparse_connection[coordinates[i+1]][:, incoming].toarray()).float()\n",
    "        Adj.append(adj)\n",
    "\n",
    "    return Adj"
   ]
  },
  {
   "cell_type": "code",
   "execution_count": 14,
   "metadata": {},
   "outputs": [],
   "source": [
    "path = \"connection\"\n",
    "weight_path = os.path.join(path, 'sparse.npz')\n",
    "sparse_connection = scipy.sparse.load_npz(weight_path)"
   ]
  },
  {
   "cell_type": "code",
   "execution_count": 15,
   "metadata": {},
   "outputs": [],
   "source": [
    "sparse_connection = torch.load(os.path.join(path, 'sparse.pt')).coalesce()"
   ]
  },
  {
   "cell_type": "code",
   "execution_count": 23,
   "metadata": {},
   "outputs": [],
   "source": [
    "layers = ['V1_indices', 'V2_indices', 'V3_indices', 'V4_indices']\n",
    "coordinates = [torch.tensor(np.load(os.path.join(path, f'{layer}.npy'))) for layer in layers]\n",
    "Ny = 300\n",
    "coordinates1d = [flatten_indices(coor) for coor in coordinates]\n",
    "for coor, layer in zip(coordinates, layers):\n",
    "    torch.save(coor, os.path.join(path, f'{layer}.pt'))\n",
    "for coor, layer in zip(coordinates1d, layers):\n",
    "    torch.save(coor, os.path.join(path, f'{layer}_flat.pt'))"
   ]
  },
  {
   "cell_type": "code",
   "execution_count": 28,
   "metadata": {},
   "outputs": [
    {
     "name": "stdout",
     "output_type": "stream",
     "text": [
      "torch.Size([16, 3, 1024])\n"
     ]
    },
    {
     "data": {
      "text/plain": [
       "torch.Size([16, 1024])"
      ]
     },
     "execution_count": 28,
     "metadata": {},
     "output_type": "execute_result"
    }
   ],
   "source": [
    "x = torch.zeros(16, 3, 1024)\n",
    "x = x.flatten(2)\n",
    "print(x.shape)\n",
    "x.mean(dim=1).shape"
   ]
  },
  {
   "cell_type": "code",
   "execution_count": 22,
   "metadata": {},
   "outputs": [],
   "source": [
    "for layer in layers:\n",
    "    os.remove(os.path.join(path, f'{layer}_flat.pt'))"
   ]
  },
  {
   "cell_type": "code",
   "execution_count": 16,
   "metadata": {},
   "outputs": [],
   "source": [
    "sparse_connection = sparse_connection.to('cuda')"
   ]
  },
  {
   "cell_type": "code",
   "execution_count": 29,
   "metadata": {},
   "outputs": [
    {
     "data": {
      "text/plain": [
       "tensor([   50,    51,    52,  ..., 31361, 31362, 31363], device='cuda:0')"
      ]
     },
     "execution_count": 29,
     "metadata": {},
     "output_type": "execute_result"
    }
   ],
   "source": [
    "indices = sparse_connection.indices()\n",
    "indices[1,:].unique()"
   ]
  },
  {
   "cell_type": "code",
   "execution_count": 36,
   "metadata": {},
   "outputs": [],
   "source": [
    "values = torch.ones_like(coordinates[0]).float()"
   ]
  },
  {
   "cell_type": "code",
   "execution_count": 42,
   "metadata": {},
   "outputs": [],
   "source": [
    "pic = torch.ones(150, 300)\n",
    "for coordinate in coordinates:\n",
    "    pic[coordinate[0], coordinate[1]] = 0"
   ]
  },
  {
   "cell_type": "code",
   "execution_count": 43,
   "metadata": {},
   "outputs": [
    {
     "data": {
      "text/plain": [
       "<matplotlib.image.AxesImage at 0x152bd372d2a0>"
      ]
     },
     "execution_count": 43,
     "metadata": {},
     "output_type": "execute_result"
    },
    {
     "data": {
      "image/png": "[encoded data removed]",
      "text/plain": [
       "<Figure size 640x480 with 1 Axes>"
      ]
     },
     "metadata": {},
     "output_type": "display_data"
    }
   ],
   "source": [
    "import matplotlib.pyplot as plt\n",
    "plt.imshow(pic)"
   ]
  },
  {
   "cell_type": "code",
   "execution_count": null,
   "metadata": {},
   "outputs": [],
   "source": [
    "torch.sparse_coo_tensor(coordinates[0], values, (150, 300), device='cuda').to_dense()"
   ]
  }
 ],
 "metadata": {
  "kernelspec": {
   "display_name": "python3.10",
   "language": "python",
   "name": "python3"
  },
  "language_info": {
   "codemirror_mode": {
    "name": "ipython",
    "version": 3
   },
   "file_extension": ".py",
   "mimetype": "text/x-python",
   "name": "python",
   "nbconvert_exporter": "python",
   "pygments_lexer": "ipython3",
   "version": "3.10.13"
  }
 },
 "nbformat": 4,
 "nbformat_minor": 2
}
