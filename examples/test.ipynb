{
 "cells": [
  {
   "cell_type": "code",
   "execution_count": 3,
   "metadata": {},
   "outputs": [],
   "source": [
    "import torch\n",
    "import torch.nn as nn\n",
    "import torch.nn.functional as F"
   ]
  },
  {
   "cell_type": "code",
   "execution_count": 17,
   "metadata": {},
   "outputs": [
    {
     "name": "stdout",
     "output_type": "stream",
     "text": [
      "1\n",
      "1\n",
      "1\n",
      "1\n",
      "1\n",
      "1\n",
      "1\n",
      "1\n",
      "1\n",
      "1\n"
     ]
    }
   ],
   "source": [
    "import torch\n",
    "import torch.nn as nn\n",
    "\n",
    "class ConvRNN(nn.Module):\n",
    "    def __init__(self, input_size, kernel_size):\n",
    "        super(ConvRNN, self).__init__()\n",
    "        self.conv = nn.Conv2d(input_size, input_size, kernel_size, padding=1)\n",
    "        self.conv.register_full_backward_hook(lambda _, __, ___: print(1))\n",
    "\n",
    "    def forward(self, x):\n",
    "        for _ in range(10):\n",
    "            x = F.relu(self.conv(x))\n",
    "        return x\n",
    "\n",
    "# Example usage\n",
    "input_size = 3\n",
    "kernel_size = 3\n",
    "height = 32\n",
    "width = 32\n",
    "\n",
    "model = ConvRNN(input_size, kernel_size)\n",
    "input_data = torch.randn(16, input_size, height, width)\n",
    "output = model(input_data)\n",
    "loss = output.sum()\n",
    "loss.backward()\n"
   ]
  },
  {
   "cell_type": "code",
   "execution_count": 11,
   "metadata": {},
   "outputs": [
    {
     "name": "stdout",
     "output_type": "stream",
     "text": [
      "1\n"
     ]
    }
   ],
   "source": [
    "x = torch.randn(16, 3, 32, 32, requires_grad=True)\n",
    "conv = torch.nn.Conv2d(3, 3, 3, padding=1)\n",
    "conv.weight.register_hook(lambda grad: print(1))\n",
    "for _ in range(10):\n",
    "    x = F.relu(conv(x))\n",
    "loss = x.sum()\n",
    "loss.backward()\n"
   ]
  },
  {
   "cell_type": "code",
   "execution_count": null,
   "metadata": {},
   "outputs": [],
   "source": []
  }
 ],
 "metadata": {
  "kernelspec": {
   "display_name": "python3.10",
   "language": "python",
   "name": "python3"
  },
  "language_info": {
   "codemirror_mode": {
    "name": "ipython",
    "version": 3
   },
   "file_extension": ".py",
   "mimetype": "text/x-python",
   "name": "python",
   "nbconvert_exporter": "python",
   "pygments_lexer": "ipython3",
   "version": "3.10.13"
  }
 },
 "nbformat": 4,
 "nbformat_minor": 2
}
