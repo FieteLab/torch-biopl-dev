{
 "cells": [
  {
   "cell_type": "code",
   "execution_count": 4,
   "metadata": {},
   "outputs": [
    {
     "name": "stdout",
     "output_type": "stream",
     "text": [
      "/rdma/vast-rdma/user/valmiki/bioplnn\n"
     ]
    },
    {
     "name": "stderr",
     "output_type": "stream",
     "text": [
      "/om2/user/valmiki/miniconda/envs/pytorch-3.10/lib/python3.10/site-packages/IPython/core/magics/osm.py:417: UserWarning: using dhist requires you to install the `pickleshare` library.\n",
      "  self.shell.db['dhist'] = compress_dhist(dhist)[-100:]\n"
     ]
    }
   ],
   "source": [
    "%cd /om2/user/valmiki/bioplnn/"
   ]
  },
  {
   "cell_type": "code",
   "execution_count": null,
   "metadata": {},
   "outputs": [],
   "source": [
    "import torch\n",
    "import torch.nn as nn\n",
    "import torch.nn.functional as F\n",
    "\n",
    "class ConvRNN(nn.Module):\n",
    "    def __init__(self, input_size, kernel_size):\n",
    "        super(ConvRNN, self).__init__()\n",
    "        self.conv = nn.Conv2d(input_size, input_size, kernel_size, padding=1)\n",
    "        self.conv.register_full_backward_hook(lambda _, __, ___: print(1))\n",
    "\n",
    "    def forward(self, x):\n",
    "        for _ in range(10):\n",
    "            x = F.relu(self.conv(x))\n",
    "        return x\n",
    "\n",
    "# Example usage\n",
    "input_size = 3\n",
    "kernel_size = 3\n",
    "height = 32\n",
    "width = 32\n",
    "\n",
    "model = ConvRNN(input_size, kernel_size)\n",
    "input_data = torch.randn(16, input_size, height, width)\n",
    "output = model(input_data)\n",
    "loss = output.sum()\n",
    "loss.backward()\n"
   ]
  },
  {
   "cell_type": "code",
   "execution_count": null,
   "metadata": {},
   "outputs": [],
   "source": [
    "x = torch.randn(16, 3, 32, 32, requires_grad=True)\n",
    "conv = torch.nn.Conv2d(3, 3, 3, padding=1)\n",
    "conv.weight.register_hook(lambda grad: print(1))\n",
    "for _ in range(10):\n",
    "    x = F.relu(conv(x))\n",
    "loss = x.sum()\n",
    "loss.backward()"
   ]
  },
  {
   "cell_type": "code",
   "execution_count": 5,
   "metadata": {},
   "outputs": [],
   "source": [
    "import numpy as np\n",
    "import glob\n",
    "import scipy\n",
    "import os\n",
    "import torch\n",
    "\n",
    "def build_graph(path):\n",
    "    connection = {}\n",
    "    coordinates = []\n",
    "    Nunits = []\n",
    "    Adj = []\n",
    "    weight_path = glob.glob(os.path.join(path, '*.npz'))[0]\n",
    "    sparse_connection = scipy.sparse.load_npz(weight_path)\n",
    "    mask_path = glob.glob(os.path.join(path, '*.npy'))\n",
    "    if len(mask_path) == 1:\n",
    "        masks = np.load(mask_path[0])\n",
    "        layers = [np.stack(mask.nonzero()) for mask in masks[:-1]]\n",
    "        Ny = masks.shape[2]\n",
    "    else:\n",
    "        layers = ['V1_indices', 'V2_indices', 'V3_indices', 'V4_indices']\n",
    "        layers = [np.load(os.path.join(path, f'{layer}.npy')) for layer in layers]\n",
    "        Ny = 300\n",
    "    \n",
    "    for coor in layers:\n",
    "        coordinates.append(coor[0] * Ny + coor[1])\n",
    "\n",
    "    for i, incoming in enumerate(coordinates[:-1]):\n",
    "        adj = torch.from_numpy(sparse_connection[coordinates[i+1]][:, incoming].toarray()).float()\n",
    "        Adj.append(adj)\n",
    "\n",
    "    return Adj"
   ]
  },
  {
   "cell_type": "code",
   "execution_count": 11,
   "metadata": {},
   "outputs": [],
   "source": [
    "path = \"connection\"\n",
    "weight_path = glob.glob(os.path.join(path, '*.npz'))[0]\n",
    "sparse_connection = scipy.sparse.load_npz(weight_path)"
   ]
  },
  {
   "cell_type": "code",
   "execution_count": 12,
   "metadata": {},
   "outputs": [],
   "source": [
    "layers = ['V1_indices', 'V2_indices', 'V3_indices', 'V4_indices']\n",
    "layers = [np.load(os.path.join(path, f'{layer}.npy')) for layer in layers]\n",
    "Ny = 300\n",
    "\n",
    "coordinates = []\n",
    "for coor in layers:\n",
    "    coordinates.append(coor[0] * Ny + coor[1])"
   ]
  },
  {
   "cell_type": "code",
   "execution_count": 19,
   "metadata": {},
   "outputs": [],
   "source": [
    "adj = build_graph(path)"
   ]
  },
  {
   "cell_type": "code",
   "execution_count": 26,
   "metadata": {},
   "outputs": [
    {
     "data": {
      "text/plain": [
       "<45000x45000 sparse matrix of type '<class 'numpy.float64'>'\n",
       "\twith 169035 stored elements in COOrdinate format>"
      ]
     },
     "execution_count": 26,
     "metadata": {},
     "output_type": "execute_result"
    }
   ],
   "source": [
    "sparse_connection = scipy.sparse.load_npz(weight_path).tocoo()\n",
    "values = sparse_connection.data\n",
    "indices = np.vstack((sparse_connection.row, sparse_connection.col))\n"
   ]
  },
  {
   "cell_type": "code",
   "execution_count": 25,
   "metadata": {},
   "outputs": [
    {
     "data": {
      "text/plain": [
       "scipy.sparse._csr.csr_matrix"
      ]
     },
     "execution_count": 25,
     "metadata": {},
     "output_type": "execute_result"
    }
   ],
   "source": [
    "type(sparse_connection)"
   ]
  },
  {
   "cell_type": "code",
   "execution_count": 24,
   "metadata": {},
   "outputs": [
    {
     "data": {
      "text/plain": [
       "torch.Size([4299, 4244])"
      ]
     },
     "execution_count": 24,
     "metadata": {},
     "output_type": "execute_result"
    }
   ],
   "source": [
    "adj[2].shape"
   ]
  }
 ],
 "metadata": {
  "kernelspec": {
   "display_name": "python3.10",
   "language": "python",
   "name": "python3"
  },
  "language_info": {
   "codemirror_mode": {
    "name": "ipython",
    "version": 3
   },
   "file_extension": ".py",
   "mimetype": "text/x-python",
   "name": "python",
   "nbconvert_exporter": "python",
   "pygments_lexer": "ipython3",
   "version": "3.10.13"
  }
 },
 "nbformat": 4,
 "nbformat_minor": 2
}
