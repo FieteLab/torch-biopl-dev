{
 "cells": [
  {
   "cell_type": "code",
   "execution_count": null,
   "metadata": {},
   "outputs": [],
   "source": [
    "import torch\n",
    "\n",
    "activations = torch.load(\n",
    "    \"activations/ei/mazes/daily-armadillo-3361/activations.pt\"\n",
    ")\n",
    "N = 6\n",
    "res = {\n",
    "    \"color\": [[] for _ in range(N)],\n",
    "    \"shape\": [[] for _ in range(N)],\n",
    "    \"conjunction\": [[] for _ in range(N)],\n",
    "}\n",
    "\n",
    "for sample in activations:\n",
    "    lst = res[sample[\"mode\"][0]][sample[\"label\"].item()]\n",
    "    lst.append(sample)\n",
    "torch.save(\n",
    "    res, \"activations/ei/qclevr/true-water-3342/every/summary_qclevr_post.pt\"\n",
    ")\n",
    "for key in res:\n",
    "    for i in range(N):\n",
    "        print(key, i, len(res[key][i]))"
   ]
  },
  {
   "cell_type": "code",
   "execution_count": null,
   "metadata": {},
   "outputs": [],
   "source": []
  }
 ],
 "metadata": {
  "kernelspec": {
   "display_name": "pytorch",
   "language": "python",
   "name": "python3"
  },
  "language_info": {
   "codemirror_mode": {
    "name": "ipython",
    "version": 3
   },
   "file_extension": ".py",
   "mimetype": "text/x-python",
   "name": "python",
   "nbconvert_exporter": "python",
   "pygments_lexer": "ipython3",
   "version": "3.12.7"
  }
 },
 "nbformat": 4,
 "nbformat_minor": 2
}
